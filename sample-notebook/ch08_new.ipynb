{
  "cells": [
    {
      "cell_type": "markdown",
      "metadata": {
        "id": "UGYhzH3nn9RE"
      },
      "source": [
        "### 二値分類モデル　改訂版"
      ]
    },
    {
      "cell_type": "markdown",
      "metadata": {},
      "source": [
        "<a href=\"https://colab.research.google.com/github/makaishi2/math_dl_book_info/blob/master/sample-notebook/ch08_new.ipynb\" target=\"_parent\"><img src=\"https://colab.research.google.com/assets/colab-badge.svg\" alt=\"Open In Colab\"/></a>"
      ]
    },
    {
      "cell_type": "markdown",
      "metadata": {
        "id": "ZYvxdnaOoHOC"
      },
      "source": [
        "### 必要ライブラリの導入"
      ]
    },
    {
      "cell_type": "code",
      "execution_count": null,
      "metadata": {
        "id": "cO95dJPcn2KM"
      },
      "outputs": [],
      "source": [
        "# 日本語化ライブラリ導入\n",
        "!pip install japanize-matplotlib -qq"
      ]
    },
    {
      "cell_type": "code",
      "execution_count": null,
      "metadata": {
        "id": "m1NadAIJoCMi"
      },
      "outputs": [],
      "source": [
        "# 共通事前処理\n",
        "\n",
        "# 必要ライブラリのimport\n",
        "import pandas as pd\n",
        "import numpy as np\n",
        "import matplotlib.pyplot as plt\n",
        "\n",
        "# matplotlib日本語化対応\n",
        "import japanize_matplotlib\n",
        "\n",
        "# データフレーム表示用関数\n",
        "from IPython.display import display\n",
        "\n",
        "# pandasでの浮動小数点の表示精度\n",
        "pd.options.display.float_format = '{:.2f}'.format\n",
        "\n",
        "# 余分なワーニングを非表示にする\n",
        "import warnings\n",
        "warnings.filterwarnings('ignore')"
      ]
    },
    {
      "cell_type": "markdown",
      "metadata": {
        "id": "hXWaQsfTodni"
      },
      "source": [
        "### データ準備"
      ]
    },
    {
      "cell_type": "markdown",
      "metadata": {
        "id": "WJKxfFZOqnii"
      },
      "source": [
        "#### データ読み込み"
      ]
    },
    {
      "cell_type": "code",
      "execution_count": null,
      "metadata": {
        "id": "uRrWzM3cpQrd"
      },
      "outputs": [],
      "source": [
        "from sklearn.datasets import load_iris\n",
        "\n",
        "# アイリスデータセットをロード\n",
        "iris = load_iris(as_frame=True)\n",
        "#print(iris.DESCR)  # データセットの説明\n",
        "\n",
        "df = iris.data\n",
        "df.columns = ['がく片長', 'がく片幅', '花弁長', '花弁幅']\n",
        "display(df.head())"
      ]
    },
    {
      "cell_type": "markdown",
      "metadata": {
        "id": "fLExuKklqcml"
      },
      "source": [
        "#### データ絞り込み"
      ]
    },
    {
      "cell_type": "code",
      "execution_count": null,
      "metadata": {
        "id": "Oq7Pq70IoalM"
      },
      "outputs": [],
      "source": [
        "# データ絞り込み\n",
        "#   クラス0, 1のみ\n",
        "#   項目がく片長とがく片幅のみ\n",
        "x_data = df[['がく片長','がく片幅']].head(100)\n",
        "y_data = iris.target[:100].values\n",
        "\n",
        "print('x_data')\n",
        "print(f'shape: {x_data.shape}')\n",
        "print(f'先頭5行:\\n{x_data[:5]}\\n')\n",
        "\n",
        "print('y_data')\n",
        "print(f'shape: {y_data.shape}')\n",
        "print(f'先頭5行:\\n{y_data[:5]}')"
      ]
    },
    {
      "cell_type": "markdown",
      "metadata": {
        "id": "conjKbOlr-xc"
      },
      "source": [
        "#### ダミー変数追加"
      ]
    },
    {
      "cell_type": "code",
      "execution_count": null,
      "metadata": {
        "id": "VpWmj-R9rLWp"
      },
      "outputs": [],
      "source": [
        "x_data2 = np.insert(x_data, 0, 1.0, axis=1)\n",
        "\n",
        "print('ダミー変数追加後')\n",
        "print(f'shape: {x_data2.shape}')\n",
        "print(f'先頭5行:\\n{x_data2[:5]}\\n')\n"
      ]
    },
    {
      "cell_type": "markdown",
      "metadata": {
        "id": "WjwJhozDtsAc"
      },
      "source": [
        "#### 訓練・テストデータ分割"
      ]
    },
    {
      "cell_type": "code",
      "execution_count": null,
      "metadata": {
        "id": "aB3UMxSMtv4b"
      },
      "outputs": [],
      "source": [
        "from sklearn.model_selection import train_test_split\n",
        "x_train, x_test, y_train, y_test = train_test_split(\n",
        "    x_data2, y_data, train_size=70, test_size=30,\n",
        "    random_state=123)\n",
        "\n",
        "print(f'x_train.shape: {x_train.shape}')\n",
        "print(f'x_test.shaoe: {x_test.shape}')\n",
        "print(f'y_train.shape: {y_train.shape}')\n",
        "print(f'y_test.shape: {y_test.shape}')"
      ]
    },
    {
      "cell_type": "markdown",
      "metadata": {
        "id": "6P_-5n9SuEyS"
      },
      "source": [
        " #### 学習データの散布図表示"
      ]
    },
    {
      "cell_type": "markdown",
      "metadata": {
        "id": "FtLfB_r1__L7"
      },
      "source": [
        "#### y_trainの値でx_trainを分割"
      ]
    },
    {
      "cell_type": "code",
      "execution_count": null,
      "metadata": {
        "id": "ZZe9bi5jkFDE"
      },
      "outputs": [],
      "source": [
        "x_t0 = x_train[y_train == 0]\n",
        "x_t1 = x_train[y_train == 1]"
      ]
    },
    {
      "cell_type": "markdown",
      "metadata": {
        "id": "-IkIUI8oAHAp"
      },
      "source": [
        "#### 散布図表示"
      ]
    },
    {
      "cell_type": "code",
      "execution_count": null,
      "metadata": {
        "id": "M9gchbX5t46t"
      },
      "outputs": [],
      "source": [
        "# グラフのサイズ指定\n",
        "plt.figure(figsize=(6,6))\n",
        "\n",
        "# 散布図表示\n",
        "plt.scatter(x_t0[:,1], x_t0[:,2], marker='x', c='b', label='0 (setosa)')\n",
        "plt.scatter(x_t1[:,1], x_t1[:,2], marker='o', c='k', label='1 (versicolor)')\n",
        "\n",
        "# グラフのキレイ化\n",
        "plt.title('訓練データの散布図')\n",
        "plt.xlabel('がく片長')\n",
        "plt.ylabel('がく片幅')\n",
        "plt.legend()\n",
        "plt.grid()\n",
        "plt.show()"
      ]
    },
    {
      "cell_type": "markdown",
      "metadata": {
        "id": "AKhtsOyIvqRc"
      },
      "source": [
        "### 学習準備"
      ]
    },
    {
      "cell_type": "markdown",
      "metadata": {
        "id": "IHQ7xvO3vvtD"
      },
      "source": [
        "#### 学習用変数の設定"
      ]
    },
    {
      "cell_type": "code",
      "execution_count": null,
      "metadata": {
        "id": "8-kXuzCyulO5"
      },
      "outputs": [],
      "source": [
        "# 学習用変数の設定\n",
        "x = x_train\n",
        "yt = y_train\n",
        "\n",
        "# 入力データ x の先頭5行の表示 (ダミーデータを含む)\n",
        "print(x[:5])\n",
        "\n",
        "# 正解値 yt の先頭5行の表示\n",
        "print(yt[:5])"
      ]
    },
    {
      "cell_type": "markdown",
      "metadata": {
        "id": "x3PgY03kwONW"
      },
      "source": [
        "### 関数定義"
      ]
    },
    {
      "cell_type": "markdown",
      "metadata": {
        "id": "Dc7nqbhNwR6K"
      },
      "source": [
        "#### シグモイド関数"
      ]
    },
    {
      "cell_type": "code",
      "execution_count": null,
      "metadata": {
        "id": "17EUXA1VwEOA"
      },
      "outputs": [],
      "source": [
        "def sigmoid(x):\n",
        "    return 1/(1+ np.exp(-x))"
      ]
    },
    {
      "cell_type": "markdown",
      "metadata": {
        "id": "m4TQqWRXwaSA"
      },
      "source": [
        "#### 予測関数"
      ]
    },
    {
      "cell_type": "code",
      "execution_count": null,
      "metadata": {
        "id": "SRxaBdY4wnc2"
      },
      "outputs": [],
      "source": [
        "def pred(x, w):\n",
        "    return sigmoid(x @ w)"
      ]
    },
    {
      "cell_type": "markdown",
      "metadata": {
        "id": "dp-etCxawzOW"
      },
      "source": [
        "#### 損失関数(交差エントロピー関数)"
      ]
    },
    {
      "cell_type": "code",
      "execution_count": null,
      "metadata": {
        "id": "TMym_Fxjw0Pp"
      },
      "outputs": [],
      "source": [
        "def cross_entropy(yt, yp):\n",
        "    # 交差エントロピーの計算(この段階ではベクトル)\n",
        "    ce1 = -(yt * np.log(yp) + (1 - yt) * np.log(1 - yp))\n",
        "    # 交差エントロピーベクトルの平均値を計算\n",
        "    return(np.mean(ce1))"
      ]
    },
    {
      "cell_type": "markdown",
      "metadata": {
        "id": "c66Ft_p6xBQe"
      },
      "source": [
        "#### classify (確率値から0/1を判定)"
      ]
    },
    {
      "cell_type": "code",
      "execution_count": null,
      "metadata": {
        "id": "uTEU4OPjw5y0"
      },
      "outputs": [],
      "source": [
        "def classify(y):\n",
        "    return np.where(y < 0.5, 0, 1)"
      ]
    },
    {
      "cell_type": "markdown",
      "metadata": {
        "id": "uGMsvSZ4xQ7y"
      },
      "source": [
        " ####  evaluate(損失と精度を計算)"
      ]
    },
    {
      "cell_type": "code",
      "execution_count": null,
      "metadata": {
        "id": "nTnI_1tQxJwK"
      },
      "outputs": [],
      "source": [
        "from sklearn.metrics import accuracy_score\n",
        "def evaluate(xt, yt, w):\n",
        "\n",
        "    # 予測値の計算\n",
        "    yp = pred(xt, w)\n",
        "\n",
        "    # 損失関数値の計算\n",
        "    loss = cross_entropy(yt, yp)\n",
        "\n",
        "    # 予測値(確率値)を0または1に変換\n",
        "    yp_b = classify(yp)\n",
        "\n",
        "    #精度の算出\n",
        "    score = accuracy_score(yt, yp_b)\n",
        "    return loss, score"
      ]
    },
    {
      "cell_type": "markdown",
      "metadata": {
        "id": "ck1afriIx6y_"
      },
      "source": [
        "### 学習"
      ]
    },
    {
      "cell_type": "markdown",
      "metadata": {
        "id": "Df-PTljEx3PS"
      },
      "source": [
        "#### 初期設定"
      ]
    },
    {
      "cell_type": "code",
      "execution_count": null,
      "metadata": {
        "id": "PL5jhp8rxslK"
      },
      "outputs": [],
      "source": [
        "# 標本数\n",
        "M  = x.shape[0]\n",
        "# 入力次元数(ダミー変数を含む)\n",
        "D = x.shape[1]\n",
        "\n",
        "# 繰り返し回数\n",
        "iters = 5000\n",
        "\n",
        "# 学習率\n",
        "alpha = 0.01\n",
        "\n",
        "# 初期値\n",
        "w = np.ones(D)\n",
        "\n",
        "# 評価結果記録用 (損失関数と精度)\n",
        "history = np.zeros((0,3))"
      ]
    },
    {
      "cell_type": "markdown",
      "metadata": {
        "id": "R55YyU0DyFtd"
      },
      "source": [
        " #### 繰り返し処理"
      ]
    },
    {
      "cell_type": "code",
      "execution_count": null,
      "metadata": {
        "id": "f4gF1s-nyEqg"
      },
      "outputs": [],
      "source": [
        "for k in range(iters):\n",
        "\n",
        "    # 予測値の計算\n",
        "    yp = pred(x, w)\n",
        "\n",
        "    # 誤差の計算\n",
        "    yd = yp - yt\n",
        "\n",
        "    # 勾配降下法の実施\n",
        "    w = w - alpha * (x.T @ yd) / M\n",
        "\n",
        "    # ログ記録用\n",
        "    if ( k % 10 == 0):\n",
        "        loss, score = evaluate(x_test, y_test, w)\n",
        "        history = np.vstack((history,\n",
        "            np.array([k, loss, score])))\n",
        "        print( f'iter = {k}  loss = {loss:.04f} score = {score:.04f}')\n"
      ]
    },
    {
      "cell_type": "markdown",
      "metadata": {
        "id": "zXWZbeOrynVR"
      },
      "source": [
        "### 結果分析"
      ]
    },
    {
      "cell_type": "markdown",
      "metadata": {
        "id": "6hjb3qc0ywfn"
      },
      "source": [
        "#### 損失・精度確認"
      ]
    },
    {
      "cell_type": "code",
      "execution_count": null,
      "metadata": {
        "id": "Do5OStLxygr1"
      },
      "outputs": [],
      "source": [
        "print(f'初期状態: 損失関数:{history[0,1]:.04f} 精度:{history[0,2]:.04f}')\n",
        "print(f'最終状態: 損失関数:{history[-1,1]:.04f} 精度:{history[-1,2]:.04f}')"
      ]
    },
    {
      "cell_type": "markdown",
      "metadata": {
        "id": "607NtspTzdz5"
      },
      "source": [
        "#### 学習曲線表示(損失)"
      ]
    },
    {
      "cell_type": "code",
      "execution_count": null,
      "metadata": {
        "id": "k6jX6uQCzOuw"
      },
      "outputs": [],
      "source": [
        "# グラフのサイズ指定\n",
        "plt.figure(figsize=(6,6))\n",
        "\n",
        "# 学習曲線の表示 (最初の1個分を除く)\n",
        "plt.plot(history[1:,0], history[1:,1])\n",
        "\n",
        "# グラフのキレイ化\n",
        "plt.title('学習曲線(損失)')\n",
        "plt.grid()\n",
        "plt.xlabel('繰り返し回数')\n",
        "plt.ylabel('損失関数値')\n",
        "plt.show()"
      ]
    },
    {
      "cell_type": "markdown",
      "metadata": {
        "id": "zQhLp3px0Rg3"
      },
      "source": [
        "#### 学習曲線表示(精度)"
      ]
    },
    {
      "cell_type": "code",
      "execution_count": null,
      "metadata": {
        "id": "hfO2rXRMz_kj"
      },
      "outputs": [],
      "source": [
        "# グラフのサイズ指定\n",
        "plt.figure(figsize=(6,6))\n",
        "\n",
        "# 学習曲線の表示 (最初の1個分を除く)\n",
        "plt.plot(history[1:,0], history[1:,2])\n",
        "\n",
        "# グラフのキレイ化\n",
        "plt.title('学習曲線(精度)')\n",
        "plt.grid()\n",
        "plt.xlabel('繰り返し回数')\n",
        "plt.ylabel('損失関数値')\n",
        "plt.show()"
      ]
    },
    {
      "cell_type": "markdown",
      "metadata": {
        "id": "8UlJZJDX0sbz"
      },
      "source": [
        "#### 決定境界表示"
      ]
    },
    {
      "cell_type": "code",
      "execution_count": null,
      "metadata": {
        "id": "2GGZeF2b0dQ6"
      },
      "outputs": [],
      "source": [
        "# y_testの値を元にx_testを分割\n",
        "x_t0 = x_test[y_test==0]\n",
        "x_t1 = x_test[y_test==1]\n",
        "\n",
        "# 決定境界描画用 x(x1)の値からy(x2)の値を計算する\n",
        "def b(x, w):\n",
        "    return(-(w[0] + w[1] * x)/ w[2])\n",
        "\n",
        "# 散布図のx1の最小値と最大値\n",
        "xl = np.asarray([x[:,1].min(), x[:,1].max()])\n",
        "\n",
        "# 対応する決定境界のy座標を計算\n",
        "yl = b(xl, w)"
      ]
    },
    {
      "cell_type": "code",
      "execution_count": null,
      "metadata": {
        "id": "kbl0hgJh04DK"
      },
      "outputs": [],
      "source": [
        "# グラフのサイズ指定\n",
        "plt.figure(figsize=(6,6))\n",
        "\n",
        "# 散布図の表示\n",
        "plt.scatter(x_t0[:,1], x_t0[:,2], marker='x',c='b', s=50, label='0 (setosa)')\n",
        "plt.scatter(x_t1[:,1], x_t1[:,2], marker='o',c='k', s=50, label='1 (versicolor)')\n",
        "\n",
        "# 決定境界の直線を追記\n",
        "plt.plot(xl, yl, c='b')\n",
        "\n",
        "# グラフのキレイ化\n",
        "plt.title('テストデータの散布図と決定境界')\n",
        "plt.xlabel('がく片長')\n",
        "plt.ylabel('がく片幅')\n",
        "plt.legend()\n",
        "plt.grid()\n",
        "plt.show()"
      ]
    },
    {
      "cell_type": "markdown",
      "metadata": {
        "id": "rIySaNFP17BX"
      },
      "source": [
        "#### 予測関数の3次元曲面表示"
      ]
    },
    {
      "cell_type": "code",
      "execution_count": null,
      "metadata": {
        "id": "cds1RFDO1PFJ"
      },
      "outputs": [],
      "source": [
        "from mpl_toolkits.mplot3d import Axes3D\n",
        "x1 = np.linspace(4, 7.5, 100)\n",
        "x2 = np.linspace(2, 4.5, 100)\n",
        "xx1, xx2 = np.meshgrid(x1, x2)\n",
        "xxx = np.asarray([np.ones(xx1.ravel().shape),\n",
        "    xx1.ravel(), xx2.ravel()]).T\n",
        "c = pred(xxx, w).reshape(xx1.shape)\n",
        "plt.figure(figsize=(8,8))\n",
        "ax = plt.subplot(1, 1, 1, projection='3d')\n",
        "ax.plot_surface(xx1, xx2, c, color='blue',\n",
        "    edgecolor='black', rstride=10, cstride=10, alpha=0.1)\n",
        "ax.scatter(x_t1[:,1], x_t1[:,2], 1, s=20, alpha=0.9, marker='o', c='b')\n",
        "ax.scatter(x_t0[:,1], x_t0[:,2], 0, s=20, alpha=0.9, marker='s', c='b')\n",
        "ax.set_xlim(4,7.5)\n",
        "ax.set_ylim(2,4.5)\n",
        "ax.view_init(elev=20, azim=60)"
      ]
    },
    {
      "cell_type": "markdown",
      "metadata": {
        "id": "aUGohSbQ2Gzc"
      },
      "source": [
        "### scikit-learnを利用したモデルとの比較"
      ]
    },
    {
      "cell_type": "code",
      "execution_count": null,
      "metadata": {
        "id": "7KCIgqb42EhQ"
      },
      "outputs": [],
      "source": [
        "# 必要ライブラリのロード\n",
        "from sklearn.linear_model import LogisticRegression\n",
        "from sklearn import svm\n",
        "\n",
        "# モデル生成\n",
        "model_lr = LogisticRegression(solver='liblinear')\n",
        "model_svm = svm.SVC(kernel='linear')\n",
        "\n",
        "# 機械学習実施\n",
        "model_lr.fit(x, yt)\n",
        "model_svm.fit(x, yt)"
      ]
    },
    {
      "cell_type": "markdown",
      "metadata": {
        "id": "JBpH45Fn2qh6"
      },
      "source": [
        "#### 決定直線の算出"
      ]
    },
    {
      "cell_type": "code",
      "execution_count": null,
      "metadata": {
        "id": "776AfNNT4Xpy"
      },
      "outputs": [],
      "source": [
        "# 線形回帰\n",
        "# 切片の値\n",
        "lr_w0 = model_lr.intercept_[0]\n",
        "# x1(sepal_length)の係数\n",
        "lr_w1 = model_lr.coef_[0,1]\n",
        "# x2(sepal_width)の係数\n",
        "lr_w2 = model_lr.coef_[0,2]\n",
        "\n",
        "def rl(x):\n",
        "    wk = lr_w0 + lr_w1 * x\n",
        "    wk2 = -wk / lr_w2\n",
        "    return(wk2)\n",
        "\n",
        "y_rl = rl(xl)\n",
        "\n",
        "# 結果確認\n",
        "print(xl, y_rl)"
      ]
    },
    {
      "cell_type": "code",
      "execution_count": null,
      "metadata": {
        "id": "9Q0wNtK12hu-"
      },
      "outputs": [],
      "source": [
        "# SVM\n",
        "# 切片の値\n",
        "svm_w0 = model_svm.intercept_[0]\n",
        "# x1(sepal_length)の係数\n",
        "svm_w1 = model_svm.coef_[0,1]\n",
        "# x2(sepal_width)の係数\n",
        "svm_w2 = model_svm.coef_[0,2]\n",
        "\n",
        "def svm(x):\n",
        "    wk = svm_w0 + svm_w1 * x\n",
        "    wk2 = -wk / svm_w2\n",
        "    return(wk2)\n",
        "\n",
        "y_svm = svm(xl)\n",
        "\n",
        "# 結果確認\n",
        "print(xl,y_svm)"
      ]
    },
    {
      "cell_type": "markdown",
      "metadata": {
        "id": "nogGmcCh3XIE"
      },
      "source": [
        "#### 散布図と決定直線の同時表示"
      ]
    },
    {
      "cell_type": "code",
      "execution_count": null,
      "metadata": {
        "id": "hk6CicLZ4CKn"
      },
      "outputs": [],
      "source": [
        "plt.figure(figsize=(6,6))\n",
        "\n",
        "# 散布図の表示\n",
        "plt.scatter(x_t0[:,1], x_t0[:,2], marker='x',c='b', s=50, label='0 (setosa)')\n",
        "plt.scatter(x_t1[:,1], x_t1[:,2], marker='o',c='k', s=50, label='1 (versicolor)')\n",
        "\n",
        "# 決定直線の表示\n",
        "plt.plot(xl, yl, linewidth=2, c='k', label='Hands On')\n",
        "# lr model\n",
        "plt.plot(xl, y_rl, linewidth=2, c='k', linestyle=\"--\", label='scikit LR')\n",
        "# svm\n",
        "plt.plot(xl, y_svm, linewidth=2, c='b', linestyle=\"-.\", label='scikit SVM')\n",
        "\n",
        "# グラフのキレイ化\n",
        "plt.title('テストデータの散布図と決定境界')\n",
        "plt.xlabel('がく片長')\n",
        "plt.ylabel('がく片幅')\n",
        "plt.legend()\n",
        "plt.grid()\n",
        "plt.show()"
      ]
    },
    {
      "cell_type": "markdown",
      "metadata": {
        "id": "hpYoLdq1B31L"
      },
      "source": [
        "### バージョン確認"
      ]
    },
    {
      "cell_type": "code",
      "execution_count": null,
      "metadata": {
        "id": "TpLC7H843ntA"
      },
      "outputs": [],
      "source": [
        "!pip install watermark -qq\n",
        "%load_ext watermark\n",
        "%watermark --iversions"
      ]
    },
    {
      "cell_type": "code",
      "execution_count": null,
      "metadata": {
        "id": "2v3MaNkiB9W2"
      },
      "outputs": [],
      "source": []
    }
  ],
  "metadata": {
    "colab": {
      "provenance": [],
      "toc_visible": true
    },
    "kernelspec": {
      "display_name": "Python 3",
      "name": "python3"
    },
    "language_info": {
      "name": "python"
    }
  },
  "nbformat": 4,
  "nbformat_minor": 0
}
