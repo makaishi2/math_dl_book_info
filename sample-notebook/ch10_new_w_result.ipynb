{
  "nbformat": 4,
  "nbformat_minor": 0,
  "metadata": {
    "colab": {
      "provenance": [],
      "toc_visible": true,
      "gpuType": "T4"
    },
    "kernelspec": {
      "name": "python3",
      "display_name": "Python 3"
    },
    "language_info": {
      "name": "python"
    },
    "accelerator": "GPU"
  },
  "cells": [
    {
      "cell_type": "markdown",
      "source": [
        "### DLモデル　改訂版"
      ],
      "metadata": {
        "id": "VwHi7ns7t-Fh"
      }
    },
    {
      "cell_type": "markdown",
      "source": [
        "### 必要ライブラリの導入"
      ],
      "metadata": {
        "id": "SdytJsj7uENZ"
      }
    },
    {
      "cell_type": "code",
      "execution_count": 1,
      "metadata": {
        "id": "SVoHxKlxtvun",
        "colab": {
          "base_uri": "https://localhost:8080/"
        },
        "outputId": "d2386de7-c825-42ef-df07-7b9fcd17f5b1"
      },
      "outputs": [
        {
          "output_type": "stream",
          "name": "stdout",
          "text": [
            "Successfully installed japanize-matplotlib-1.1.3\n"
          ]
        }
      ],
      "source": [
        "# 日本語化ライブラリ導入\n",
        "!pip install japanize-matplotlib | tail -n 1"
      ]
    },
    {
      "cell_type": "code",
      "source": [
        "# 共通事前処理\n",
        "\n",
        "# 必要ライブラリのimport\n",
        "import pandas as pd\n",
        "import numpy as np\n",
        "import matplotlib.pyplot as plt\n",
        "\n",
        "# matplotlib日本語化対応\n",
        "import japanize_matplotlib\n",
        "\n",
        "# データフレーム表示用関数\n",
        "from IPython.display import display\n",
        "\n",
        "# pandasでの浮動小数点の表示精度\n",
        "pd.options.display.float_format = '{:.2f}'.format\n",
        "\n",
        "# 余分なワーニングを非表示にする\n",
        "import warnings\n",
        "warnings.filterwarnings('ignore')"
      ],
      "metadata": {
        "id": "FcYb9AsPuBZN"
      },
      "execution_count": 2,
      "outputs": []
    },
    {
      "cell_type": "markdown",
      "source": [
        "### データ準備"
      ],
      "metadata": {
        "id": "_MgwqQ45uTIX"
      }
    },
    {
      "cell_type": "markdown",
      "source": [
        "#### データ読み込み"
      ],
      "metadata": {
        "id": "L7GzmDW-uYQi"
      }
    },
    {
      "cell_type": "code",
      "source": [
        "from sklearn.datasets import fetch_openml\n",
        "mnist = fetch_openml('mnist_784', version=1,)\n",
        "\n",
        "x_org = mnist.data.values\n",
        "y_org = mnist.target.astype(int).values\n",
        "\n",
        "# 結果確認\n",
        "print(x_org.shape, y_org.shape)\n",
        "print(y_org[:5])"
      ],
      "metadata": {
        "id": "q175_b_SuQuo",
        "colab": {
          "base_uri": "https://localhost:8080/"
        },
        "outputId": "d1d8fa1c-8921-44fb-cb6e-c36ae246f2b6"
      },
      "execution_count": 3,
      "outputs": [
        {
          "output_type": "stream",
          "name": "stdout",
          "text": [
            "(70000, 784) (70000,)\n",
            "[5 0 4 1 9]\n"
          ]
        }
      ]
    },
    {
      "cell_type": "markdown",
      "source": [
        "### データ加工"
      ],
      "metadata": {
        "id": "H82FRtbExNax"
      }
    },
    {
      "cell_type": "markdown",
      "source": [
        "#### xの正規化"
      ],
      "metadata": {
        "id": "mv5T9xOBxTFv"
      }
    },
    {
      "cell_type": "code",
      "source": [
        "# xの正規化\n",
        "x_norm = x_org / 255.0\n",
        "\n",
        "# 先頭にダミー変数(1)を追加\n",
        "x_all = np.insert(x_norm, 0, 1, axis=1)\n",
        "\n",
        "print('ダミー変数追加後', x_all.shape)"
      ],
      "metadata": {
        "id": "mo3kTdhcu2Ov",
        "colab": {
          "base_uri": "https://localhost:8080/"
        },
        "outputId": "7df9b8f2-0505-450d-9654-798cf03f9cd1"
      },
      "execution_count": 4,
      "outputs": [
        {
          "output_type": "stream",
          "name": "stdout",
          "text": [
            "ダミー変数追加後 (70000, 785)\n"
          ]
        }
      ]
    },
    {
      "cell_type": "markdown",
      "source": [
        "#### yのone hot vector化"
      ],
      "metadata": {
        "id": "HyrgLqgkx0g4"
      }
    },
    {
      "cell_type": "code",
      "source": [
        "from sklearn.preprocessing import OneHotEncoder\n",
        "ohe = OneHotEncoder(sparse_output=False,categories='auto')\n",
        "y_all_ohe = ohe.fit_transform(y_org.reshape(-1, 1))\n",
        "\n",
        "print('One Hot Vector化前', y_org.shape)\n",
        "print('One Hot Vector化後', y_all_ohe.shape)"
      ],
      "metadata": {
        "id": "0ifBAXFlxiyw",
        "colab": {
          "base_uri": "https://localhost:8080/"
        },
        "outputId": "f51d8a05-6df0-4064-afef-b093d0731a60"
      },
      "execution_count": 5,
      "outputs": [
        {
          "output_type": "stream",
          "name": "stdout",
          "text": [
            "One Hot Vector化前 (70000,)\n",
            "One Hot Vector化後 (70000, 10)\n"
          ]
        }
      ]
    },
    {
      "cell_type": "markdown",
      "source": [
        "#### 訓練データ・テストエータへの分割"
      ],
      "metadata": {
        "id": "0JJALvdMyng0"
      }
    },
    {
      "cell_type": "code",
      "source": [
        "from sklearn.model_selection import train_test_split\n",
        "x_train_np, x_test_np,y_train_np, y_test_np,y_train_ohe_np, y_test_ohe_np = train_test_split(\n",
        "    x_all, y_org, y_all_ohe, train_size=60000, test_size=10000, shuffle=False)\n",
        "\n",
        "# 結果確認\n",
        "print('訓練データ', x_train_np.shape, y_train_np.shape, y_train_ohe_np.shape)\n",
        "print('テストデータ', x_test_np.shape, y_test_np.shape, y_test_ohe_np.shape)"
      ],
      "metadata": {
        "id": "NKPlfxdJyJcj",
        "colab": {
          "base_uri": "https://localhost:8080/"
        },
        "outputId": "d43814aa-fceb-4027-e7ce-f527412d9275"
      },
      "execution_count": 6,
      "outputs": [
        {
          "output_type": "stream",
          "name": "stdout",
          "text": [
            "訓練データ (60000, 785) (60000,) (60000, 10)\n",
            "テストデータ (10000, 785) (10000,) (10000, 10)\n"
          ]
        }
      ]
    },
    {
      "cell_type": "markdown",
      "source": [
        "#### torch変数に変換\n"
      ],
      "metadata": {
        "id": "Z9FajHRy5VCI"
      }
    },
    {
      "cell_type": "markdown",
      "source": [
        "### GPU操作"
      ],
      "metadata": {
        "id": "AX4jFbE8105z"
      }
    },
    {
      "cell_type": "markdown",
      "source": [
        " #### GPU 存在チェック"
      ],
      "metadata": {
        "id": "XeRlGi1F5KAv"
      }
    },
    {
      "cell_type": "code",
      "source": [
        "import torch\n",
        "\n",
        "device = torch.device(\"cuda:0\" if torch.cuda.is_available() else \"cpu\")\n",
        "print(device)"
      ],
      "metadata": {
        "id": "0tZrt78115g9",
        "colab": {
          "base_uri": "https://localhost:8080/"
        },
        "outputId": "16e96738-65bc-4f12-97c2-8815141a42bb"
      },
      "execution_count": 7,
      "outputs": [
        {
          "output_type": "stream",
          "name": "stdout",
          "text": [
            "cuda:0\n"
          ]
        }
      ]
    },
    {
      "cell_type": "markdown",
      "source": [
        "#### Tensor型に変換"
      ],
      "metadata": {
        "id": "d1Y12OrHWQRJ"
      }
    },
    {
      "cell_type": "code",
      "source": [
        "x_train = torch.Tensor(x_train_np).float()\n",
        "y_train = torch.Tensor(y_train_np).float()\n",
        "y_train_ohe = torch.Tensor(y_train_ohe_np).float()\n",
        "x_test = torch.Tensor(x_test_np).float()\n",
        "y_test = torch.Tensor(y_test_np).float()\n",
        "y_test_ohe = torch.Tensor(y_test_ohe_np).float()\n",
        "\n",
        "x_test_gpu = x_test.to(device)\n",
        "y_test_gpu = y_test.to(device)\n",
        "y_test_ohe_gpu = y_test_ohe.to(device)"
      ],
      "metadata": {
        "id": "K3ywUose5jgq"
      },
      "execution_count": 8,
      "outputs": []
    },
    {
      "cell_type": "markdown",
      "source": [
        " ### データ内容の確認"
      ],
      "metadata": {
        "id": "8c5YNY3EzbUd"
      }
    },
    {
      "cell_type": "code",
      "source": [
        "N = 20\n",
        "np.random.seed(12)\n",
        "indexes = np.random.choice(y_test.shape[0], N, replace=False)\n",
        "x_selected = x_test[indexes,1:]\n",
        "y_selected = y_test[indexes]\n",
        "plt.figure(figsize=(10, 3))\n",
        "for i in range(N):\n",
        "    ax = plt.subplot(2, int(N/2), i + 1)\n",
        "    plt.imshow(x_selected[i].reshape(28, 28),cmap='gray_r')\n",
        "    ax.set_title('%d' %y_selected[i], fontsize=16)\n",
        "    ax.get_xaxis().set_visible(False)\n",
        "    ax.get_yaxis().set_visible(False)\n",
        "plt.show()"
      ],
      "metadata": {
        "id": "3iCE5B0oyyLa",
        "colab": {
          "base_uri": "https://localhost:8080/",
          "height": 254
        },
        "outputId": "95e8a034-a325-4a5b-a5b4-a722b0891da6"
      },
      "execution_count": 9,
      "outputs": [
        {
          "output_type": "display_data",
          "data": {
            "text/plain": [
              "<Figure size 1000x300 with 20 Axes>"
            ],
            "image/png": "[encoded data removed]"
          },
          "metadata": {}
        }
      ]
    },
    {
      "cell_type": "markdown",
      "source": [
        "### 関数定義"
      ],
      "metadata": {
        "id": "L24BzQAX0BnP"
      }
    },
    {
      "cell_type": "markdown",
      "source": [
        "#### 汎用関数"
      ],
      "metadata": {
        "id": "OSA_qNl0w9Ls"
      }
    },
    {
      "cell_type": "code",
      "source": [
        "import torch.nn as nn\n",
        "sigmoid = nn.Sigmoid()\n",
        "softmax = nn.Softmax(dim=1)\n",
        "\n",
        "def step(x):\n",
        "    return ( x > 0).float()\n",
        "\n",
        "def relu(x):\n",
        "    return torch.where(x > 0, x, torch.tensor(0.0))\n"
      ],
      "metadata": {
        "id": "9zy2N2sZzj6v"
      },
      "execution_count": 10,
      "outputs": []
    },
    {
      "cell_type": "markdown",
      "source": [
        "#### 予測関数"
      ],
      "metadata": {
        "id": "QhgSR1VSxTUe"
      }
    },
    {
      "cell_type": "code",
      "source": [
        "def pred(x, W):\n",
        "    return softmax(x @ W)"
      ],
      "metadata": {
        "id": "aCNhp1igxApI"
      },
      "execution_count": 12,
      "outputs": []
    },
    {
      "cell_type": "markdown",
      "source": [
        "#### 損失関数(交差エントロピー関数)"
      ],
      "metadata": {
        "id": "T2ZmkYw4x9La"
      }
    },
    {
      "cell_type": "code",
      "source": [
        "def cross_entropy(yt_ohe, yp_ohe):\n",
        "    return -torch.mean(torch.sum(yt_ohe * torch.log(yp_ohe), dim=1))"
      ],
      "metadata": {
        "id": "YECejl_u3-wn"
      },
      "execution_count": 18,
      "outputs": []
    },
    {
      "cell_type": "markdown",
      "source": [
        "#### evaluate(損失と精度を計算)"
      ],
      "metadata": {
        "id": "O8XB_pt6zPiN"
      }
    },
    {
      "cell_type": "code",
      "source": [
        "# モデルの評価を行う関数\n",
        "from sklearn.metrics import accuracy_score\n",
        "\n",
        "def evaluate(x_test, y_test, y_test_ohe, x_dum, V, W):\n",
        "\n",
        "    # テストデータに対して隠れ層の値を計算\n",
        "    b_test = sigmoid(x_test @ V)\n",
        "\n",
        "    # ダミー変数追加\n",
        "    b1_test = torch.cat((x_dum, b_test), dim=1)\n",
        "\n",
        "    # 予測値算出\n",
        "    yp_test_ohe = softmax(b1_test @ W)\n",
        "\n",
        "    # ラベル値算出\n",
        "    yp_test = torch.argmax(yp_test_ohe, dim=1)\n",
        "\n",
        "    # 損失計算(item関数でスカラー化)\n",
        "    loss = cross_entropy(y_test_ohe, yp_test_ohe).item()\n",
        "\n",
        "    # 精度計算()\n",
        "    score = (y_test == yp_test).float().mean().item()\n",
        "\n",
        "    return score, loss"
      ],
      "metadata": {
        "id": "kwvV5Le2v-jR"
      },
      "execution_count": 13,
      "outputs": []
    },
    {
      "cell_type": "markdown",
      "source": [
        "### ミニバッチ処理"
      ],
      "metadata": {
        "id": "zj8C5J8k0bIG"
      }
    },
    {
      "cell_type": "markdown",
      "source": [
        "#### 関数Indexes定義"
      ],
      "metadata": {
        "id": "Nrc4dZhs0fOQ"
      }
    },
    {
      "cell_type": "code",
      "source": [
        "class Indexes():\n",
        "\n",
        "    # コンストラクタ\n",
        "    def __init__(self, total, size):\n",
        "        # 配列全体の大きさ\n",
        "        self.total   = total\n",
        "        # batchサイズ\n",
        "        self.size    = size\n",
        "        #　作業用indexes 初期値はNULLにしておく\n",
        "        self.indexes = np.zeros(0)\n",
        "\n",
        "    # index取得関数\n",
        "    def next_index(self):\n",
        "        next_flag = False\n",
        "\n",
        "    # bacthサイズより作業用Indexesが小さい場合はindexes再生成\n",
        "        if len(self.indexes) < self.size:\n",
        "            self.indexes = np.random.choice(self.total,\n",
        "                self.total, replace=False)\n",
        "            next_flag = True\n",
        "\n",
        "        # 戻り用index取得と作業用indexes更新\n",
        "        index = self.indexes[:self.size]\n",
        "        self.indexes = self.indexes[self.size:]\n",
        "        return index, next_flag"
      ],
      "metadata": {
        "id": "fp8V4imIztJU"
      },
      "execution_count": 14,
      "outputs": []
    },
    {
      "cell_type": "markdown",
      "source": [
        "#### 関数利用サンプル"
      ],
      "metadata": {
        "id": "DSBYm12n0p4H"
      }
    },
    {
      "cell_type": "code",
      "source": [
        "# クラス初期化\n",
        "# 20: 全体の配列の大きさ\n",
        "# 5: 一回に取得するindexの数\n",
        "indexes = Indexes(20, 5)\n",
        "\n",
        "for i in range(6):\n",
        "    # next_index関数呼び出し\n",
        "    # 戻り値1:  indexのnumpy配列\n",
        "    # 戻り値2: 作業用Indexの更新があったかどうか\n",
        "    arr, flag = indexes.next_index()\n",
        "    print(arr, flag)"
      ],
      "metadata": {
        "id": "Ft6lvGst0oS-",
        "colab": {
          "base_uri": "https://localhost:8080/"
        },
        "outputId": "dea884c7-a8c9-4774-c38f-a41a68b32ab0"
      },
      "execution_count": 15,
      "outputs": [
        {
          "output_type": "stream",
          "name": "stdout",
          "text": [
            "[11  3  9 17 12] True\n",
            "[ 2  7 18  0  8] False\n",
            "[ 1 16 10 14 15] False\n",
            "[19  4  5 13  6] False\n",
            "[12  5 18 15 10] True\n",
            "[17 19  1  2  9] False\n"
          ]
        }
      ]
    },
    {
      "cell_type": "markdown",
      "source": [
        "### 学習"
      ],
      "metadata": {
        "id": "47BKp4NN1iL6"
      }
    },
    {
      "cell_type": "markdown",
      "source": [
        "#### 初期化処理"
      ],
      "metadata": {
        "id": "UDyHfvVm1k1p"
      }
    },
    {
      "cell_type": "code",
      "source": [
        "# 隠れ層のノード数\n",
        "H = 128\n",
        "H1 = H + 1\n",
        "# M: 訓練用系列データ総数\n",
        "M  = x_train.shape[0]\n",
        "# D: 入力データ次元数\n",
        "D = x_train.shape[1]\n",
        "# N: 分類クラス数\n",
        "N = y_train_ohe.shape[1]\n",
        "\n",
        "# 繰り返し回数\n",
        "nb_epoch = 2000\n",
        "# ミニバッチサイズ\n",
        "batch_size = 128\n",
        "B = batch_size\n",
        "# 学習率\n",
        "alpha_np = 0.01\n",
        "\n",
        "# 重み行列の初期設定\n",
        "np.random.seed(123)\n",
        "V_np = np.random.randn(D, H) / np.sqrt(D / 2)\n",
        "W_np = np.random.randn(H1, N) / np.sqrt(H1 / 2)\n",
        "\n",
        "# 評価結果記録用 (損失関数値と精度)\n",
        "history1 = np.zeros((0, 3))\n",
        "\n",
        "# ミニバッチ用関数初期化\n",
        "indexes = Indexes(M, batch_size)\n",
        "\n",
        "# 繰り返し回数カウンタ初期化\n",
        "epoch = 0\n",
        "\n",
        "# GPU転送\n",
        "alpha = torch.tensor(alpha_np).float().to(device)\n",
        "V = torch.tensor(V_np).float().to(device)\n",
        "W = torch.tensor(W_np).float().to(device)\n",
        "x_dum = torch.ones((batch_size,1)).float().to(device)\n",
        "x_dum2 = torch.ones((len(x_test),1)).float().to(device)"
      ],
      "metadata": {
        "id": "yMGuYqsA1VwB"
      },
      "execution_count": 19,
      "outputs": []
    },
    {
      "cell_type": "markdown",
      "source": [
        "#### 繰り返し計算"
      ],
      "metadata": {
        "id": "TLSsbkU723M6"
      }
    },
    {
      "cell_type": "code",
      "source": [
        "%%time\n",
        "while epoch < nb_epoch:\n",
        "\n",
        "    # 学習対象の選択(ミニバッチ学習法)\n",
        "    index, next_flag = indexes.next_index()\n",
        "\n",
        "    # 学習対象選択時にGPU転送を行う\n",
        "    x, yt = x_train[index].to(device), y_train_ohe[index].to(device)\n",
        "\n",
        "    # 予測値計算 (順伝播)\n",
        "    a = x @ V\n",
        "    b = sigmoid(a)\n",
        "    b1 = torch.cat((x_dum, b), dim=1)\n",
        "    u = b1 @ W\n",
        "    yp = softmax(u)\n",
        "\n",
        "    # 誤差計算\n",
        "    yd = yp - yt\n",
        "    bd = b * (1-b) * (yd @ W[1:].T)\n",
        "\n",
        "    # 勾配計算\n",
        "    W = W - alpha * (b1.T @ yd) / B\n",
        "    V = V - alpha * (x.T @ bd) / B\n",
        "\n",
        "    if next_flag : # 1epoch 終了後の処理\n",
        "        score, loss = evaluate(x_test_gpu, y_test_gpu, y_test_ohe_gpu, x_dum2, V, W)\n",
        "        history1 = np.vstack((history1, np.array([epoch, loss, score])))\n",
        "        epoch = epoch + 1\n",
        "        if (epoch-1) % 10 == 0:\n",
        "            print(f'epoch = {epoch-1} loss = {loss:.04f} score = {score:.04f}')\n"
      ],
      "metadata": {
        "id": "9YLs7D0L2xp1",
        "colab": {
          "base_uri": "https://localhost:8080/"
        },
        "outputId": "80bf8cc2-1376-4a41-b43d-358de45bc2c2"
      },
      "execution_count": 20,
      "outputs": [
        {
          "output_type": "stream",
          "name": "stdout",
          "text": [
            "epoch = 0 loss = 2.4922 score = 0.1119\n",
            "epoch = 10 loss = 0.4982 score = 0.8807\n",
            "epoch = 20 loss = 0.3725 score = 0.8985\n",
            "epoch = 30 loss = 0.3291 score = 0.9075\n",
            "epoch = 40 loss = 0.3057 score = 0.9144\n",
            "epoch = 50 loss = 0.2900 score = 0.9183\n",
            "epoch = 60 loss = 0.2781 score = 0.9218\n",
            "epoch = 70 loss = 0.2681 score = 0.9241\n",
            "epoch = 80 loss = 0.2597 score = 0.9260\n",
            "epoch = 90 loss = 0.2515 score = 0.9286\n",
            "epoch = 100 loss = 0.2441 score = 0.9308\n",
            "epoch = 110 loss = 0.2369 score = 0.9321\n",
            "epoch = 120 loss = 0.2302 score = 0.9346\n",
            "epoch = 130 loss = 0.2239 score = 0.9350\n",
            "epoch = 140 loss = 0.2178 score = 0.9370\n",
            "epoch = 150 loss = 0.2119 score = 0.9391\n",
            "epoch = 160 loss = 0.2065 score = 0.9398\n",
            "epoch = 170 loss = 0.2011 score = 0.9423\n",
            "epoch = 180 loss = 0.1966 score = 0.9436\n",
            "epoch = 190 loss = 0.1914 score = 0.9450\n",
            "epoch = 200 loss = 0.1870 score = 0.9464\n",
            "epoch = 210 loss = 0.1829 score = 0.9468\n",
            "epoch = 220 loss = 0.1784 score = 0.9483\n",
            "epoch = 230 loss = 0.1746 score = 0.9492\n",
            "epoch = 240 loss = 0.1708 score = 0.9498\n",
            "epoch = 250 loss = 0.1671 score = 0.9503\n",
            "epoch = 260 loss = 0.1635 score = 0.9516\n",
            "epoch = 270 loss = 0.1605 score = 0.9523\n",
            "epoch = 280 loss = 0.1572 score = 0.9528\n",
            "epoch = 290 loss = 0.1540 score = 0.9539\n",
            "epoch = 300 loss = 0.1514 score = 0.9547\n",
            "epoch = 310 loss = 0.1486 score = 0.9552\n",
            "epoch = 320 loss = 0.1457 score = 0.9557\n",
            "epoch = 330 loss = 0.1431 score = 0.9567\n",
            "epoch = 340 loss = 0.1407 score = 0.9574\n",
            "epoch = 350 loss = 0.1384 score = 0.9580\n",
            "epoch = 360 loss = 0.1361 score = 0.9587\n",
            "epoch = 370 loss = 0.1341 score = 0.9595\n",
            "epoch = 380 loss = 0.1320 score = 0.9602\n",
            "epoch = 390 loss = 0.1300 score = 0.9614\n",
            "epoch = 400 loss = 0.1279 score = 0.9617\n",
            "epoch = 410 loss = 0.1262 score = 0.9624\n",
            "epoch = 420 loss = 0.1244 score = 0.9621\n",
            "epoch = 430 loss = 0.1227 score = 0.9629\n",
            "epoch = 440 loss = 0.1211 score = 0.9636\n",
            "epoch = 450 loss = 0.1196 score = 0.9642\n",
            "epoch = 460 loss = 0.1181 score = 0.9642\n",
            "epoch = 470 loss = 0.1165 score = 0.9642\n",
            "epoch = 480 loss = 0.1152 score = 0.9647\n",
            "epoch = 490 loss = 0.1139 score = 0.9652\n",
            "epoch = 500 loss = 0.1123 score = 0.9654\n",
            "epoch = 510 loss = 0.1111 score = 0.9655\n",
            "epoch = 520 loss = 0.1103 score = 0.9665\n",
            "epoch = 530 loss = 0.1088 score = 0.9670\n",
            "epoch = 540 loss = 0.1077 score = 0.9674\n",
            "epoch = 550 loss = 0.1064 score = 0.9672\n",
            "epoch = 560 loss = 0.1055 score = 0.9678\n",
            "epoch = 570 loss = 0.1043 score = 0.9684\n",
            "epoch = 580 loss = 0.1032 score = 0.9685\n",
            "epoch = 590 loss = 0.1023 score = 0.9694\n",
            "epoch = 600 loss = 0.1015 score = 0.9694\n",
            "epoch = 610 loss = 0.1003 score = 0.9698\n",
            "epoch = 620 loss = 0.0996 score = 0.9700\n",
            "epoch = 630 loss = 0.0986 score = 0.9700\n",
            "epoch = 640 loss = 0.0978 score = 0.9704\n",
            "epoch = 650 loss = 0.0970 score = 0.9704\n",
            "epoch = 660 loss = 0.0962 score = 0.9706\n",
            "epoch = 670 loss = 0.0954 score = 0.9712\n",
            "epoch = 680 loss = 0.0948 score = 0.9717\n",
            "epoch = 690 loss = 0.0939 score = 0.9710\n",
            "epoch = 700 loss = 0.0933 score = 0.9714\n",
            "epoch = 710 loss = 0.0925 score = 0.9716\n",
            "epoch = 720 loss = 0.0919 score = 0.9722\n",
            "epoch = 730 loss = 0.0912 score = 0.9723\n",
            "epoch = 740 loss = 0.0906 score = 0.9725\n",
            "epoch = 750 loss = 0.0900 score = 0.9726\n",
            "epoch = 760 loss = 0.0892 score = 0.9731\n",
            "epoch = 770 loss = 0.0887 score = 0.9732\n",
            "epoch = 780 loss = 0.0882 score = 0.9734\n",
            "epoch = 790 loss = 0.0876 score = 0.9732\n",
            "epoch = 800 loss = 0.0870 score = 0.9736\n",
            "epoch = 810 loss = 0.0865 score = 0.9736\n",
            "epoch = 820 loss = 0.0860 score = 0.9739\n",
            "epoch = 830 loss = 0.0855 score = 0.9740\n",
            "epoch = 840 loss = 0.0852 score = 0.9739\n",
            "epoch = 850 loss = 0.0845 score = 0.9743\n",
            "epoch = 860 loss = 0.0840 score = 0.9744\n",
            "epoch = 870 loss = 0.0836 score = 0.9740\n",
            "epoch = 880 loss = 0.0831 score = 0.9741\n",
            "epoch = 890 loss = 0.0828 score = 0.9742\n",
            "epoch = 900 loss = 0.0822 score = 0.9746\n",
            "epoch = 910 loss = 0.0819 score = 0.9748\n",
            "epoch = 920 loss = 0.0814 score = 0.9749\n",
            "epoch = 930 loss = 0.0811 score = 0.9751\n",
            "epoch = 940 loss = 0.0807 score = 0.9749\n",
            "epoch = 950 loss = 0.0803 score = 0.9752\n",
            "epoch = 960 loss = 0.0799 score = 0.9751\n",
            "epoch = 970 loss = 0.0796 score = 0.9751\n",
            "epoch = 980 loss = 0.0794 score = 0.9754\n",
            "epoch = 990 loss = 0.0789 score = 0.9754\n",
            "epoch = 1000 loss = 0.0785 score = 0.9755\n",
            "epoch = 1010 loss = 0.0782 score = 0.9755\n",
            "epoch = 1020 loss = 0.0780 score = 0.9757\n",
            "epoch = 1030 loss = 0.0777 score = 0.9757\n",
            "epoch = 1040 loss = 0.0773 score = 0.9756\n",
            "epoch = 1050 loss = 0.0770 score = 0.9757\n",
            "epoch = 1060 loss = 0.0767 score = 0.9760\n",
            "epoch = 1070 loss = 0.0763 score = 0.9760\n",
            "epoch = 1080 loss = 0.0761 score = 0.9761\n",
            "epoch = 1090 loss = 0.0758 score = 0.9759\n",
            "epoch = 1100 loss = 0.0755 score = 0.9762\n",
            "epoch = 1110 loss = 0.0753 score = 0.9762\n",
            "epoch = 1120 loss = 0.0751 score = 0.9760\n",
            "epoch = 1130 loss = 0.0749 score = 0.9762\n",
            "epoch = 1140 loss = 0.0745 score = 0.9763\n",
            "epoch = 1150 loss = 0.0743 score = 0.9764\n",
            "epoch = 1160 loss = 0.0740 score = 0.9765\n",
            "epoch = 1170 loss = 0.0739 score = 0.9766\n",
            "epoch = 1180 loss = 0.0735 score = 0.9766\n",
            "epoch = 1190 loss = 0.0733 score = 0.9768\n",
            "epoch = 1200 loss = 0.0732 score = 0.9768\n",
            "epoch = 1210 loss = 0.0729 score = 0.9767\n",
            "epoch = 1220 loss = 0.0727 score = 0.9770\n",
            "epoch = 1230 loss = 0.0725 score = 0.9772\n",
            "epoch = 1240 loss = 0.0723 score = 0.9773\n",
            "epoch = 1250 loss = 0.0721 score = 0.9775\n",
            "epoch = 1260 loss = 0.0719 score = 0.9773\n",
            "epoch = 1270 loss = 0.0717 score = 0.9775\n",
            "epoch = 1280 loss = 0.0714 score = 0.9775\n",
            "epoch = 1290 loss = 0.0714 score = 0.9776\n",
            "epoch = 1300 loss = 0.0712 score = 0.9775\n",
            "epoch = 1310 loss = 0.0710 score = 0.9776\n",
            "epoch = 1320 loss = 0.0709 score = 0.9777\n",
            "epoch = 1330 loss = 0.0707 score = 0.9776\n",
            "epoch = 1340 loss = 0.0705 score = 0.9778\n",
            "epoch = 1350 loss = 0.0703 score = 0.9779\n",
            "epoch = 1360 loss = 0.0702 score = 0.9778\n",
            "epoch = 1370 loss = 0.0700 score = 0.9780\n",
            "epoch = 1380 loss = 0.0699 score = 0.9780\n",
            "epoch = 1390 loss = 0.0697 score = 0.9781\n",
            "epoch = 1400 loss = 0.0695 score = 0.9783\n",
            "epoch = 1410 loss = 0.0694 score = 0.9783\n",
            "epoch = 1420 loss = 0.0693 score = 0.9782\n",
            "epoch = 1430 loss = 0.0691 score = 0.9783\n",
            "epoch = 1440 loss = 0.0690 score = 0.9783\n",
            "epoch = 1450 loss = 0.0689 score = 0.9783\n",
            "epoch = 1460 loss = 0.0687 score = 0.9785\n",
            "epoch = 1470 loss = 0.0686 score = 0.9787\n",
            "epoch = 1480 loss = 0.0684 score = 0.9783\n",
            "epoch = 1490 loss = 0.0683 score = 0.9787\n",
            "epoch = 1500 loss = 0.0682 score = 0.9787\n",
            "epoch = 1510 loss = 0.0681 score = 0.9785\n",
            "epoch = 1520 loss = 0.0680 score = 0.9783\n",
            "epoch = 1530 loss = 0.0679 score = 0.9785\n",
            "epoch = 1540 loss = 0.0677 score = 0.9785\n",
            "epoch = 1550 loss = 0.0677 score = 0.9787\n",
            "epoch = 1560 loss = 0.0675 score = 0.9786\n",
            "epoch = 1570 loss = 0.0675 score = 0.9785\n",
            "epoch = 1580 loss = 0.0673 score = 0.9786\n",
            "epoch = 1590 loss = 0.0672 score = 0.9786\n",
            "epoch = 1600 loss = 0.0671 score = 0.9787\n",
            "epoch = 1610 loss = 0.0671 score = 0.9786\n",
            "epoch = 1620 loss = 0.0669 score = 0.9786\n",
            "epoch = 1630 loss = 0.0668 score = 0.9787\n",
            "epoch = 1640 loss = 0.0667 score = 0.9786\n",
            "epoch = 1650 loss = 0.0666 score = 0.9785\n",
            "epoch = 1660 loss = 0.0665 score = 0.9786\n",
            "epoch = 1670 loss = 0.0666 score = 0.9786\n",
            "epoch = 1680 loss = 0.0663 score = 0.9788\n",
            "epoch = 1690 loss = 0.0663 score = 0.9786\n",
            "epoch = 1700 loss = 0.0662 score = 0.9787\n",
            "epoch = 1710 loss = 0.0661 score = 0.9788\n",
            "epoch = 1720 loss = 0.0661 score = 0.9782\n",
            "epoch = 1730 loss = 0.0660 score = 0.9785\n",
            "epoch = 1740 loss = 0.0660 score = 0.9788\n",
            "epoch = 1750 loss = 0.0659 score = 0.9787\n",
            "epoch = 1760 loss = 0.0657 score = 0.9788\n",
            "epoch = 1770 loss = 0.0657 score = 0.9788\n",
            "epoch = 1780 loss = 0.0656 score = 0.9789\n",
            "epoch = 1790 loss = 0.0656 score = 0.9791\n",
            "epoch = 1800 loss = 0.0655 score = 0.9788\n",
            "epoch = 1810 loss = 0.0654 score = 0.9789\n",
            "epoch = 1820 loss = 0.0654 score = 0.9787\n",
            "epoch = 1830 loss = 0.0654 score = 0.9790\n",
            "epoch = 1840 loss = 0.0653 score = 0.9792\n",
            "epoch = 1850 loss = 0.0652 score = 0.9788\n",
            "epoch = 1860 loss = 0.0651 score = 0.9791\n",
            "epoch = 1870 loss = 0.0651 score = 0.9792\n",
            "epoch = 1880 loss = 0.0650 score = 0.9792\n",
            "epoch = 1890 loss = 0.0650 score = 0.9788\n",
            "epoch = 1900 loss = 0.0649 score = 0.9790\n",
            "epoch = 1910 loss = 0.0649 score = 0.9789\n",
            "epoch = 1920 loss = 0.0648 score = 0.9788\n",
            "epoch = 1930 loss = 0.0648 score = 0.9792\n",
            "epoch = 1940 loss = 0.0647 score = 0.9793\n",
            "epoch = 1950 loss = 0.0646 score = 0.9791\n",
            "epoch = 1960 loss = 0.0646 score = 0.9787\n",
            "epoch = 1970 loss = 0.0646 score = 0.9792\n",
            "epoch = 1980 loss = 0.0646 score = 0.9791\n",
            "epoch = 1990 loss = 0.0645 score = 0.9790\n",
            "CPU times: user 11min 30s, sys: 1.55 s, total: 11min 32s\n",
            "Wall time: 11min 39s\n"
          ]
        }
      ]
    },
    {
      "cell_type": "markdown",
      "source": [
        "### 結果分析"
      ],
      "metadata": {
        "id": "a89w54wuln6S"
      }
    },
    {
      "cell_type": "markdown",
      "source": [
        "#### 損失・精度確認"
      ],
      "metadata": {
        "id": "1p3Q72Yklrgw"
      }
    },
    {
      "cell_type": "code",
      "source": [
        "print(f'初期状態: 損失関数:{history1[0,1]:.04f} 精度:{history1[0,2]:.04f}')\n",
        "print(f'最終状態: 損失関数:{history1[-1,1]:.04f} 精度:{history1[-1,2]:.04f}')"
      ],
      "metadata": {
        "id": "bd_8u5NcY2XF",
        "colab": {
          "base_uri": "https://localhost:8080/"
        },
        "outputId": "f63c967c-405a-49d8-9cbd-7f797e0586a6"
      },
      "execution_count": 21,
      "outputs": [
        {
          "output_type": "stream",
          "name": "stdout",
          "text": [
            "初期状態: 損失関数:2.4922 精度:0.1119\n",
            "最終状態: 損失関数:0.0645 精度:0.9791\n"
          ]
        }
      ]
    },
    {
      "cell_type": "markdown",
      "source": [
        "#### 学習曲線(損失)"
      ],
      "metadata": {
        "id": "nMNy8_2amlv_"
      }
    },
    {
      "cell_type": "code",
      "source": [
        "plt.figure(figsize=(6,6))\n",
        "plt.plot(history1[:,0], history1[:,1], 'b')\n",
        "plt.xlabel('繰り返し回数')\n",
        "plt.ylabel('損失')\n",
        "plt.title('学習曲線(損失)')\n",
        "plt.grid()\n",
        "plt.show()"
      ],
      "metadata": {
        "id": "mIn8wSAyly9z",
        "colab": {
          "base_uri": "https://localhost:8080/",
          "height": 563
        },
        "outputId": "3d7ad9b9-2239-4d8b-9628-db85c98fcda5"
      },
      "execution_count": 22,
      "outputs": [
        {
          "output_type": "display_data",
          "data": {
            "text/plain": [
              "<Figure size 600x600 with 1 Axes>"
            ],
            "image/png": "[encoded data removed]"
          },
          "metadata": {}
        }
      ]
    },
    {
      "cell_type": "markdown",
      "source": [
        "#### 学習曲線(精度)"
      ],
      "metadata": {
        "id": "LAVYQ-f8mr_K"
      }
    },
    {
      "cell_type": "code",
      "source": [
        "plt.figure(figsize=(6,6))\n",
        "plt.plot(history1[:,0], history1[:,2], 'b')\n",
        "plt.xlabel('繰り返し回数')\n",
        "plt.ylabel('損失')\n",
        "plt.title('学習曲線(精度)')\n",
        "plt.grid()\n",
        "plt.show()"
      ],
      "metadata": {
        "id": "dbfDBBzFmvaa",
        "colab": {
          "base_uri": "https://localhost:8080/",
          "height": 563
        },
        "outputId": "3a6bab95-18b9-4a0a-a9c1-406840fbd1aa"
      },
      "execution_count": 23,
      "outputs": [
        {
          "output_type": "display_data",
          "data": {
            "text/plain": [
              "<Figure size 600x600 with 1 Axes>"
            ],
            "image/png": "[encoded data removed]"
          },
          "metadata": {}
        }
      ]
    },
    {
      "cell_type": "markdown",
      "source": [
        "#### イメージで確認"
      ],
      "metadata": {
        "id": "CJVmLZGHyRmf"
      }
    },
    {
      "cell_type": "code",
      "source": [
        "N = 20\n",
        "np.random.seed(12)\n",
        "x_dum3 = torch.ones((N,1)).float().to(device)\n",
        "indexes = np.random.choice(y_test.shape[0], N, replace=False)\n",
        "\n",
        "# x_orgの選択結果表示 (白黒反転)\n",
        "x_selected = x_test[indexes].to(device)\n",
        "y_selected = y_test[indexes].to(device)\n",
        "\n",
        "# 予測値の計算\n",
        "\n",
        "# テストデータに対して隠れ層の値を計算\n",
        "b_test = sigmoid(x_selected @ V)\n",
        "\n",
        "# ダミー変数追加\n",
        "b1_test = torch.cat((x_dum3, b_test), dim=1)\n",
        "\n",
        "# 予測値算出\n",
        "yp_test_ohe = softmax(b1_test @ W)\n",
        "\n",
        "# ラベル値算出\n",
        "yp_test = torch.argmax(yp_test_ohe, dim=1)\n",
        "\n",
        "# グラフ表示\n",
        "plt.figure(figsize=(10, 3))\n",
        "for i in range(N):\n",
        "    ax = plt.subplot(2, int(N/2), i + 1)\n",
        "    plt.imshow(x_selected[i,1:].cpu().reshape(28, 28),cmap='gray_r')\n",
        "    ax.set_title('%d:%d' % (y_selected[i], yp_test[i]),fontsize=14 )\n",
        "    ax.get_xaxis().set_visible(False)\n",
        "    ax.get_yaxis().set_visible(False)\n",
        "plt.show()"
      ],
      "metadata": {
        "id": "M-GujHJsyXtJ",
        "colab": {
          "base_uri": "https://localhost:8080/",
          "height": 251
        },
        "outputId": "61be7ccc-ccb1-4956-9010-b83fa796b206"
      },
      "execution_count": 24,
      "outputs": [
        {
          "output_type": "display_data",
          "data": {
            "text/plain": [
              "<Figure size 1000x300 with 20 Axes>"
            ],
            "image/png": "[encoded data removed]"
          },
          "metadata": {}
        }
      ]
    },
    {
      "cell_type": "code",
      "source": [],
      "metadata": {
        "id": "QKAEQAmZ3rn1"
      },
      "execution_count": null,
      "outputs": []
    }
  ]
}