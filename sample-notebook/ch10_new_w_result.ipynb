{
  "cells": [
    {
      "cell_type": "markdown",
      "metadata": {
        "id": "VwHi7ns7t-Fh"
      },
      "source": [
        "### DLモデル　改訂版"
      ]
    },
    {
      "cell_type": "markdown",
      "metadata": {
        "id": "SdytJsj7uENZ"
      },
      "source": [
        "### 必要ライブラリの導入"
      ]
    },
    {
      "cell_type": "code",
      "execution_count": 1,
      "metadata": {
        "id": "SVoHxKlxtvun",
        "colab": {
          "base_uri": "https://localhost:8080/"
        },
        "outputId": "dbb939d9-31c4-48e2-c3a9-fb9c8619a14d"
      },
      "outputs": [
        {
          "output_type": "stream",
          "name": "stdout",
          "text": [
            "\u001b[?25l     \u001b[90m━━━━━━━━━━━━━━━━━━━━━━━━━━━━━━━━━━━━━━━━\u001b[0m \u001b[32m0.0/4.1 MB\u001b[0m \u001b[31m?\u001b[0m eta \u001b[36m-:--:--\u001b[0m\r\u001b[2K     \u001b[91m━━━━━\u001b[0m\u001b[90m╺\u001b[0m\u001b[90m━━━━━━━━━━━━━━━━━━━━━━━━━━━━━━━━━━\u001b[0m \u001b[32m0.6/4.1 MB\u001b[0m \u001b[31m18.2 MB/s\u001b[0m eta \u001b[36m0:00:01\u001b[0m\r\u001b[2K     \u001b[91m━━━━━━━━━━━━━━━━━━━━━━━━━━━━━━━━━━━━━━━\u001b[0m\u001b[91m╸\u001b[0m \u001b[32m4.1/4.1 MB\u001b[0m \u001b[31m60.6 MB/s\u001b[0m eta \u001b[36m0:00:01\u001b[0m\r\u001b[2K     \u001b[91m━━━━━━━━━━━━━━━━━━━━━━━━━━━━━━━━━━━━━━━\u001b[0m\u001b[91m╸\u001b[0m \u001b[32m4.1/4.1 MB\u001b[0m \u001b[31m56.8 MB/s\u001b[0m eta \u001b[36m0:00:01\u001b[0m\r\u001b[2K     \u001b[90m━━━━━━━━━━━━━━━━━━━━━━━━━━━━━━━━━━━━━━━━\u001b[0m \u001b[32m4.1/4.1 MB\u001b[0m \u001b[31m37.5 MB/s\u001b[0m eta \u001b[36m0:00:00\u001b[0m\n",
            "\u001b[?25h  Preparing metadata (setup.py) ... \u001b[?25l\u001b[?25hdone\n",
            "  Building wheel for japanize-matplotlib (setup.py) ... \u001b[?25l\u001b[?25hdone\n"
          ]
        }
      ],
      "source": [
        "# 日本語化ライブラリ導入\n",
        "!pip install japanize-matplotlib -qq"
      ]
    },
    {
      "cell_type": "code",
      "execution_count": 2,
      "metadata": {
        "id": "FcYb9AsPuBZN"
      },
      "outputs": [],
      "source": [
        "# 共通事前処理\n",
        "\n",
        "# 必要ライブラリのimport\n",
        "import pandas as pd\n",
        "import numpy as np\n",
        "import matplotlib.pyplot as plt\n",
        "\n",
        "# matplotlib日本語化対応\n",
        "import japanize_matplotlib\n",
        "\n",
        "# データフレーム表示用関数\n",
        "from IPython.display import display\n",
        "\n",
        "# pandasでの浮動小数点の表示精度\n",
        "pd.options.display.float_format = '{:.2f}'.format\n",
        "\n",
        "# 余分なワーニングを非表示にする\n",
        "import warnings\n",
        "warnings.filterwarnings('ignore')"
      ]
    },
    {
      "cell_type": "markdown",
      "metadata": {
        "id": "_MgwqQ45uTIX"
      },
      "source": [
        "### データ準備"
      ]
    },
    {
      "cell_type": "markdown",
      "metadata": {
        "id": "L7GzmDW-uYQi"
      },
      "source": [
        "#### データ読み込み"
      ]
    },
    {
      "cell_type": "code",
      "execution_count": 3,
      "metadata": {
        "id": "q175_b_SuQuo",
        "colab": {
          "base_uri": "https://localhost:8080/"
        },
        "outputId": "4d3f4de0-88d9-4798-cf85-a3632464b35c"
      },
      "outputs": [
        {
          "output_type": "stream",
          "name": "stdout",
          "text": [
            "(70000, 784) (70000,)\n",
            "[5 0 4 1 9]\n"
          ]
        }
      ],
      "source": [
        "from sklearn.datasets import fetch_openml\n",
        "mnist = fetch_openml('mnist_784', version=1,)\n",
        "\n",
        "x_org = mnist.data.values\n",
        "y_org = mnist.target.astype(int).values\n",
        "\n",
        "# 結果確認\n",
        "print(x_org.shape, y_org.shape)\n",
        "print(y_org[:5])"
      ]
    },
    {
      "cell_type": "markdown",
      "metadata": {
        "id": "H82FRtbExNax"
      },
      "source": [
        "### データ加工"
      ]
    },
    {
      "cell_type": "markdown",
      "metadata": {
        "id": "mv5T9xOBxTFv"
      },
      "source": [
        "#### xの正規化"
      ]
    },
    {
      "cell_type": "code",
      "execution_count": 4,
      "metadata": {
        "id": "mo3kTdhcu2Ov",
        "colab": {
          "base_uri": "https://localhost:8080/"
        },
        "outputId": "96aaa495-a557-49f6-f472-faeeb50e3eeb"
      },
      "outputs": [
        {
          "output_type": "stream",
          "name": "stdout",
          "text": [
            "ダミー変数追加後 (70000, 785)\n"
          ]
        }
      ],
      "source": [
        "# xの正規化\n",
        "x_norm = x_org / 255.0\n",
        "\n",
        "# 先頭にダミー変数(1)を追加\n",
        "x_all = np.insert(x_norm, 0, 1, axis=1)\n",
        "\n",
        "print('ダミー変数追加後', x_all.shape)"
      ]
    },
    {
      "cell_type": "markdown",
      "metadata": {
        "id": "HyrgLqgkx0g4"
      },
      "source": [
        "#### yのone hot vector化"
      ]
    },
    {
      "cell_type": "code",
      "execution_count": 5,
      "metadata": {
        "id": "0ifBAXFlxiyw",
        "colab": {
          "base_uri": "https://localhost:8080/"
        },
        "outputId": "6ac8f9e2-ad28-49f4-b061-1e71f4f3b860"
      },
      "outputs": [
        {
          "output_type": "stream",
          "name": "stdout",
          "text": [
            "One Hot Vector化前 (70000,)\n",
            "One Hot Vector化後 (70000, 10)\n"
          ]
        }
      ],
      "source": [
        "from sklearn.preprocessing import OneHotEncoder\n",
        "ohe = OneHotEncoder(sparse_output=False,categories='auto')\n",
        "y_all_ohe = ohe.fit_transform(y_org.reshape(-1, 1))\n",
        "\n",
        "print('One Hot Vector化前', y_org.shape)\n",
        "print('One Hot Vector化後', y_all_ohe.shape)"
      ]
    },
    {
      "cell_type": "markdown",
      "metadata": {
        "id": "0JJALvdMyng0"
      },
      "source": [
        "#### 訓練データ・テストエータへの分割"
      ]
    },
    {
      "cell_type": "code",
      "execution_count": 6,
      "metadata": {
        "id": "NKPlfxdJyJcj",
        "colab": {
          "base_uri": "https://localhost:8080/"
        },
        "outputId": "86fc6f58-45ca-497b-c5cb-83c2ce6d72c2"
      },
      "outputs": [
        {
          "output_type": "stream",
          "name": "stdout",
          "text": [
            "訓練データ (60000, 785) (60000,) (60000, 10)\n",
            "テストデータ (10000, 785) (10000,) (10000, 10)\n"
          ]
        }
      ],
      "source": [
        "from sklearn.model_selection import train_test_split\n",
        "x_train_np, x_test_np,y_train_np, y_test_np,y_train_ohe_np, y_test_ohe_np = train_test_split(\n",
        "    x_all, y_org, y_all_ohe, train_size=60000, test_size=10000, shuffle=False)\n",
        "\n",
        "# 結果確認\n",
        "print('訓練データ', x_train_np.shape, y_train_np.shape, y_train_ohe_np.shape)\n",
        "print('テストデータ', x_test_np.shape, y_test_np.shape, y_test_ohe_np.shape)"
      ]
    },
    {
      "cell_type": "markdown",
      "metadata": {
        "id": "Z9FajHRy5VCI"
      },
      "source": [
        "#### torch変数に変換\n"
      ]
    },
    {
      "cell_type": "markdown",
      "metadata": {
        "id": "AX4jFbE8105z"
      },
      "source": [
        "### GPU操作"
      ]
    },
    {
      "cell_type": "markdown",
      "metadata": {
        "id": "XeRlGi1F5KAv"
      },
      "source": [
        " #### GPU 存在チェック"
      ]
    },
    {
      "cell_type": "code",
      "execution_count": 7,
      "metadata": {
        "id": "0tZrt78115g9",
        "colab": {
          "base_uri": "https://localhost:8080/"
        },
        "outputId": "158d241f-df8d-4ded-bec0-00d9654703fb"
      },
      "outputs": [
        {
          "output_type": "stream",
          "name": "stdout",
          "text": [
            "cuda:0\n"
          ]
        }
      ],
      "source": [
        "import torch\n",
        "\n",
        "# GPUが利用可能かどうかのチェック\n",
        "device = torch.device(\"cuda:0\" if torch.cuda.is_available() else \"cpu\")\n",
        "\n",
        "# 利用可能な場合は\"cuda:0\"が出力される\n",
        "print(device)"
      ]
    },
    {
      "cell_type": "markdown",
      "metadata": {
        "id": "d1Y12OrHWQRJ"
      },
      "source": [
        "#### Tensor型に変換"
      ]
    },
    {
      "cell_type": "code",
      "execution_count": 8,
      "metadata": {
        "id": "K3ywUose5jgq"
      },
      "outputs": [],
      "source": [
        "# NumPy変数をTensor変数に変換\n",
        "x_train = torch.Tensor(x_train_np).float()\n",
        "y_train = torch.Tensor(y_train_np).float()\n",
        "y_train_ohe = torch.Tensor(y_train_ohe_np).float()\n",
        "x_test = torch.Tensor(x_test_np).float()\n",
        "y_test = torch.Tensor(y_test_np).float()\n",
        "y_test_ohe = torch.Tensor(y_test_ohe_np).float()\n",
        "\n",
        "# テストデータに関してはこのタイミングでGPUに送付する\n",
        "x_test_gpu = x_test.to(device)\n",
        "y_test_gpu = y_test.to(device)\n",
        "y_test_ohe_gpu = y_test_ohe.to(device)"
      ]
    },
    {
      "cell_type": "markdown",
      "metadata": {
        "id": "8c5YNY3EzbUd"
      },
      "source": [
        " ### データ内容の確認"
      ]
    },
    {
      "cell_type": "code",
      "execution_count": 16,
      "metadata": {
        "id": "3iCE5B0oyyLa",
        "colab": {
          "base_uri": "https://localhost:8080/",
          "height": 254
        },
        "outputId": "745832b4-89ce-4c89-f532-8574f91897bb"
      },
      "outputs": [
        {
          "output_type": "display_data",
          "data": {
            "text/plain": [
              "<Figure size 1000x300 with 20 Axes>"
            ],
            "image/png": "[encoded data removed]"
          },
          "metadata": {}
        }
      ],
      "source": [
        "N = 20\n",
        "\n",
        "# テストデータから20件をランダムに抽出\n",
        "# 再現性があるようにseed値をセットしておく\n",
        "np.random.seed(12)\n",
        "indexes = np.random.choice(y_test.shape[0], N, replace=False)\n",
        "x_selected = x_test[indexes]\n",
        "y_selected = y_test[indexes]\n",
        "\n",
        "# 20件データのイメージと正解ラベルを表示\n",
        "plt.figure(figsize=(10, 3))\n",
        "for i in range(N):\n",
        "    # 描画位置指定\n",
        "    ax = plt.subplot(2, int(N/2), i + 1)\n",
        "\n",
        "    # イメージ表示(列はダミー変数を落とす)\n",
        "    ax.imshow(x_selected[i,1:].reshape(28, 28), cmap='gray_r')\n",
        "\n",
        "    # 正解ラベル表示\n",
        "    ax.set_title(f'{int(y_selected[i]):d}', fontsize=16)\n",
        "\n",
        "    # 軸ラベル非表示\n",
        "    ax.get_xaxis().set_visible(False)\n",
        "    ax.get_yaxis().set_visible(False)\n",
        "plt.show()"
      ]
    },
    {
      "cell_type": "markdown",
      "metadata": {
        "id": "L24BzQAX0BnP"
      },
      "source": [
        "### 関数定義"
      ]
    },
    {
      "cell_type": "markdown",
      "metadata": {
        "id": "OSA_qNl0w9Ls"
      },
      "source": [
        "#### 汎用関数"
      ]
    },
    {
      "cell_type": "code",
      "execution_count": 17,
      "metadata": {
        "id": "9zy2N2sZzj6v"
      },
      "outputs": [],
      "source": [
        "import torch.nn as nn\n",
        "sigmoid = nn.Sigmoid()\n",
        "softmax = nn.Softmax(dim=1)"
      ]
    },
    {
      "cell_type": "markdown",
      "metadata": {
        "id": "QhgSR1VSxTUe"
      },
      "source": [
        "#### 予測関数"
      ]
    },
    {
      "cell_type": "code",
      "execution_count": 18,
      "metadata": {
        "id": "aCNhp1igxApI"
      },
      "outputs": [],
      "source": [
        "def pred(x, W):\n",
        "    return softmax(x @ W)"
      ]
    },
    {
      "cell_type": "markdown",
      "metadata": {
        "id": "T2ZmkYw4x9La"
      },
      "source": [
        "#### 損失関数(交差エントロピー関数)"
      ]
    },
    {
      "cell_type": "code",
      "execution_count": 19,
      "metadata": {
        "id": "YECejl_u3-wn"
      },
      "outputs": [],
      "source": [
        "def cross_entropy(yt_ohe, yp_ohe):\n",
        "    return -torch.mean(torch.sum(yt_ohe * torch.log(yp_ohe), dim=1))"
      ]
    },
    {
      "cell_type": "markdown",
      "metadata": {
        "id": "O8XB_pt6zPiN"
      },
      "source": [
        "#### evaluate(損失と精度を計算)"
      ]
    },
    {
      "cell_type": "code",
      "execution_count": 20,
      "metadata": {
        "id": "kwvV5Le2v-jR"
      },
      "outputs": [],
      "source": [
        "from sklearn.metrics import accuracy_score\n",
        "\n",
        "def evaluate(x_test, y_test, y_test_ohe, x_dum, V, W):\n",
        "\n",
        "    # テストデータに対して隠れ層の値を計算\n",
        "    b_test = sigmoid(x_test @ V)\n",
        "\n",
        "    # ダミー変数追加\n",
        "    b1_test = torch.cat((x_dum, b_test), dim=1)\n",
        "\n",
        "    # 予測値算出\n",
        "    yp_test_ohe = softmax(b1_test @ W)\n",
        "\n",
        "    # ラベル値算出\n",
        "    yp_test = torch.argmax(yp_test_ohe, dim=1)\n",
        "\n",
        "    # 損失計算(item関数でスカラー化)\n",
        "    loss = cross_entropy(y_test_ohe, yp_test_ohe).item()\n",
        "\n",
        "    # 精度計算(item関数でスカラー化)\n",
        "    score = (y_test == yp_test).float().mean().item()\n",
        "\n",
        "    return score, loss"
      ]
    },
    {
      "cell_type": "markdown",
      "metadata": {
        "id": "zj8C5J8k0bIG"
      },
      "source": [
        "### ミニバッチ処理"
      ]
    },
    {
      "cell_type": "markdown",
      "metadata": {
        "id": "Nrc4dZhs0fOQ"
      },
      "source": [
        "#### 関数Indexes定義"
      ]
    },
    {
      "cell_type": "code",
      "execution_count": 21,
      "metadata": {
        "id": "fp8V4imIztJU"
      },
      "outputs": [],
      "source": [
        "class Indexes():\n",
        "\n",
        "    # コンストラクタ\n",
        "    def __init__(self, total, size):\n",
        "        # 配列全体の大きさ\n",
        "        self.total   = total\n",
        "        # batchサイズ\n",
        "        self.size    = size\n",
        "        #　作業用indexes 初期値はNULLにしておく\n",
        "        self.indexes = np.zeros(0)\n",
        "\n",
        "    # index取得関数\n",
        "    def next_index(self):\n",
        "        next_flag = False\n",
        "\n",
        "    # bacthサイズより作業用Indexesが小さい場合はindexes再生成\n",
        "        if len(self.indexes) < self.size:\n",
        "            self.indexes = np.random.choice(self.total,\n",
        "                self.total, replace=False)\n",
        "            next_flag = True\n",
        "\n",
        "        # 戻り用index取得と作業用indexes更新\n",
        "        index = self.indexes[:self.size]\n",
        "        self.indexes = self.indexes[self.size:]\n",
        "        return index, next_flag"
      ]
    },
    {
      "cell_type": "markdown",
      "metadata": {
        "id": "DSBYm12n0p4H"
      },
      "source": [
        "#### 関数利用サンプル"
      ]
    },
    {
      "cell_type": "code",
      "execution_count": 22,
      "metadata": {
        "id": "Ft6lvGst0oS-",
        "colab": {
          "base_uri": "https://localhost:8080/"
        },
        "outputId": "46d4d02f-c962-4fc8-f1a3-2e3a4c6d8cdd"
      },
      "outputs": [
        {
          "output_type": "stream",
          "name": "stdout",
          "text": [
            "[11  3  9 17 12] True\n",
            "[ 2  7 18  0  8] False\n",
            "[ 1 16 10 14 15] False\n",
            "[19  4  5 13  6] False\n",
            "[12  5 18 15 10] True\n",
            "[17 19  1  2  9] False\n"
          ]
        }
      ],
      "source": [
        "# クラス初期化\n",
        "# 20: 全体の配列の大きさ\n",
        "# 5: 一回に取得するindexの数\n",
        "indexes = Indexes(20, 5)\n",
        "\n",
        "for i in range(6):\n",
        "    # next_index関数呼び出し\n",
        "    # 戻り値1:  indexのnumpy配列\n",
        "    # 戻り値2: 作業用Indexの更新があったかどうか\n",
        "    arr, flag = indexes.next_index()\n",
        "    print(arr, flag)"
      ]
    },
    {
      "cell_type": "markdown",
      "metadata": {
        "id": "47BKp4NN1iL6"
      },
      "source": [
        "### 学習"
      ]
    },
    {
      "cell_type": "markdown",
      "metadata": {
        "id": "UDyHfvVm1k1p"
      },
      "source": [
        "#### 初期化処理"
      ]
    },
    {
      "cell_type": "code",
      "execution_count": 23,
      "metadata": {
        "id": "yMGuYqsA1VwB"
      },
      "outputs": [],
      "source": [
        "# 隠れ層のノード数\n",
        "H = 128\n",
        "H1 = H + 1\n",
        "# M: 訓練用系列データ総数\n",
        "M  = x_train.shape[0]\n",
        "# D: 入力データ次元数\n",
        "D = x_train.shape[1]\n",
        "# N: 分類クラス数\n",
        "N = y_train_ohe.shape[1]\n",
        "\n",
        "# 繰り返し回数\n",
        "nb_epoch = 2000\n",
        "# ミニバッチサイズ\n",
        "batch_size = 128\n",
        "B = batch_size\n",
        "# 学習率\n",
        "alpha_np = 0.01\n",
        "\n",
        "# 重み行列の初期設定\n",
        "np.random.seed(123)\n",
        "V_np = np.random.randn(D, H) / np.sqrt(D / 2)\n",
        "W_np = np.random.randn(H1, N) / np.sqrt(H1 / 2)\n",
        "\n",
        "# 評価結果記録用 (損失関数値と精度)\n",
        "history1 = np.zeros((0, 3))\n",
        "\n",
        "# ミニバッチ用関数初期化\n",
        "indexes = Indexes(M, batch_size)\n",
        "\n",
        "# 繰り返し回数カウンタ初期化\n",
        "epoch = 0\n",
        "\n",
        "# GPU転送\n",
        "alpha = torch.tensor(alpha_np).float().to(device)\n",
        "V = torch.tensor(V_np).float().to(device)\n",
        "W = torch.tensor(W_np).float().to(device)\n",
        "x_dum = torch.ones((batch_size,1)).float().to(device)\n",
        "x_dum2 = torch.ones((len(x_test),1)).float().to(device)"
      ]
    },
    {
      "cell_type": "markdown",
      "metadata": {
        "id": "TLSsbkU723M6"
      },
      "source": [
        "#### 繰り返し計算"
      ]
    },
    {
      "cell_type": "code",
      "execution_count": 24,
      "metadata": {
        "id": "9YLs7D0L2xp1",
        "colab": {
          "base_uri": "https://localhost:8080/"
        },
        "outputId": "82dd70c2-2cc5-422b-856e-d843612b360d"
      },
      "outputs": [
        {
          "output_type": "stream",
          "name": "stdout",
          "text": [
            "epoch = 0 loss = 2.4922 score = 0.1119\n",
            "epoch = 10 loss = 0.4982 score = 0.8807\n",
            "epoch = 20 loss = 0.3725 score = 0.8985\n",
            "epoch = 30 loss = 0.3291 score = 0.9075\n",
            "epoch = 40 loss = 0.3057 score = 0.9144\n",
            "epoch = 50 loss = 0.2900 score = 0.9183\n",
            "epoch = 60 loss = 0.2781 score = 0.9218\n",
            "epoch = 70 loss = 0.2681 score = 0.9241\n",
            "epoch = 80 loss = 0.2597 score = 0.9260\n",
            "epoch = 90 loss = 0.2515 score = 0.9286\n",
            "epoch = 100 loss = 0.2441 score = 0.9308\n",
            "epoch = 110 loss = 0.2369 score = 0.9321\n",
            "epoch = 120 loss = 0.2302 score = 0.9346\n",
            "epoch = 130 loss = 0.2239 score = 0.9350\n",
            "epoch = 140 loss = 0.2178 score = 0.9370\n",
            "epoch = 150 loss = 0.2119 score = 0.9391\n",
            "epoch = 160 loss = 0.2065 score = 0.9398\n",
            "epoch = 170 loss = 0.2011 score = 0.9423\n",
            "epoch = 180 loss = 0.1966 score = 0.9436\n",
            "epoch = 190 loss = 0.1914 score = 0.9450\n",
            "epoch = 200 loss = 0.1870 score = 0.9464\n",
            "epoch = 210 loss = 0.1829 score = 0.9468\n",
            "epoch = 220 loss = 0.1784 score = 0.9483\n",
            "epoch = 230 loss = 0.1746 score = 0.9492\n",
            "epoch = 240 loss = 0.1708 score = 0.9498\n",
            "epoch = 250 loss = 0.1671 score = 0.9503\n",
            "epoch = 260 loss = 0.1635 score = 0.9516\n",
            "epoch = 270 loss = 0.1605 score = 0.9523\n",
            "epoch = 280 loss = 0.1572 score = 0.9528\n",
            "epoch = 290 loss = 0.1540 score = 0.9539\n",
            "epoch = 300 loss = 0.1514 score = 0.9547\n",
            "epoch = 310 loss = 0.1486 score = 0.9552\n",
            "epoch = 320 loss = 0.1457 score = 0.9557\n",
            "epoch = 330 loss = 0.1431 score = 0.9567\n",
            "epoch = 340 loss = 0.1407 score = 0.9574\n",
            "epoch = 350 loss = 0.1384 score = 0.9580\n",
            "epoch = 360 loss = 0.1361 score = 0.9587\n",
            "epoch = 370 loss = 0.1341 score = 0.9595\n",
            "epoch = 380 loss = 0.1320 score = 0.9602\n",
            "epoch = 390 loss = 0.1300 score = 0.9614\n",
            "epoch = 400 loss = 0.1279 score = 0.9617\n",
            "epoch = 410 loss = 0.1262 score = 0.9624\n",
            "epoch = 420 loss = 0.1244 score = 0.9621\n",
            "epoch = 430 loss = 0.1227 score = 0.9629\n",
            "epoch = 440 loss = 0.1211 score = 0.9636\n",
            "epoch = 450 loss = 0.1196 score = 0.9642\n",
            "epoch = 460 loss = 0.1181 score = 0.9642\n",
            "epoch = 470 loss = 0.1165 score = 0.9642\n",
            "epoch = 480 loss = 0.1152 score = 0.9647\n",
            "epoch = 490 loss = 0.1139 score = 0.9652\n",
            "epoch = 500 loss = 0.1123 score = 0.9654\n",
            "epoch = 510 loss = 0.1111 score = 0.9655\n",
            "epoch = 520 loss = 0.1103 score = 0.9665\n",
            "epoch = 530 loss = 0.1088 score = 0.9670\n",
            "epoch = 540 loss = 0.1077 score = 0.9674\n",
            "epoch = 550 loss = 0.1064 score = 0.9672\n",
            "epoch = 560 loss = 0.1055 score = 0.9678\n",
            "epoch = 570 loss = 0.1043 score = 0.9684\n",
            "epoch = 580 loss = 0.1032 score = 0.9685\n",
            "epoch = 590 loss = 0.1023 score = 0.9694\n",
            "epoch = 600 loss = 0.1015 score = 0.9694\n",
            "epoch = 610 loss = 0.1003 score = 0.9698\n",
            "epoch = 620 loss = 0.0996 score = 0.9700\n",
            "epoch = 630 loss = 0.0986 score = 0.9700\n",
            "epoch = 640 loss = 0.0978 score = 0.9704\n",
            "epoch = 650 loss = 0.0970 score = 0.9704\n",
            "epoch = 660 loss = 0.0962 score = 0.9706\n",
            "epoch = 670 loss = 0.0954 score = 0.9712\n",
            "epoch = 680 loss = 0.0948 score = 0.9717\n",
            "epoch = 690 loss = 0.0939 score = 0.9710\n",
            "epoch = 700 loss = 0.0933 score = 0.9714\n",
            "epoch = 710 loss = 0.0925 score = 0.9716\n",
            "epoch = 720 loss = 0.0919 score = 0.9722\n",
            "epoch = 730 loss = 0.0912 score = 0.9723\n",
            "epoch = 740 loss = 0.0906 score = 0.9725\n",
            "epoch = 750 loss = 0.0900 score = 0.9726\n",
            "epoch = 760 loss = 0.0892 score = 0.9731\n",
            "epoch = 770 loss = 0.0887 score = 0.9732\n",
            "epoch = 780 loss = 0.0882 score = 0.9734\n",
            "epoch = 790 loss = 0.0876 score = 0.9732\n",
            "epoch = 800 loss = 0.0870 score = 0.9736\n",
            "epoch = 810 loss = 0.0865 score = 0.9736\n",
            "epoch = 820 loss = 0.0860 score = 0.9739\n",
            "epoch = 830 loss = 0.0855 score = 0.9740\n",
            "epoch = 840 loss = 0.0852 score = 0.9739\n",
            "epoch = 850 loss = 0.0845 score = 0.9743\n",
            "epoch = 860 loss = 0.0840 score = 0.9744\n",
            "epoch = 870 loss = 0.0836 score = 0.9740\n",
            "epoch = 880 loss = 0.0831 score = 0.9741\n",
            "epoch = 890 loss = 0.0828 score = 0.9742\n",
            "epoch = 900 loss = 0.0822 score = 0.9746\n",
            "epoch = 910 loss = 0.0819 score = 0.9748\n",
            "epoch = 920 loss = 0.0814 score = 0.9749\n",
            "epoch = 930 loss = 0.0811 score = 0.9751\n",
            "epoch = 940 loss = 0.0807 score = 0.9749\n",
            "epoch = 950 loss = 0.0803 score = 0.9752\n",
            "epoch = 960 loss = 0.0799 score = 0.9751\n",
            "epoch = 970 loss = 0.0796 score = 0.9751\n",
            "epoch = 980 loss = 0.0794 score = 0.9754\n",
            "epoch = 990 loss = 0.0789 score = 0.9754\n",
            "epoch = 1000 loss = 0.0785 score = 0.9755\n",
            "epoch = 1010 loss = 0.0782 score = 0.9755\n",
            "epoch = 1020 loss = 0.0780 score = 0.9757\n",
            "epoch = 1030 loss = 0.0777 score = 0.9757\n",
            "epoch = 1040 loss = 0.0773 score = 0.9756\n",
            "epoch = 1050 loss = 0.0770 score = 0.9757\n",
            "epoch = 1060 loss = 0.0767 score = 0.9760\n",
            "epoch = 1070 loss = 0.0763 score = 0.9760\n",
            "epoch = 1080 loss = 0.0761 score = 0.9761\n",
            "epoch = 1090 loss = 0.0758 score = 0.9759\n",
            "epoch = 1100 loss = 0.0755 score = 0.9762\n",
            "epoch = 1110 loss = 0.0753 score = 0.9762\n",
            "epoch = 1120 loss = 0.0751 score = 0.9760\n",
            "epoch = 1130 loss = 0.0749 score = 0.9762\n",
            "epoch = 1140 loss = 0.0745 score = 0.9763\n",
            "epoch = 1150 loss = 0.0743 score = 0.9764\n",
            "epoch = 1160 loss = 0.0740 score = 0.9765\n",
            "epoch = 1170 loss = 0.0739 score = 0.9766\n",
            "epoch = 1180 loss = 0.0735 score = 0.9766\n",
            "epoch = 1190 loss = 0.0733 score = 0.9768\n",
            "epoch = 1200 loss = 0.0732 score = 0.9768\n",
            "epoch = 1210 loss = 0.0729 score = 0.9767\n",
            "epoch = 1220 loss = 0.0727 score = 0.9770\n",
            "epoch = 1230 loss = 0.0725 score = 0.9772\n",
            "epoch = 1240 loss = 0.0723 score = 0.9773\n",
            "epoch = 1250 loss = 0.0721 score = 0.9775\n",
            "epoch = 1260 loss = 0.0719 score = 0.9773\n",
            "epoch = 1270 loss = 0.0717 score = 0.9775\n",
            "epoch = 1280 loss = 0.0714 score = 0.9775\n",
            "epoch = 1290 loss = 0.0714 score = 0.9776\n",
            "epoch = 1300 loss = 0.0712 score = 0.9775\n",
            "epoch = 1310 loss = 0.0710 score = 0.9776\n",
            "epoch = 1320 loss = 0.0709 score = 0.9777\n",
            "epoch = 1330 loss = 0.0707 score = 0.9776\n",
            "epoch = 1340 loss = 0.0705 score = 0.9778\n",
            "epoch = 1350 loss = 0.0703 score = 0.9779\n",
            "epoch = 1360 loss = 0.0702 score = 0.9778\n",
            "epoch = 1370 loss = 0.0700 score = 0.9780\n",
            "epoch = 1380 loss = 0.0699 score = 0.9780\n",
            "epoch = 1390 loss = 0.0697 score = 0.9781\n",
            "epoch = 1400 loss = 0.0695 score = 0.9783\n",
            "epoch = 1410 loss = 0.0694 score = 0.9783\n",
            "epoch = 1420 loss = 0.0693 score = 0.9782\n",
            "epoch = 1430 loss = 0.0691 score = 0.9783\n",
            "epoch = 1440 loss = 0.0690 score = 0.9783\n",
            "epoch = 1450 loss = 0.0689 score = 0.9783\n",
            "epoch = 1460 loss = 0.0687 score = 0.9785\n",
            "epoch = 1470 loss = 0.0686 score = 0.9787\n",
            "epoch = 1480 loss = 0.0684 score = 0.9783\n",
            "epoch = 1490 loss = 0.0683 score = 0.9787\n",
            "epoch = 1500 loss = 0.0682 score = 0.9787\n",
            "epoch = 1510 loss = 0.0681 score = 0.9785\n",
            "epoch = 1520 loss = 0.0680 score = 0.9783\n",
            "epoch = 1530 loss = 0.0679 score = 0.9785\n",
            "epoch = 1540 loss = 0.0677 score = 0.9785\n",
            "epoch = 1550 loss = 0.0677 score = 0.9787\n",
            "epoch = 1560 loss = 0.0675 score = 0.9786\n",
            "epoch = 1570 loss = 0.0675 score = 0.9785\n",
            "epoch = 1580 loss = 0.0673 score = 0.9786\n",
            "epoch = 1590 loss = 0.0672 score = 0.9786\n",
            "epoch = 1600 loss = 0.0671 score = 0.9787\n",
            "epoch = 1610 loss = 0.0671 score = 0.9786\n",
            "epoch = 1620 loss = 0.0669 score = 0.9786\n",
            "epoch = 1630 loss = 0.0668 score = 0.9787\n",
            "epoch = 1640 loss = 0.0667 score = 0.9786\n",
            "epoch = 1650 loss = 0.0666 score = 0.9785\n",
            "epoch = 1660 loss = 0.0665 score = 0.9786\n",
            "epoch = 1670 loss = 0.0666 score = 0.9786\n",
            "epoch = 1680 loss = 0.0663 score = 0.9788\n",
            "epoch = 1690 loss = 0.0663 score = 0.9786\n",
            "epoch = 1700 loss = 0.0662 score = 0.9787\n",
            "epoch = 1710 loss = 0.0661 score = 0.9788\n",
            "epoch = 1720 loss = 0.0661 score = 0.9782\n",
            "epoch = 1730 loss = 0.0660 score = 0.9785\n",
            "epoch = 1740 loss = 0.0660 score = 0.9788\n",
            "epoch = 1750 loss = 0.0659 score = 0.9787\n",
            "epoch = 1760 loss = 0.0657 score = 0.9788\n",
            "epoch = 1770 loss = 0.0657 score = 0.9788\n",
            "epoch = 1780 loss = 0.0656 score = 0.9789\n",
            "epoch = 1790 loss = 0.0656 score = 0.9791\n",
            "epoch = 1800 loss = 0.0655 score = 0.9788\n",
            "epoch = 1810 loss = 0.0654 score = 0.9789\n",
            "epoch = 1820 loss = 0.0654 score = 0.9787\n",
            "epoch = 1830 loss = 0.0654 score = 0.9790\n",
            "epoch = 1840 loss = 0.0653 score = 0.9792\n",
            "epoch = 1850 loss = 0.0652 score = 0.9788\n",
            "epoch = 1860 loss = 0.0651 score = 0.9791\n",
            "epoch = 1870 loss = 0.0651 score = 0.9792\n",
            "epoch = 1880 loss = 0.0650 score = 0.9792\n",
            "epoch = 1890 loss = 0.0650 score = 0.9788\n",
            "epoch = 1900 loss = 0.0649 score = 0.9790\n",
            "epoch = 1910 loss = 0.0649 score = 0.9789\n",
            "epoch = 1920 loss = 0.0648 score = 0.9788\n",
            "epoch = 1930 loss = 0.0648 score = 0.9792\n",
            "epoch = 1940 loss = 0.0647 score = 0.9793\n",
            "epoch = 1950 loss = 0.0646 score = 0.9791\n",
            "epoch = 1960 loss = 0.0646 score = 0.9787\n",
            "epoch = 1970 loss = 0.0646 score = 0.9792\n",
            "epoch = 1980 loss = 0.0646 score = 0.9791\n",
            "epoch = 1990 loss = 0.0645 score = 0.9790\n",
            "CPU times: user 11min 18s, sys: 2.41 s, total: 11min 21s\n",
            "Wall time: 11min 33s\n"
          ]
        }
      ],
      "source": [
        "%%time\n",
        "while epoch < nb_epoch:\n",
        "\n",
        "    # 学習対象の選択(ミニバッチ学習法)\n",
        "    index, next_flag = indexes.next_index()\n",
        "\n",
        "    # 学習対象選択時にGPU転送を行う\n",
        "    x, yt = x_train[index].to(device), y_train_ohe[index].to(device)\n",
        "\n",
        "    # 予測値計算 (順伝播)\n",
        "    a = x @ V\n",
        "    b = sigmoid(a)\n",
        "    b1 = torch.cat((x_dum, b), dim=1)\n",
        "    u = b1 @ W\n",
        "    yp = softmax(u)\n",
        "\n",
        "    # 誤差計算\n",
        "    yd = yp - yt\n",
        "    bd = b * (1-b) * (yd @ W[1:].T)\n",
        "\n",
        "    # 勾配計算\n",
        "    W = W - alpha * (b1.T @ yd) / B\n",
        "    V = V - alpha * (x.T @ bd) / B\n",
        "\n",
        "    if next_flag : # 1epoch 終了後の処理\n",
        "        score, loss = evaluate(x_test_gpu, y_test_gpu, y_test_ohe_gpu, x_dum2, V, W)\n",
        "        history1 = np.vstack((history1, np.array([epoch, loss, score])))\n",
        "        epoch = epoch + 1\n",
        "        if (epoch-1) % 10 == 0:\n",
        "            print(f'epoch = {epoch-1} loss = {loss:.04f} score = {score:.04f}')\n"
      ]
    },
    {
      "cell_type": "markdown",
      "metadata": {
        "id": "a89w54wuln6S"
      },
      "source": [
        "### 結果分析"
      ]
    },
    {
      "cell_type": "markdown",
      "metadata": {
        "id": "1p3Q72Yklrgw"
      },
      "source": [
        "#### 損失・精度確認"
      ]
    },
    {
      "cell_type": "code",
      "execution_count": 25,
      "metadata": {
        "id": "bd_8u5NcY2XF",
        "colab": {
          "base_uri": "https://localhost:8080/"
        },
        "outputId": "ffb786b7-c29c-46fa-dd75-427c8c2163fd"
      },
      "outputs": [
        {
          "output_type": "stream",
          "name": "stdout",
          "text": [
            "初期状態: 損失関数:2.4922 精度:0.1119\n",
            "最終状態: 損失関数:0.0645 精度:0.9791\n"
          ]
        }
      ],
      "source": [
        "print(f'初期状態: 損失関数:{history1[0,1]:.04f} 精度:{history1[0,2]:.04f}')\n",
        "print(f'最終状態: 損失関数:{history1[-1,1]:.04f} 精度:{history1[-1,2]:.04f}')"
      ]
    },
    {
      "cell_type": "markdown",
      "metadata": {
        "id": "nMNy8_2amlv_"
      },
      "source": [
        "#### 学習曲線(損失)"
      ]
    },
    {
      "cell_type": "code",
      "execution_count": 26,
      "metadata": {
        "id": "mIn8wSAyly9z",
        "colab": {
          "base_uri": "https://localhost:8080/",
          "height": 563
        },
        "outputId": "71cc9e7d-2528-4550-8cb4-8bdbbf4ea9e3"
      },
      "outputs": [
        {
          "output_type": "display_data",
          "data": {
            "text/plain": [
              "<Figure size 600x600 with 1 Axes>"
            ],
            "image/png": "[encoded data removed]"
          },
          "metadata": {}
        }
      ],
      "source": [
        "plt.figure(figsize=(6,6))\n",
        "plt.plot(history1[:,0], history1[:,1], 'b')\n",
        "plt.xlabel('繰り返し回数')\n",
        "plt.ylabel('損失')\n",
        "plt.title('学習曲線(損失)')\n",
        "plt.grid()\n",
        "plt.show()"
      ]
    },
    {
      "cell_type": "markdown",
      "metadata": {
        "id": "LAVYQ-f8mr_K"
      },
      "source": [
        "#### 学習曲線(精度)"
      ]
    },
    {
      "cell_type": "code",
      "execution_count": 27,
      "metadata": {
        "id": "dbfDBBzFmvaa",
        "colab": {
          "base_uri": "https://localhost:8080/",
          "height": 563
        },
        "outputId": "99f89fec-0ad7-4eb1-8d32-cec70d53f6ac"
      },
      "outputs": [
        {
          "output_type": "display_data",
          "data": {
            "text/plain": [
              "<Figure size 600x600 with 1 Axes>"
            ],
            "image/png": "[encoded data removed]"
          },
          "metadata": {}
        }
      ],
      "source": [
        "plt.figure(figsize=(6,6))\n",
        "plt.plot(history1[:,0], history1[:,2], 'b')\n",
        "plt.xlabel('繰り返し回数')\n",
        "plt.ylabel('損失')\n",
        "plt.title('学習曲線(精度)')\n",
        "plt.grid()\n",
        "plt.show()"
      ]
    },
    {
      "cell_type": "markdown",
      "metadata": {
        "id": "CJVmLZGHyRmf"
      },
      "source": [
        "#### イメージで確認"
      ]
    },
    {
      "cell_type": "code",
      "execution_count": 28,
      "metadata": {
        "id": "M-GujHJsyXtJ",
        "colab": {
          "base_uri": "https://localhost:8080/",
          "height": 254
        },
        "outputId": "966bc9d7-de3f-430c-ce88-ba2264b4d3a1"
      },
      "outputs": [
        {
          "output_type": "display_data",
          "data": {
            "text/plain": [
              "<Figure size 1000x300 with 20 Axes>"
            ],
            "image/png": "[encoded data removed]"
          },
          "metadata": {}
        }
      ],
      "source": [
        "N = 20\n",
        "\n",
        "# テストデータから20件をランダムに抽出\n",
        "# 再現性があるようにseed値をセットしておく\n",
        "np.random.seed(12)\n",
        "x_dum3 = torch.ones((N,1)).float().to(device)\n",
        "indexes = np.random.choice(y_test.shape[0], N, replace=False)\n",
        "\n",
        "# x_orgの選択結果表示 (白黒反転)\n",
        "x_selected = x_test[indexes].to(device)\n",
        "y_selected = y_test[indexes].to(device)\n",
        "\n",
        "# 予測値の計算\n",
        "\n",
        "# テストデータに対して隠れ層の値を計算\n",
        "b_test = sigmoid(x_selected @ V)\n",
        "\n",
        "# ダミー変数追加\n",
        "b1_test = torch.cat((x_dum3, b_test), dim=1)\n",
        "\n",
        "# 予測値算出\n",
        "yp_test_ohe = softmax(b1_test @ W)\n",
        "\n",
        "# ラベル値算出\n",
        "yp_test = torch.argmax(yp_test_ohe, dim=1)\n",
        "\n",
        "# グラフ表示\n",
        "plt.figure(figsize=(10, 3))\n",
        "for i in range(N):\n",
        "\n",
        "    # 描画位置指定\n",
        "    ax = plt.subplot(2, int(N/2), i + 1)\n",
        "\n",
        "    # 画像イメージ表示\n",
        "    ax.imshow(x_selected[i,1:].cpu().reshape(28, 28),cmap='gray_r')\n",
        "\n",
        "    # 正解ラベル:予測結果　の表示\n",
        "    ax.set_title(f'{int(y_selected[i])}:{yp_test[i]}', fontsize=16)\n",
        "\n",
        "    # 軸ラベル非表示\n",
        "    ax.get_xaxis().set_visible(False)\n",
        "    ax.get_yaxis().set_visible(False)\n",
        "plt.show()"
      ]
    },
    {
      "cell_type": "markdown",
      "metadata": {
        "id": "4O2PLFyUxel2"
      },
      "source": [
        "### バージョン確認"
      ]
    },
    {
      "cell_type": "code",
      "source": [
        "!pip install watermark -qq\n",
        "%load_ext watermark\n",
        "%watermark --iversions"
      ],
      "metadata": {
        "colab": {
          "base_uri": "https://localhost:8080/"
        },
        "id": "QvspbaTyzV2O",
        "outputId": "b6bf8f8d-fe4f-4ff6-973a-3ca31f4a029a"
      },
      "execution_count": 30,
      "outputs": [
        {
          "output_type": "stream",
          "name": "stdout",
          "text": [
            "The watermark extension is already loaded. To reload it, use:\n",
            "  %reload_ext watermark\n",
            "torch              : 2.5.1+cu121\n",
            "sklearn            : 1.6.0\n",
            "japanize_matplotlib: 1.1.3\n",
            "IPython            : 7.34.0\n",
            "numpy              : 1.26.4\n",
            "matplotlib         : 3.8.0\n",
            "pandas             : 2.2.2\n",
            "\n"
          ]
        }
      ]
    },
    {
      "cell_type": "code",
      "source": [],
      "metadata": {
        "id": "NUoEkx4_1phL"
      },
      "execution_count": null,
      "outputs": []
    }
  ],
  "metadata": {
    "accelerator": "GPU",
    "colab": {
      "gpuType": "T4",
      "provenance": [],
      "toc_visible": true
    },
    "kernelspec": {
      "display_name": "Python 3",
      "name": "python3"
    },
    "language_info": {
      "name": "python"
    }
  },
  "nbformat": 4,
  "nbformat_minor": 0
}