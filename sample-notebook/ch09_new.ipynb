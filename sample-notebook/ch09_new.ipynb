{
  "cells": [
    {
      "cell_type": "markdown",
      "metadata": {
        "id": "JCcpmXsxhuPL"
      },
      "source": [
        "### 多値分類モデル　改訂版"
      ]
    },
    {
      "cell_type": "markdown",
      "metadata": {},
      "source": [
        "<a href=\"https://colab.research.google.com/github/makaishi2/math_dl_book_info/blob/master/sample-notebook/ch09_new.ipynb\" target=\"_parent\"><img src=\"https://colab.research.google.com/assets/colab-badge.svg\" alt=\"Open In Colab\"/></a>"
      ]
    },
    {
      "cell_type": "markdown",
      "metadata": {
        "id": "oyqmJYIuh2b0"
      },
      "source": [
        "### 必要ライブラリの導入"
      ]
    },
    {
      "cell_type": "code",
      "execution_count": null,
      "metadata": {
        "id": "nibzhB5MhjY6"
      },
      "outputs": [],
      "source": [
        "# 日本語化ライブラリ導入\n",
        "!pip install japanize-matplotlib -qq"
      ]
    },
    {
      "cell_type": "code",
      "execution_count": null,
      "metadata": {
        "id": "Pb5zQ5tzhzAt"
      },
      "outputs": [],
      "source": [
        "# 共通事前処理\n",
        "\n",
        "# 必要ライブラリのimport\n",
        "import pandas as pd\n",
        "import numpy as np\n",
        "import matplotlib.pyplot as plt\n",
        "\n",
        "# matplotlib日本語化対応\n",
        "import japanize_matplotlib\n",
        "\n",
        "# データフレーム表示用関数\n",
        "from IPython.display import display\n",
        "\n",
        "# pandasでの浮動小数点の表示精度\n",
        "pd.options.display.float_format = '{:.2f}'.format\n",
        "\n",
        "# 余分なワーニングを非表示にする\n",
        "import warnings\n",
        "warnings.filterwarnings('ignore')"
      ]
    },
    {
      "cell_type": "markdown",
      "metadata": {
        "id": "0HpPlWC1iJd8"
      },
      "source": [
        "### データ準備"
      ]
    },
    {
      "cell_type": "markdown",
      "metadata": {
        "id": "t2w-RbaNiOWD"
      },
      "source": [
        "#### データ読み込み"
      ]
    },
    {
      "cell_type": "code",
      "execution_count": null,
      "metadata": {
        "id": "_rRJogbTiF_j"
      },
      "outputs": [],
      "source": [
        "from sklearn.datasets import load_iris\n",
        "\n",
        "# アイリスデータセットをロード\n",
        "iris = load_iris(as_frame=True)\n",
        "\n",
        "df = iris.data\n",
        "df.columns = ['がく片長', 'がく片幅', '花弁長', '花弁幅']\n",
        "display(df.head())"
      ]
    },
    {
      "cell_type": "markdown",
      "metadata": {
        "id": "PYLDtUWqjFu4"
      },
      "source": [
        "#### データ絞り込み"
      ]
    },
    {
      "cell_type": "code",
      "execution_count": null,
      "metadata": {
        "id": "ZolEY3tqjJ-W"
      },
      "outputs": [],
      "source": [
        "# データ絞り込み\n",
        "#   クラスはすべて\n",
        "#   項目がく片長と花弁長のみ\n",
        "x_data = df[['がく片長','花弁長']].values\n",
        "y_data = iris.target.values\n",
        "\n",
        "print('x_data')\n",
        "print(f'shape: {x_data.shape}')\n",
        "print(f'先頭5行:\\n{x_data[:5]}\\n')\n",
        "\n",
        "print('y_data')\n",
        "print(f'shape: {y_data.shape}')\n",
        "print(f'先頭5行:\\n{y_data[:5]}')"
      ]
    },
    {
      "cell_type": "markdown",
      "metadata": {
        "id": "8FRHW9uOio1n"
      },
      "source": [
        "### 散布図表示"
      ]
    },
    {
      "cell_type": "markdown",
      "metadata": {
        "id": "RJ1I3QboDB-c"
      },
      "source": [
        " #### y_dataの値でデータ分割"
      ]
    },
    {
      "cell_type": "code",
      "execution_count": null,
      "metadata": {
        "id": "Y4TtgUV_nRKg"
      },
      "outputs": [],
      "source": [
        "x_t0 = x_data[y_data == 0]\n",
        "x_t1 = x_data[y_data == 1]\n",
        "x_t2 = x_data[y_data == 2]"
      ]
    },
    {
      "cell_type": "markdown",
      "metadata": {
        "id": "i9-nto0xDOj8"
      },
      "source": [
        "#### 散布図表示"
      ]
    },
    {
      "cell_type": "code",
      "execution_count": null,
      "metadata": {
        "id": "WWu2vglNiWpF"
      },
      "outputs": [],
      "source": [
        "# グラフのサイズ指定\n",
        "plt.figure(figsize=(6,6))\n",
        "\n",
        "# マーカを変えて散布図表示\n",
        "plt.scatter(x_t0[:,0], x_t0[:,1], marker='x', c='k', s=50, label='0 (setosa)')\n",
        "plt.scatter(x_t1[:,0], x_t1[:,1], marker='o', c='b', s=50, label='1 (versicolour)')\n",
        "plt.scatter(x_t2[:,0], x_t2[:,1], marker='+', c='k', s=50, label='2 (virginica)')\n",
        "\n",
        "# グラフのキレイ化\n",
        "plt.title('アイリスデータセットの散布図(がく片長vs花弁長)')\n",
        "plt.xlabel('がく片長')\n",
        "plt.ylabel('花弁長')\n",
        "plt.legend()\n",
        "plt.grid()\n",
        "plt.show()"
      ]
    },
    {
      "cell_type": "markdown",
      "metadata": {
        "id": "eNgFbmdZq2jC"
      },
      "source": [
        "### データ前処理"
      ]
    },
    {
      "cell_type": "markdown",
      "metadata": {
        "id": "zNKwd8FsrAQI"
      },
      "source": [
        "#### xにダミー変数の追加"
      ]
    },
    {
      "cell_type": "code",
      "execution_count": null,
      "metadata": {
        "id": "njj1GX-jpqbR"
      },
      "outputs": [],
      "source": [
        "# ダミー変数を追加\n",
        "x_data2 = np.insert(x_data, 0, 1.0, axis=1)\n",
        "\n",
        "print('ダミー変数追加後')\n",
        "print(x_data2.shape)\n",
        "print(x_data2[:5])"
      ]
    },
    {
      "cell_type": "markdown",
      "metadata": {
        "id": "UGyle_7OriW8"
      },
      "source": [
        "#### yをOne hot vectorに"
      ]
    },
    {
      "cell_type": "code",
      "execution_count": null,
      "metadata": {
        "id": "Hrn-ijUXrXWn"
      },
      "outputs": [],
      "source": [
        "from sklearn.preprocessing import OneHotEncoder\n",
        "\n",
        "# y_dataの行列化\n",
        "y_data_matrix = y_data.reshape(-1,1)\n",
        "\n",
        "# one hot encoderインスタンスの生成\n",
        "ohe = OneHotEncoder(sparse_output=False,categories='auto')\n",
        "\n",
        "# y_data_magtrixのone hot encoding\n",
        "y_data_ohe = ohe.fit_transform(y_data_matrix)\n",
        "\n",
        "# 各変数のshape確認\n",
        "print('オリジナル', y_data.shape)\n",
        "print('２次元化', y_data_matrix.shape)\n",
        "print('One Hot Vector化後', y_data_ohe.shape)"
      ]
    },
    {
      "cell_type": "markdown",
      "metadata": {
        "id": "91C8O1BOtcOH"
      },
      "source": [
        "#### 訓練データ・テストデータへの分割"
      ]
    },
    {
      "cell_type": "code",
      "execution_count": null,
      "metadata": {
        "id": "5b3bD4cZsg3S"
      },
      "outputs": [],
      "source": [
        "# 学習データ、検証データに分割\n",
        "from sklearn.model_selection import train_test_split\n",
        "\n",
        "x_train, x_test, y_train, y_test, y_train_ohe, y_test_ohe = train_test_split(\n",
        "    x_data2, y_data, y_data_ohe, train_size=75, test_size=75, random_state=123)"
      ]
    },
    {
      "cell_type": "code",
      "execution_count": null,
      "metadata": {
        "id": "sF762Xlrt2zL"
      },
      "outputs": [],
      "source": [
        "# 各変数のshape確認\n",
        "print('x_train', x_train.shape)\n",
        "print('x_test', x_test.shape)\n",
        "print('y_train', y_train.shape)\n",
        "print('y_test', y_test.shape)\n",
        "print('y_train_ohe', y_train_ohe.shape)\n",
        "print('y_test_ohe', y_test_ohe.shape)"
      ]
    },
    {
      "cell_type": "code",
      "execution_count": null,
      "metadata": {
        "id": "GsU77Y_et285"
      },
      "outputs": [],
      "source": [
        "# xtrainの内容確認\n",
        "print(x_train[:5])"
      ]
    },
    {
      "cell_type": "code",
      "execution_count": null,
      "metadata": {
        "id": "FUuvSDd6uuph"
      },
      "outputs": [],
      "source": [
        "# y_trainの内容確認\n",
        "print(y_train[:5])"
      ]
    },
    {
      "cell_type": "code",
      "execution_count": null,
      "metadata": {
        "id": "ZlaapovTu3-U"
      },
      "outputs": [],
      "source": [
        "# y_train_oheの内容確認\n",
        "print(y_train_ohe[:5])"
      ]
    },
    {
      "cell_type": "markdown",
      "metadata": {
        "id": "3XkyaDNPvg6L"
      },
      "source": [
        "### 学習準備"
      ]
    },
    {
      "cell_type": "markdown",
      "metadata": {
        "id": "kYpcqvP_vmEP"
      },
      "source": [
        "#### 学習用変数の設定"
      ]
    },
    {
      "cell_type": "code",
      "execution_count": null,
      "metadata": {
        "id": "VU1Slukuu_0X"
      },
      "outputs": [],
      "source": [
        "# 学習対象の選択\n",
        "x, yt  = x_train, y_train_ohe"
      ]
    },
    {
      "cell_type": "markdown",
      "metadata": {
        "id": "1FYFbtVXv18s"
      },
      "source": [
        "### 関数定義"
      ]
    },
    {
      "cell_type": "markdown",
      "metadata": {
        "id": "Wfjy1jkHv851"
      },
      "source": [
        "#### softmax関数"
      ]
    },
    {
      "cell_type": "code",
      "execution_count": null,
      "metadata": {
        "id": "JfWdyOeRvvIT"
      },
      "outputs": [],
      "source": [
        "def softmax(x):\n",
        "    x = x.T\n",
        "    x_max = x.max(axis=0)\n",
        "    x = x - x_max\n",
        "    w = np.exp(x)\n",
        "    return (w / w.sum(axis=0)).T"
      ]
    },
    {
      "cell_type": "markdown",
      "metadata": {
        "id": "5lZnM9L6wQo-"
      },
      "source": [
        "#### 予測関数"
      ]
    },
    {
      "cell_type": "code",
      "execution_count": null,
      "metadata": {
        "id": "UtLGPSZcwNmH"
      },
      "outputs": [],
      "source": [
        "def pred(x, W):\n",
        "    return softmax(x @ W)"
      ]
    },
    {
      "cell_type": "markdown",
      "metadata": {
        "id": "MgUAhtbnwqhp"
      },
      "source": [
        "#### 損失関数(交差エントロピー関数)"
      ]
    },
    {
      "cell_type": "code",
      "execution_count": null,
      "metadata": {
        "id": "_viOPy-jwch-"
      },
      "outputs": [],
      "source": [
        "def cross_entropy(yt, yp):\n",
        "    return -np.mean(np.sum(yt * np.log(yp), axis=1))"
      ]
    },
    {
      "cell_type": "markdown",
      "metadata": {
        "id": "XXgljh3txBmy"
      },
      "source": [
        "#### evaluate(損失と精度を計算)"
      ]
    },
    {
      "cell_type": "code",
      "execution_count": null,
      "metadata": {
        "id": "wgKbRC0GxKQo"
      },
      "outputs": [],
      "source": [
        "# モデルの評価を行う関数\n",
        "from sklearn.metrics import accuracy_score\n",
        "\n",
        "def evaluate(x_test, y_test, y_test_ohe, W):\n",
        "\n",
        "    # 予測値の計算(確率値)\n",
        "    yp_test_ohe = pred(x_test, W)\n",
        "\n",
        "    # 確率値から予測クラス(0, 1, 2)を導出\n",
        "    yp_test = np.argmax(yp_test_ohe, axis=1)\n",
        "\n",
        "    # 損失関数値の計算\n",
        "    loss = cross_entropy(y_test_ohe, yp_test_ohe)\n",
        "\n",
        "    # 精度の算出\n",
        "    score = accuracy_score(y_test, yp_test)\n",
        "    return loss, score"
      ]
    },
    {
      "cell_type": "markdown",
      "metadata": {
        "id": "JsAdEVZDxvU5"
      },
      "source": [
        " ### 学習"
      ]
    },
    {
      "cell_type": "markdown",
      "metadata": {
        "id": "eq4CK0yyxyft"
      },
      "source": [
        "#### 初期設定"
      ]
    },
    {
      "cell_type": "code",
      "execution_count": null,
      "metadata": {
        "id": "R9yqr0ltw0Ra"
      },
      "outputs": [],
      "source": [
        "# 標本数\n",
        "M  = x.shape[0]\n",
        "# 入力次元数(ダミー変数を含む\n",
        "D = x.shape[1]\n",
        "# 分類先クラス数\n",
        "N = yt.shape[1]\n",
        "\n",
        "# 繰り返し回数\n",
        "iters = 10000\n",
        "\n",
        "# 学習率\n",
        "alpha = 0.01\n",
        "\n",
        "# 重み行列の初期設定(すべて1)\n",
        "W = np.ones((D, N))\n",
        "\n",
        "# 評価結果記録用\n",
        "history = np.zeros((0, 3))"
      ]
    },
    {
      "cell_type": "markdown",
      "metadata": {
        "id": "4uX78KLOx6pb"
      },
      "source": [
        "#### 繰り返し処理"
      ]
    },
    {
      "cell_type": "code",
      "execution_count": null,
      "metadata": {
        "id": "H88MK0inx5et"
      },
      "outputs": [],
      "source": [
        "for k in range(iters):\n",
        "\n",
        "    # 予測値の計算 (9.7.1)　(9.7.2)\n",
        "    yp = pred(x, W)\n",
        "\n",
        "    # 誤差の計算 (9.7.4)\n",
        "    yd = yp - yt\n",
        "\n",
        "    # 重みの更新 (9.7.5)\n",
        "    W = W - alpha * (x.T @ yd) / M\n",
        "\n",
        "    if (k % 10 == 0):\n",
        "        loss, score = evaluate(x_test, y_test, y_test_ohe, W)\n",
        "        history = np.vstack((history, np.array([k, loss, score])))\n",
        "        print(f\"epoch = {k} loss = {loss:.04f} score = {score:.04f}\")"
      ]
    },
    {
      "cell_type": "markdown",
      "metadata": {
        "id": "kbhcdwT2yiYV"
      },
      "source": [
        "### 結果分析"
      ]
    },
    {
      "cell_type": "markdown",
      "metadata": {
        "id": "NXSNtxnGynQV"
      },
      "source": [
        "#### 損失・精度確認"
      ]
    },
    {
      "cell_type": "code",
      "execution_count": null,
      "metadata": {
        "id": "H_TIXzc4yED_"
      },
      "outputs": [],
      "source": [
        "print(f'初期状態: 損失関数:{history[0,1]:.04f} 精度:{history[0,2]:.04f}')\n",
        "print(f'最終状態: 損失関数:{history[-1,1]:.04f} 精度:{history[-1,2]:.04f}')"
      ]
    },
    {
      "cell_type": "markdown",
      "metadata": {
        "id": "r4UqjgTCy24h"
      },
      "source": [
        " #### 学習曲線表示(損失)"
      ]
    },
    {
      "cell_type": "code",
      "execution_count": null,
      "metadata": {
        "id": "O8ACR9GayucY"
      },
      "outputs": [],
      "source": [
        "# グラフのサイズ指定\n",
        "plt.figure(figsize=(6,6))\n",
        "\n",
        "# 学習曲線の表示 (最初の1個分を除く)\n",
        "plt.plot(history[1:,0], history[1:,1])\n",
        "\n",
        "# グラフのキレイ化\n",
        "plt.title('学習曲線(損失)')\n",
        "plt.grid()\n",
        "plt.xlabel('繰り返し回数')\n",
        "plt.ylabel('損失関数値')\n",
        "plt.show()"
      ]
    },
    {
      "cell_type": "markdown",
      "metadata": {
        "id": "oRQXoxEwzIlq"
      },
      "source": [
        "#### 学習曲線表示(精度)"
      ]
    },
    {
      "cell_type": "code",
      "execution_count": null,
      "metadata": {
        "id": "7FVHXYHvy7Yb"
      },
      "outputs": [],
      "source": [
        "# グラフのサイズ指定\n",
        "plt.figure(figsize=(6,6))\n",
        "\n",
        "# 学習曲線の表示 (最初の1個分を除く)\n",
        "plt.plot(history[1:,0], history[1:,2])\n",
        "\n",
        "# グラフのキレイ化\n",
        "plt.title('学習曲線(精度)')\n",
        "plt.grid()\n",
        "plt.xlabel('繰り返し回数')\n",
        "plt.ylabel('損失関数値')\n",
        "plt.show()"
      ]
    },
    {
      "cell_type": "markdown",
      "metadata": {
        "id": "_hu-JdJGziI1"
      },
      "source": [
        "#### 予測関数の3次元曲面表示"
      ]
    },
    {
      "cell_type": "code",
      "execution_count": null,
      "metadata": {
        "id": "nWRYp6YDzOri"
      },
      "outputs": [],
      "source": [
        "# 3次元表示\n",
        "from mpl_toolkits.mplot3d import Axes3D\n",
        "x1 = np.linspace(4, 8.5, 100)\n",
        "x2 = np.linspace(0.5, 7.5, 100)\n",
        "xx1, xx2 = np.meshgrid(x1, x2)\n",
        "xxx = np.array([np.ones(xx1.ravel().shape),\n",
        "    xx1.ravel(), xx2.ravel()]).T\n",
        "pp = pred(xxx, W)\n",
        "c0 = pp[:,0].reshape(xx1.shape)\n",
        "c1 = pp[:,1].reshape(xx1.shape)\n",
        "c2 = pp[:,2].reshape(xx1.shape)\n",
        "plt.figure(figsize=(8,8))\n",
        "ax = plt.subplot(1, 1, 1, projection='3d')\n",
        "ax.plot_surface(xx1, xx2, c0, color='lightblue',\n",
        "    edgecolor='black', rstride=10, cstride=10, alpha=0.7)\n",
        "ax.plot_surface(xx1, xx2, c1, color='blue',\n",
        "    edgecolor='black', rstride=10, cstride=10, alpha=0.7)\n",
        "ax.plot_surface(xx1, xx2, c2, color='lightgrey',\n",
        "    edgecolor='black', rstride=10, cstride=10, alpha=0.7)\n",
        "ax.scatter(x_t0[:,0], x_t0[:,1], 1, s=50, alpha=1, marker='+', c='k')\n",
        "ax.scatter(x_t1[:,0], x_t1[:,1], 1, s=30, alpha=1, marker='o', c='k')\n",
        "ax.scatter(x_t2[:,0], x_t2[:,1], 1, s=50, alpha=1, marker='x', c='k')\n",
        "ax.set_xlim(4,8.5)\n",
        "ax.set_ylim(0.5,7.5)\n",
        "ax.view_init(elev=40, azim=70)"
      ]
    },
    {
      "cell_type": "markdown",
      "metadata": {
        "id": "-GOMBnLTwUUz"
      },
      "source": [
        "#### 詳細な精度評価"
      ]
    },
    {
      "cell_type": "code",
      "execution_count": null,
      "metadata": {
        "id": "ytvTy2N-zz-R"
      },
      "outputs": [],
      "source": [
        "from sklearn.metrics import accuracy_score\n",
        "from sklearn.metrics import confusion_matrix\n",
        "from sklearn.metrics import classification_report\n",
        "\n",
        "# テストデータで予測値の計算\n",
        "yp_test_one = pred(x_test, W)\n",
        "yp_test = np.argmax(yp_test_one, axis=1)\n",
        "\n",
        "#  精度の計算\n",
        "from sklearn.metrics import accuracy_score\n",
        "score = accuracy_score(y_test, yp_test)\n",
        "print('accuracy: %f' % score)\n",
        "\n",
        "# 混同行列の表示\n",
        "from sklearn.metrics import confusion_matrix\n",
        "print(confusion_matrix(y_test, yp_test))\n",
        "print(classification_report(y_test, yp_test))"
      ]
    },
    {
      "cell_type": "markdown",
      "metadata": {
        "id": "IIrbcUnzwrFn"
      },
      "source": [
        "### 入力変数をオリジナルの4つに変更"
      ]
    },
    {
      "cell_type": "markdown",
      "metadata": {
        "id": "52FLJpYExZZl"
      },
      "source": [
        "#### x_data4の準備"
      ]
    },
    {
      "cell_type": "code",
      "execution_count": null,
      "metadata": {
        "id": "jN9C6zRTwdc8"
      },
      "outputs": [],
      "source": [
        "# x_data3: 4要素を持つNumPy配列\n",
        "x_data3 = df[['がく片長', 'がく片幅', '花弁長', '花弁幅']].values\n",
        "\n",
        "# ダミー変数を追加\n",
        "x_data4 = np.insert(x_data3, 0, 1.0, axis=1)\n",
        "\n",
        "# 結果確認\n",
        "print(x_data4.shape)\n",
        "print(x_data4[:5])"
      ]
    },
    {
      "cell_type": "markdown",
      "metadata": {
        "id": "9A8oQEuiyWfv"
      },
      "source": [
        "#### 訓練データ・テストデータへの分割"
      ]
    },
    {
      "cell_type": "code",
      "execution_count": null,
      "metadata": {
        "id": "xUHjaY69xvbP"
      },
      "outputs": [],
      "source": [
        "# 学習データ、検証データに分割\n",
        "from sklearn.model_selection import train_test_split\n",
        "\n",
        "x_train2, x_test2, y_train, y_test, y_train_ohe, y_test_ohe = train_test_split(\n",
        "    x_data4, y_data, y_data_ohe, train_size=75, test_size=75, random_state=123)"
      ]
    },
    {
      "cell_type": "code",
      "execution_count": null,
      "metadata": {
        "id": "vEVVjYS3ymEe"
      },
      "outputs": [],
      "source": [
        "# 各変数のshape確認\n",
        "print('x_train2', x_train2.shape)\n",
        "print('x_test2', x_test2.shape)\n",
        "print('y_train', y_train.shape)\n",
        "print('y_test', y_test.shape)\n",
        "print('y_train_ohe', y_train_ohe.shape)\n",
        "print('y_test_ohe', y_test_ohe.shape)"
      ]
    },
    {
      "cell_type": "code",
      "execution_count": null,
      "metadata": {
        "id": "1ReNk2Dhywpk"
      },
      "outputs": [],
      "source": [
        "# xtrainの内容確認\n",
        "print(x_train2[:5])"
      ]
    },
    {
      "cell_type": "markdown",
      "metadata": {
        "id": "TAS9IEAezQqO"
      },
      "source": [
        "#### 学習対象の選択"
      ]
    },
    {
      "cell_type": "code",
      "execution_count": null,
      "metadata": {
        "id": "wt3heG0Gy3jl"
      },
      "outputs": [],
      "source": [
        "x, yt, x_test  = x_train2, y_train_ohe, x_test2"
      ]
    },
    {
      "cell_type": "markdown",
      "metadata": {
        "id": "9g9b8FmYzcw0"
      },
      "source": [
        "#### 初期設定"
      ]
    },
    {
      "cell_type": "code",
      "execution_count": null,
      "metadata": {
        "id": "5kWiEdfmzUm3"
      },
      "outputs": [],
      "source": [
        "# 標本数\n",
        "M  = x.shape[0]\n",
        "# 入力次元数(ダミー変数を含む\n",
        "D = x.shape[1]\n",
        "# 分類先クラス数\n",
        "N = yt.shape[1]\n",
        "\n",
        "# 繰り返し回数\n",
        "iters = 10000\n",
        "\n",
        "# 学習率\n",
        "alpha = 0.01\n",
        "\n",
        "# 重み行列の初期設定(すべて1)\n",
        "W = np.ones((D, N))\n",
        "\n",
        "# 評価結果記録用\n",
        "history = np.zeros((0, 3))"
      ]
    },
    {
      "cell_type": "markdown",
      "metadata": {
        "id": "58TMbBe7zoJG"
      },
      "source": [
        "#### 繰り返し処理"
      ]
    },
    {
      "cell_type": "code",
      "execution_count": null,
      "metadata": {
        "id": "Gyv9mErqzjsH"
      },
      "outputs": [],
      "source": [
        "for k in range(iters):\n",
        "\n",
        "    # 予測値の計算\n",
        "    yp = pred(x, W)\n",
        "\n",
        "    # 誤差の計算\n",
        "    yd = yp - yt\n",
        "\n",
        "    # 重みの更新\n",
        "    W = W - alpha * (x.T @ yd) / M\n",
        "\n",
        "    if (k % 10 == 0):\n",
        "        loss, score = evaluate(x_test, y_test, y_test_ohe, W)\n",
        "        history = np.vstack((history, np.array([k, loss, score])))\n",
        "        print(\"epoch = %d loss = %f score = %f\" % (k, loss, score))"
      ]
    },
    {
      "cell_type": "markdown",
      "metadata": {
        "id": "DeRa4x670LWj"
      },
      "source": [
        "#### 損失・精度確認"
      ]
    },
    {
      "cell_type": "code",
      "execution_count": null,
      "metadata": {
        "id": "QnP1w62zz0J-"
      },
      "outputs": [],
      "source": [
        "print(f'初期状態: 損失関数:{history[0,1]:.04f} 精度:{history[0,2]:.04f}')\n",
        "print(f'最終状態: 損失関数:{history[-1,1]:.04f} 精度:{history[-1,2]:.04f}')"
      ]
    },
    {
      "cell_type": "markdown",
      "metadata": {
        "id": "f1op6WO-0YL3"
      },
      "source": [
        "#### 学習曲線表示(損失)"
      ]
    },
    {
      "cell_type": "code",
      "execution_count": null,
      "metadata": {
        "id": "PdrwBy8y0OVU"
      },
      "outputs": [],
      "source": [
        "# グラフのサイズ指定\n",
        "plt.figure(figsize=(6,6))\n",
        "\n",
        "# 学習曲線の表示 (最初の1個分を除く)\n",
        "plt.plot(history[1:,0], history[1:,1])\n",
        "\n",
        "# グラフのキレイ化\n",
        "plt.title('学習曲線(損失)')\n",
        "plt.grid()\n",
        "plt.xlabel('繰り返し回数')\n",
        "plt.ylabel('損失関数値')\n",
        "plt.show()"
      ]
    },
    {
      "cell_type": "markdown",
      "metadata": {
        "id": "o4bVi3BZ0je_"
      },
      "source": [
        "#### 学習曲線表示(精度)"
      ]
    },
    {
      "cell_type": "code",
      "execution_count": null,
      "metadata": {
        "id": "X6icC8WJ0hNV"
      },
      "outputs": [],
      "source": [
        "# グラフのサイズ指定\n",
        "plt.figure(figsize=(6,6))\n",
        "\n",
        "# 学習曲線の表示 (最初の1個分を除く)\n",
        "plt.plot(history[1:,0], history[1:,2])\n",
        "\n",
        "# グラフのキレイ化\n",
        "plt.title('学習曲線(精度)')\n",
        "plt.grid()\n",
        "plt.xlabel('繰り返し回数')\n",
        "plt.ylabel('精度')\n",
        "plt.show()"
      ]
    },
    {
      "cell_type": "markdown",
      "metadata": {
        "id": "xsnJJs2jERKr"
      },
      "source": [
        "### バージョン確認"
      ]
    },
    {
      "cell_type": "code",
      "execution_count": null,
      "metadata": {
        "id": "uGuDChrH0ra_"
      },
      "outputs": [],
      "source": [
        "!pip install watermark -qq\n",
        "%load_ext watermark\n",
        "%watermark --iversions"
      ]
    },
    {
      "cell_type": "code",
      "execution_count": null,
      "metadata": {
        "id": "OYaRvJA4EXLJ"
      },
      "outputs": [],
      "source": []
    }
  ],
  "metadata": {
    "colab": {
      "provenance": [],
      "toc_visible": true
    },
    "kernelspec": {
      "display_name": "Python 3",
      "name": "python3"
    },
    "language_info": {
      "name": "python"
    }
  },
  "nbformat": 4,
  "nbformat_minor": 0
}
