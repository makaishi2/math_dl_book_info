{
  "cells": [
    {
      "cell_type": "markdown",
      "metadata": {
        "id": "VwHi7ns7t-Fh"
      },
      "source": [
        "### DLモデル　改訂版"
      ]
    },
    {
      "cell_type": "markdown",
      "metadata": {
        "id": "SdytJsj7uENZ"
      },
      "source": [
        "### 必要ライブラリの導入"
      ]
    },
    {
      "cell_type": "code",
      "execution_count": null,
      "metadata": {
        "id": "SVoHxKlxtvun"
      },
      "outputs": [],
      "source": [
        "# 日本語化ライブラリ導入\n",
        "!pip install japanize-matplotlib -qq"
      ]
    },
    {
      "cell_type": "code",
      "execution_count": null,
      "metadata": {
        "id": "FcYb9AsPuBZN"
      },
      "outputs": [],
      "source": [
        "# 共通事前処理\n",
        "\n",
        "# 必要ライブラリのimport\n",
        "import pandas as pd\n",
        "import numpy as np\n",
        "import matplotlib.pyplot as plt\n",
        "\n",
        "# matplotlib日本語化対応\n",
        "import japanize_matplotlib\n",
        "\n",
        "# データフレーム表示用関数\n",
        "from IPython.display import display\n",
        "\n",
        "# pandasでの浮動小数点の表示精度\n",
        "pd.options.display.float_format = '{:.2f}'.format\n",
        "\n",
        "# 余分なワーニングを非表示にする\n",
        "import warnings\n",
        "warnings.filterwarnings('ignore')"
      ]
    },
    {
      "cell_type": "markdown",
      "metadata": {
        "id": "_MgwqQ45uTIX"
      },
      "source": [
        "### データ準備"
      ]
    },
    {
      "cell_type": "markdown",
      "metadata": {
        "id": "L7GzmDW-uYQi"
      },
      "source": [
        "#### データ読み込み"
      ]
    },
    {
      "cell_type": "code",
      "execution_count": null,
      "metadata": {
        "id": "q175_b_SuQuo"
      },
      "outputs": [],
      "source": [
        "from sklearn.datasets import fetch_openml\n",
        "mnist = fetch_openml('mnist_784', version=1,)\n",
        "\n",
        "x_org = mnist.data.values\n",
        "y_org = mnist.target.astype(int).values\n",
        "\n",
        "# 結果確認\n",
        "print(x_org.shape, y_org.shape)\n",
        "print(y_org[:5])"
      ]
    },
    {
      "cell_type": "markdown",
      "metadata": {
        "id": "H82FRtbExNax"
      },
      "source": [
        "### データ加工"
      ]
    },
    {
      "cell_type": "markdown",
      "metadata": {
        "id": "mv5T9xOBxTFv"
      },
      "source": [
        "#### xの正規化"
      ]
    },
    {
      "cell_type": "code",
      "execution_count": null,
      "metadata": {
        "id": "mo3kTdhcu2Ov"
      },
      "outputs": [],
      "source": [
        "# xの正規化\n",
        "x_norm = x_org / 255.0\n",
        "\n",
        "# 先頭にダミー変数(1)を追加\n",
        "x_all = np.insert(x_norm, 0, 1, axis=1)\n",
        "\n",
        "print('ダミー変数追加後', x_all.shape)"
      ]
    },
    {
      "cell_type": "markdown",
      "metadata": {
        "id": "HyrgLqgkx0g4"
      },
      "source": [
        "#### yのone hot vector化"
      ]
    },
    {
      "cell_type": "code",
      "execution_count": null,
      "metadata": {
        "id": "0ifBAXFlxiyw"
      },
      "outputs": [],
      "source": [
        "from sklearn.preprocessing import OneHotEncoder\n",
        "ohe = OneHotEncoder(sparse_output=False,categories='auto')\n",
        "y_all_ohe = ohe.fit_transform(y_org.reshape(-1, 1))\n",
        "\n",
        "print('One Hot Vector化前', y_org.shape)\n",
        "print('One Hot Vector化後', y_all_ohe.shape)"
      ]
    },
    {
      "cell_type": "markdown",
      "metadata": {
        "id": "0JJALvdMyng0"
      },
      "source": [
        "#### 訓練データ・テストエータへの分割"
      ]
    },
    {
      "cell_type": "code",
      "execution_count": null,
      "metadata": {
        "id": "NKPlfxdJyJcj"
      },
      "outputs": [],
      "source": [
        "from sklearn.model_selection import train_test_split\n",
        "x_train_np, x_test_np,y_train_np, y_test_np,y_train_ohe_np, y_test_ohe_np = train_test_split(\n",
        "    x_all, y_org, y_all_ohe, train_size=60000, test_size=10000, shuffle=False)\n",
        "\n",
        "# 結果確認\n",
        "print('訓練データ', x_train_np.shape, y_train_np.shape, y_train_ohe_np.shape)\n",
        "print('テストデータ', x_test_np.shape, y_test_np.shape, y_test_ohe_np.shape)"
      ]
    },
    {
      "cell_type": "markdown",
      "metadata": {
        "id": "Z9FajHRy5VCI"
      },
      "source": [
        "#### torch変数に変換\n"
      ]
    },
    {
      "cell_type": "markdown",
      "metadata": {
        "id": "AX4jFbE8105z"
      },
      "source": [
        "### GPU操作"
      ]
    },
    {
      "cell_type": "markdown",
      "metadata": {
        "id": "XeRlGi1F5KAv"
      },
      "source": [
        " #### GPU 存在チェック"
      ]
    },
    {
      "cell_type": "code",
      "execution_count": null,
      "metadata": {
        "id": "0tZrt78115g9"
      },
      "outputs": [],
      "source": [
        "import torch\n",
        "\n",
        "# GPUが利用可能かどうかのチェック\n",
        "device = torch.device(\"cuda:0\" if torch.cuda.is_available() else \"cpu\")\n",
        "\n",
        "# 利用可能な場合は\"cuda:0\"が出力される\n",
        "print(device)"
      ]
    },
    {
      "cell_type": "markdown",
      "metadata": {
        "id": "d1Y12OrHWQRJ"
      },
      "source": [
        "#### Tensor型に変換"
      ]
    },
    {
      "cell_type": "code",
      "execution_count": null,
      "metadata": {
        "id": "K3ywUose5jgq"
      },
      "outputs": [],
      "source": [
        "# NumPy変数をTensor変数に変換\n",
        "x_train = torch.Tensor(x_train_np).float()\n",
        "y_train = torch.Tensor(y_train_np).float()\n",
        "y_train_ohe = torch.Tensor(y_train_ohe_np).float()\n",
        "x_test = torch.Tensor(x_test_np).float()\n",
        "y_test = torch.Tensor(y_test_np).float()\n",
        "y_test_ohe = torch.Tensor(y_test_ohe_np).float()\n",
        "\n",
        "# テストデータに関してはこのタイミングでGPUに送付する\n",
        "x_test_gpu = x_test.to(device)\n",
        "y_test_gpu = y_test.to(device)\n",
        "y_test_ohe_gpu = y_test_ohe.to(device)"
      ]
    },
    {
      "cell_type": "markdown",
      "metadata": {
        "id": "8c5YNY3EzbUd"
      },
      "source": [
        " ### データ内容の確認"
      ]
    },
    {
      "cell_type": "code",
      "execution_count": null,
      "metadata": {
        "id": "3iCE5B0oyyLa"
      },
      "outputs": [],
      "source": [
        "N = 20\n",
        "\n",
        "# テストデータから20件をランダムに抽出\n",
        "# 再現性があるようにseed値をセットしておく\n",
        "np.random.seed(12)\n",
        "indexes = np.random.choice(y_test.shape[0], N, replace=False)\n",
        "x_selected = x_test[indexes]\n",
        "y_selected = y_test[indexes]\n",
        "\n",
        "# 20件データのイメージと正解ラベルを表示\n",
        "plt.figure(figsize=(10, 3))\n",
        "for i in range(N):\n",
        "    # 描画位置指定\n",
        "    ax = plt.subplot(2, int(N/2), i + 1)\n",
        "\n",
        "    # イメージ表示(列はダミー変数を落とす)\n",
        "    ax.imshow(x_selected[i,1:].reshape(28, 28), cmap='gray_r')\n",
        "\n",
        "    # 正解ラベル表示\n",
        "    ax.set_title(f'{int(y_selected[i]):d}', fontsize=16)\n",
        "\n",
        "    # 軸ラベル非表示\n",
        "    ax.get_xaxis().set_visible(False)\n",
        "    ax.get_yaxis().set_visible(False)\n",
        "plt.show()"
      ]
    },
    {
      "cell_type": "markdown",
      "metadata": {
        "id": "L24BzQAX0BnP"
      },
      "source": [
        "### 関数定義"
      ]
    },
    {
      "cell_type": "markdown",
      "metadata": {
        "id": "OSA_qNl0w9Ls"
      },
      "source": [
        "#### 汎用関数"
      ]
    },
    {
      "cell_type": "code",
      "execution_count": null,
      "metadata": {
        "id": "9zy2N2sZzj6v"
      },
      "outputs": [],
      "source": [
        "import torch.nn as nn\n",
        "sigmoid = nn.Sigmoid()\n",
        "softmax = nn.Softmax(dim=1)"
      ]
    },
    {
      "cell_type": "markdown",
      "metadata": {
        "id": "QhgSR1VSxTUe"
      },
      "source": [
        "#### 予測関数"
      ]
    },
    {
      "cell_type": "code",
      "execution_count": null,
      "metadata": {
        "id": "aCNhp1igxApI"
      },
      "outputs": [],
      "source": [
        "def pred(x, W):\n",
        "    return softmax(x @ W)"
      ]
    },
    {
      "cell_type": "markdown",
      "metadata": {
        "id": "T2ZmkYw4x9La"
      },
      "source": [
        "#### 損失関数(交差エントロピー関数)"
      ]
    },
    {
      "cell_type": "code",
      "execution_count": null,
      "metadata": {
        "id": "YECejl_u3-wn"
      },
      "outputs": [],
      "source": [
        "def cross_entropy(yt_ohe, yp_ohe):\n",
        "    return -torch.mean(torch.sum(yt_ohe * torch.log(yp_ohe), dim=1))"
      ]
    },
    {
      "cell_type": "markdown",
      "metadata": {
        "id": "O8XB_pt6zPiN"
      },
      "source": [
        "#### evaluate(損失と精度を計算)"
      ]
    },
    {
      "cell_type": "code",
      "execution_count": null,
      "metadata": {
        "id": "kwvV5Le2v-jR"
      },
      "outputs": [],
      "source": [
        "from sklearn.metrics import accuracy_score\n",
        "\n",
        "def evaluate(x_test, y_test, y_test_ohe, x_dum, V, W):\n",
        "\n",
        "    # テストデータに対して隠れ層の値を計算\n",
        "    b_test = sigmoid(x_test @ V)\n",
        "\n",
        "    # ダミー変数追加\n",
        "    b1_test = torch.cat((x_dum, b_test), dim=1)\n",
        "\n",
        "    # 予測値算出\n",
        "    yp_test_ohe = softmax(b1_test @ W)\n",
        "\n",
        "    # ラベル値算出\n",
        "    yp_test = torch.argmax(yp_test_ohe, dim=1)\n",
        "\n",
        "    # 損失計算(item関数でスカラー化)\n",
        "    loss = cross_entropy(y_test_ohe, yp_test_ohe).item()\n",
        "\n",
        "    # 精度計算(item関数でスカラー化)\n",
        "    score = (y_test == yp_test).float().mean().item()\n",
        "\n",
        "    return score, loss"
      ]
    },
    {
      "cell_type": "markdown",
      "metadata": {
        "id": "zj8C5J8k0bIG"
      },
      "source": [
        "### ミニバッチ処理"
      ]
    },
    {
      "cell_type": "markdown",
      "metadata": {
        "id": "Nrc4dZhs0fOQ"
      },
      "source": [
        "#### 関数Indexes定義"
      ]
    },
    {
      "cell_type": "code",
      "execution_count": null,
      "metadata": {
        "id": "fp8V4imIztJU"
      },
      "outputs": [],
      "source": [
        "class Indexes():\n",
        "\n",
        "    # コンストラクタ\n",
        "    def __init__(self, total, size):\n",
        "        # 配列全体の大きさ\n",
        "        self.total   = total\n",
        "        # batchサイズ\n",
        "        self.size    = size\n",
        "        #　作業用indexes 初期値はNULLにしておく\n",
        "        self.indexes = np.zeros(0)\n",
        "\n",
        "    # index取得関数\n",
        "    def next_index(self):\n",
        "        next_flag = False\n",
        "\n",
        "    # bacthサイズより作業用Indexesが小さい場合はindexes再生成\n",
        "        if len(self.indexes) < self.size:\n",
        "            self.indexes = np.random.choice(self.total,\n",
        "                self.total, replace=False)\n",
        "            next_flag = True\n",
        "\n",
        "        # 戻り用index取得と作業用indexes更新\n",
        "        index = self.indexes[:self.size]\n",
        "        self.indexes = self.indexes[self.size:]\n",
        "        return index, next_flag"
      ]
    },
    {
      "cell_type": "markdown",
      "metadata": {
        "id": "DSBYm12n0p4H"
      },
      "source": [
        "#### 関数利用サンプル"
      ]
    },
    {
      "cell_type": "code",
      "execution_count": null,
      "metadata": {
        "id": "Ft6lvGst0oS-"
      },
      "outputs": [],
      "source": [
        "# クラス初期化\n",
        "# 20: 全体の配列の大きさ\n",
        "# 5: 一回に取得するindexの数\n",
        "indexes = Indexes(20, 5)\n",
        "\n",
        "for i in range(6):\n",
        "    # next_index関数呼び出し\n",
        "    # 戻り値1:  indexのnumpy配列\n",
        "    # 戻り値2: 作業用Indexの更新があったかどうか\n",
        "    arr, flag = indexes.next_index()\n",
        "    print(arr, flag)"
      ]
    },
    {
      "cell_type": "markdown",
      "metadata": {
        "id": "47BKp4NN1iL6"
      },
      "source": [
        "### 学習"
      ]
    },
    {
      "cell_type": "markdown",
      "metadata": {
        "id": "UDyHfvVm1k1p"
      },
      "source": [
        "#### 初期化処理"
      ]
    },
    {
      "cell_type": "code",
      "execution_count": null,
      "metadata": {
        "id": "yMGuYqsA1VwB"
      },
      "outputs": [],
      "source": [
        "# 隠れ層のノード数\n",
        "H = 128\n",
        "H1 = H + 1\n",
        "# M: 訓練用系列データ総数\n",
        "M  = x_train.shape[0]\n",
        "# D: 入力データ次元数\n",
        "D = x_train.shape[1]\n",
        "# N: 分類クラス数\n",
        "N = y_train_ohe.shape[1]\n",
        "\n",
        "# 繰り返し回数\n",
        "nb_epoch = 2000\n",
        "# ミニバッチサイズ\n",
        "batch_size = 128\n",
        "B = batch_size\n",
        "# 学習率\n",
        "alpha_np = 0.01\n",
        "\n",
        "# 重み行列の初期設定\n",
        "np.random.seed(123)\n",
        "V_np = np.random.randn(D, H) / np.sqrt(D / 2)\n",
        "W_np = np.random.randn(H1, N) / np.sqrt(H1 / 2)\n",
        "\n",
        "# 評価結果記録用 (損失関数値と精度)\n",
        "history1 = np.zeros((0, 3))\n",
        "\n",
        "# ミニバッチ用関数初期化\n",
        "indexes = Indexes(M, batch_size)\n",
        "\n",
        "# 繰り返し回数カウンタ初期化\n",
        "epoch = 0\n",
        "\n",
        "# GPU転送\n",
        "alpha = torch.tensor(alpha_np).float().to(device)\n",
        "V = torch.tensor(V_np).float().to(device)\n",
        "W = torch.tensor(W_np).float().to(device)\n",
        "x_dum = torch.ones((batch_size,1)).float().to(device)\n",
        "x_dum2 = torch.ones((len(x_test),1)).float().to(device)"
      ]
    },
    {
      "cell_type": "markdown",
      "metadata": {
        "id": "TLSsbkU723M6"
      },
      "source": [
        "#### 繰り返し計算"
      ]
    },
    {
      "cell_type": "code",
      "execution_count": null,
      "metadata": {
        "id": "9YLs7D0L2xp1"
      },
      "outputs": [],
      "source": [
        "%%time\n",
        "while epoch < nb_epoch:\n",
        "\n",
        "    # 学習対象の選択(ミニバッチ学習法)\n",
        "    index, next_flag = indexes.next_index()\n",
        "\n",
        "    # 学習対象選択時にGPU転送を行う\n",
        "    x, yt = x_train[index].to(device), y_train_ohe[index].to(device)\n",
        "\n",
        "    # 予測値計算 (順伝播)\n",
        "    a = x @ V\n",
        "    b = sigmoid(a)\n",
        "    b1 = torch.cat((x_dum, b), dim=1)\n",
        "    u = b1 @ W\n",
        "    yp = softmax(u)\n",
        "\n",
        "    # 誤差計算\n",
        "    yd = yp - yt\n",
        "    bd = b * (1-b) * (yd @ W[1:].T)\n",
        "\n",
        "    # 勾配計算\n",
        "    W = W - alpha * (b1.T @ yd) / B\n",
        "    V = V - alpha * (x.T @ bd) / B\n",
        "\n",
        "    if next_flag : # 1epoch 終了後の処理\n",
        "        score, loss = evaluate(x_test_gpu, y_test_gpu, y_test_ohe_gpu, x_dum2, V, W)\n",
        "        history1 = np.vstack((history1, np.array([epoch, loss, score])))\n",
        "        epoch = epoch + 1\n",
        "        if (epoch-1) % 10 == 0:\n",
        "            print(f'epoch = {epoch-1} loss = {loss:.04f} score = {score:.04f}')\n"
      ]
    },
    {
      "cell_type": "markdown",
      "metadata": {
        "id": "a89w54wuln6S"
      },
      "source": [
        "### 結果分析"
      ]
    },
    {
      "cell_type": "markdown",
      "metadata": {
        "id": "1p3Q72Yklrgw"
      },
      "source": [
        "#### 損失・精度確認"
      ]
    },
    {
      "cell_type": "code",
      "execution_count": null,
      "metadata": {
        "id": "bd_8u5NcY2XF"
      },
      "outputs": [],
      "source": [
        "print(f'初期状態: 損失関数:{history1[0,1]:.04f} 精度:{history1[0,2]:.04f}')\n",
        "print(f'最終状態: 損失関数:{history1[-1,1]:.04f} 精度:{history1[-1,2]:.04f}')"
      ]
    },
    {
      "cell_type": "markdown",
      "metadata": {
        "id": "nMNy8_2amlv_"
      },
      "source": [
        "#### 学習曲線(損失)"
      ]
    },
    {
      "cell_type": "code",
      "execution_count": null,
      "metadata": {
        "id": "mIn8wSAyly9z"
      },
      "outputs": [],
      "source": [
        "plt.figure(figsize=(6,6))\n",
        "plt.plot(history1[:,0], history1[:,1], 'b')\n",
        "plt.xlabel('繰り返し回数')\n",
        "plt.ylabel('損失')\n",
        "plt.title('学習曲線(損失)')\n",
        "plt.grid()\n",
        "plt.show()"
      ]
    },
    {
      "cell_type": "markdown",
      "metadata": {
        "id": "LAVYQ-f8mr_K"
      },
      "source": [
        "#### 学習曲線(精度)"
      ]
    },
    {
      "cell_type": "code",
      "execution_count": null,
      "metadata": {
        "id": "dbfDBBzFmvaa"
      },
      "outputs": [],
      "source": [
        "plt.figure(figsize=(6,6))\n",
        "plt.plot(history1[:,0], history1[:,2], 'b')\n",
        "plt.xlabel('繰り返し回数')\n",
        "plt.ylabel('損失')\n",
        "plt.title('学習曲線(精度)')\n",
        "plt.grid()\n",
        "plt.show()"
      ]
    },
    {
      "cell_type": "markdown",
      "metadata": {
        "id": "CJVmLZGHyRmf"
      },
      "source": [
        "#### イメージで確認"
      ]
    },
    {
      "cell_type": "code",
      "execution_count": null,
      "metadata": {
        "id": "M-GujHJsyXtJ"
      },
      "outputs": [],
      "source": [
        "N = 20\n",
        "\n",
        "# テストデータから20件をランダムに抽出\n",
        "# 再現性があるようにseed値をセットしておく\n",
        "np.random.seed(12)\n",
        "x_dum3 = torch.ones((N,1)).float().to(device)\n",
        "indexes = np.random.choice(y_test.shape[0], N, replace=False)\n",
        "\n",
        "# x_orgの選択結果表示 (白黒反転)\n",
        "x_selected = x_test[indexes].to(device)\n",
        "y_selected = y_test[indexes].to(device)\n",
        "\n",
        "# 予測値の計算\n",
        "\n",
        "# テストデータに対して隠れ層の値を計算\n",
        "b_test = sigmoid(x_selected @ V)\n",
        "\n",
        "# ダミー変数追加\n",
        "b1_test = torch.cat((x_dum3, b_test), dim=1)\n",
        "\n",
        "# 予測値算出\n",
        "yp_test_ohe = softmax(b1_test @ W)\n",
        "\n",
        "# ラベル値算出\n",
        "yp_test = torch.argmax(yp_test_ohe, dim=1)\n",
        "\n",
        "# グラフ表示\n",
        "plt.figure(figsize=(10, 3))\n",
        "for i in range(N):\n",
        "\n",
        "    # 描画位置指定\n",
        "    ax = plt.subplot(2, int(N/2), i + 1)\n",
        "\n",
        "    # 画像イメージ表示\n",
        "    ax.imshow(x_selected[i,1:].cpu().reshape(28, 28),cmap='gray_r')\n",
        "\n",
        "    # 正解ラベル:予測結果　の表示\n",
        "    ax.set_title(f'{int(y_selected[i])}:{yp_test[i]}', fontsize=16)\n",
        "\n",
        "    # 軸ラベル非表示\n",
        "    ax.get_xaxis().set_visible(False)\n",
        "    ax.get_yaxis().set_visible(False)\n",
        "plt.show()"
      ]
    },
    {
      "cell_type": "markdown",
      "metadata": {
        "id": "4O2PLFyUxel2"
      },
      "source": [
        "### バージョン確認"
      ]
    },
    {
      "cell_type": "code",
      "source": [
        "!pip install watermark -qq\n",
        "%load_ext watermark\n",
        "%watermark --iversions"
      ],
      "metadata": {
        "id": "QvspbaTyzV2O"
      },
      "execution_count": null,
      "outputs": []
    },
    {
      "cell_type": "code",
      "source": [],
      "metadata": {
        "id": "NUoEkx4_1phL"
      },
      "execution_count": null,
      "outputs": []
    }
  ],
  "metadata": {
    "accelerator": "GPU",
    "colab": {
      "gpuType": "T4",
      "provenance": [],
      "toc_visible": true
    },
    "kernelspec": {
      "display_name": "Python 3",
      "name": "python3"
    },
    "language_info": {
      "name": "python"
    }
  },
  "nbformat": 4,
  "nbformat_minor": 0
}