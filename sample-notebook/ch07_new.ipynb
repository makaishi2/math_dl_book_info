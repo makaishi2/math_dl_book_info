{
  "nbformat": 4,
  "nbformat_minor": 0,
  "metadata": {
    "colab": {
      "provenance": [],
      "toc_visible": true
    },
    "kernelspec": {
      "name": "python3",
      "display_name": "Python 3"
    },
    "language_info": {
      "name": "python"
    }
  },
  "cells": [
    {
      "cell_type": "markdown",
      "source": [
        "### 回帰モデル　改訂版"
      ],
      "metadata": {
        "id": "vm7uXf7PbWpE"
      }
    },
    {
      "cell_type": "markdown",
      "source": [
        "### 必要ライブラリの導入"
      ],
      "metadata": {
        "id": "YRy-6kPRbR4Y"
      }
    },
    {
      "cell_type": "code",
      "execution_count": null,
      "metadata": {
        "id": "afmPzPcZa1EN"
      },
      "outputs": [],
      "source": [
        "# 日本語化ライブラリ導入\n",
        "!pip install japanize-matplotlib -q"
      ]
    },
    {
      "cell_type": "code",
      "source": [
        "# 共通事前処理\n",
        "\n",
        "# 必要ライブラリのimport\n",
        "import pandas as pd\n",
        "import numpy as np\n",
        "import matplotlib.pyplot as plt\n",
        "\n",
        "# matplotlib日本語化対応\n",
        "import japanize_matplotlib\n",
        "\n",
        "# データフレーム表示用関数\n",
        "from IPython.display import display\n",
        "\n",
        "# pandasでの浮動小数点の表示精度\n",
        "pd.options.display.float_format = '{:.2f}'.format\n",
        "\n",
        "# 余分なワーニングを非表示にする\n",
        "import warnings\n",
        "warnings.filterwarnings('ignore')"
      ],
      "metadata": {
        "id": "2h-QJ9b9bVCn"
      },
      "execution_count": null,
      "outputs": []
    },
    {
      "cell_type": "markdown",
      "source": [
        "### データ読み込み"
      ],
      "metadata": {
        "id": "1VSH-zOHbq8D"
      }
    },
    {
      "cell_type": "markdown",
      "source": [
        "#### データを読み込み"
      ],
      "metadata": {
        "id": "qO-ajWnp3HF-"
      }
    },
    {
      "cell_type": "code",
      "source": [
        "from sklearn.datasets import fetch_california_housing\n",
        "\n",
        "# カリフォルニアデータセットをロード\n",
        "data = fetch_california_housing(as_frame=True)\n",
        "\n",
        "# 特徴量とターゲットをデータフレームに変換\n",
        "features = data.data\n",
        "target = data.target\n",
        "\n",
        "# 特徴量とターゲットを一つのデータフレームに結合\n",
        "df = pd.concat([features, target.rename(\"MedianHouseValue\")], axis=1)\n",
        "\n",
        "# データフレームを表示\n",
        "display(df.head())"
      ],
      "metadata": {
        "id": "nlc70SnpbmMk"
      },
      "execution_count": null,
      "outputs": []
    },
    {
      "cell_type": "markdown",
      "source": [
        "#### データセットの説明文を表示"
      ],
      "metadata": {
        "id": "-R_VY5473OyJ"
      }
    },
    {
      "cell_type": "code",
      "source": [
        "print(data.DESCR)"
      ],
      "metadata": {
        "id": "bJz1_HCSdbwM"
      },
      "execution_count": null,
      "outputs": []
    },
    {
      "cell_type": "markdown",
      "source": [
        "### データ加工"
      ],
      "metadata": {
        "id": "TF33fITGcZZQ"
      }
    },
    {
      "cell_type": "markdown",
      "source": [
        "#### データ絞り込み(項目MedIncのみ)\n",
        "MedIncはMedium Income (収入の中央値)"
      ],
      "metadata": {
        "id": "MSDBJU2J3i0s"
      }
    },
    {
      "cell_type": "code",
      "source": [
        "x_data = df[['MedInc']].values\n",
        "print('絞り込み後')\n",
        "print(f'shape: {x_data.shape}')\n",
        "print(f'先頭5行:\\n{x_data[:5]}')"
      ],
      "metadata": {
        "id": "CsRe5uSib60x"
      },
      "execution_count": null,
      "outputs": []
    },
    {
      "cell_type": "markdown",
      "source": [
        "#### ダミー変数を追加"
      ],
      "metadata": {
        "id": "YsKHrpWw3w29"
      }
    },
    {
      "cell_type": "code",
      "source": [
        "x = np.insert(x_data, 0, 1.0, axis=1)\n",
        "print('ダミー変数追加後')\n",
        "print(f'shape: {x.shape}')\n",
        "print(f'先頭5行:\\n{x[:5]}')"
      ],
      "metadata": {
        "id": "Tij5Etuk30Sm"
      },
      "execution_count": null,
      "outputs": []
    },
    {
      "cell_type": "markdown",
      "source": [
        "#### 正解データytの設定"
      ],
      "metadata": {
        "id": "Fimp04rD4vTR"
      }
    },
    {
      "cell_type": "code",
      "source": [
        "yt = df['MedianHouseValue'].values\n",
        "print('正解データ')\n",
        "print(f'shape: {yt.shape}')\n",
        "print(f'先頭5行:\\n{yt[:5]}')\n"
      ],
      "metadata": {
        "id": "XR8rXxYHcvxR"
      },
      "execution_count": null,
      "outputs": []
    },
    {
      "cell_type": "markdown",
      "source": [
        "#### 散布図表示"
      ],
      "metadata": {
        "id": "gvKK_9Cr5C9s"
      }
    },
    {
      "cell_type": "code",
      "source": [
        "# グラフのサイズ指定\n",
        "plt.figure(figsize=(6,6))\n",
        "\n",
        "# 散布図表示\n",
        "plt.scatter(x[:,1], yt, s=10, c='b')\n",
        "\n",
        "# グラフのキレイ化\n",
        "plt.title('収入 vs 不動産価格の散布図', fontsize=14)\n",
        "plt.grid()\n",
        "plt.xlabel('収入',fontsize=14)\n",
        "plt.ylabel('不動産価格',fontsize=14)\n",
        "plt.show()"
      ],
      "metadata": {
        "id": "bNCie5PedUiJ"
      },
      "execution_count": null,
      "outputs": []
    },
    {
      "cell_type": "markdown",
      "source": [
        "### 関数定義"
      ],
      "metadata": {
        "id": "Nl42sWTheRCK"
      }
    },
    {
      "cell_type": "markdown",
      "source": [
        "#### 予測関数"
      ],
      "metadata": {
        "id": "DWKS6ePJeUMM"
      }
    },
    {
      "cell_type": "code",
      "source": [
        "# 予測関数 (1, x)の値から予測値ypを計算する\n",
        "def pred(x, w):\n",
        "    return(x @ w)"
      ],
      "metadata": {
        "id": "aoSMBDend4_9"
      },
      "execution_count": null,
      "outputs": []
    },
    {
      "cell_type": "markdown",
      "source": [
        "### 単回帰モデル"
      ],
      "metadata": {
        "id": "EnmziXeoegtC"
      }
    },
    {
      "cell_type": "markdown",
      "source": [
        "#### 初期設定"
      ],
      "metadata": {
        "id": "M64IMVvselFG"
      }
    },
    {
      "cell_type": "code",
      "source": [
        "# 初期化処理\n",
        "\n",
        "# データ系列総数\n",
        "M = x.shape[0]\n",
        "\n",
        "# 入力データ次元数(ダミー変数を含む)\n",
        "D = x.shape[1]\n",
        "\n",
        "# 繰り返し回数\n",
        "iters = 5000\n",
        "\n",
        "# 学習率\n",
        "alpha = 0.005\n",
        "\n",
        "# 重みベクトルの初期値 (すべての値を1にする)\n",
        "w = np.ones(D)\n",
        "\n",
        "# 評価結果記録用 (損失関数値のみ記録)\n",
        "history = np.zeros((0,2))"
      ],
      "metadata": {
        "id": "LbrYa1UKeczA"
      },
      "execution_count": null,
      "outputs": []
    },
    {
      "cell_type": "markdown",
      "source": [
        " #### 繰り返し処理"
      ],
      "metadata": {
        "id": "_pCWaIDue2Mz"
      }
    },
    {
      "cell_type": "code",
      "source": [
        "# 繰り返しループ\n",
        "for k in range(iters):\n",
        "\n",
        "    # 予測値の計算 (7.8.1)\n",
        "    yp = pred(x, w)\n",
        "\n",
        "    # 誤差の計算 (7.8.2)\n",
        "    yd = yp - yt\n",
        "\n",
        "    # 勾配降下法の実装 (7.8.4)\n",
        "    w = w - alpha * (x.T @ yd) / M\n",
        "\n",
        "    # 学習曲線描画用データの計算、保存\n",
        "    if ( k % 100 == 0):\n",
        "        # 損失関数値の計算 (7.6.1)\n",
        "        loss = np.mean(yd ** 2) / 2\n",
        "        # 計算結果の記録\n",
        "        history = np.vstack((history, np.array([k, loss])))\n",
        "        # 画面表示\n",
        "        print( \"iter = %d  loss = %f\" % (k, loss))"
      ],
      "metadata": {
        "id": "oA8dsmQVey5F"
      },
      "execution_count": null,
      "outputs": []
    },
    {
      "cell_type": "markdown",
      "source": [
        "### 結果分析"
      ],
      "metadata": {
        "id": "UUu9vdSffSsk"
      }
    },
    {
      "cell_type": "markdown",
      "source": [
        "#### 損失確認"
      ],
      "metadata": {
        "id": "GGmAoa_ifV3X"
      }
    },
    {
      "cell_type": "code",
      "source": [
        "# 最終的な損失関数初期値、最終値\n",
        "print(f'損失関数初期値:{history[0,1]:.04f}')\n",
        "print(f'損失関数最終値:{history[-1,1]:.04f}')"
      ],
      "metadata": {
        "id": "RG5u8zUKfB_c"
      },
      "execution_count": null,
      "outputs": []
    },
    {
      "cell_type": "markdown",
      "source": [
        "#### 学習曲線表示"
      ],
      "metadata": {
        "id": "ysWdLSYIjayG"
      }
    },
    {
      "cell_type": "code",
      "source": [
        "# グラフのサイズ指定\n",
        "plt.figure(figsize=(6,6))\n",
        "\n",
        "# 学習曲線の表示 (最初の1個分を除く)\n",
        "plt.plot(history[1:,0], history[1:,1])\n",
        "\n",
        "# グラフのキレイ化\n",
        "plt.title('学習曲線(損失)')\n",
        "plt.grid()\n",
        "plt.xlabel('繰り返し回数')\n",
        "plt.ylabel('損失関数値')\n",
        "plt.show()"
      ],
      "metadata": {
        "id": "kFL3yM9ggeSw"
      },
      "execution_count": null,
      "outputs": []
    },
    {
      "cell_type": "markdown",
      "source": [
        "#### 回帰直線表示"
      ],
      "metadata": {
        "id": "yCS8HQC0jgN3"
      }
    },
    {
      "cell_type": "code",
      "source": [
        "# 下記直線描画用の座標値計算\n",
        "xall = x[:,1].ravel()\n",
        "xl = np.array([[1, xall.min()],[1, xall.max()]])\n",
        "yl = pred(xl, w)"
      ],
      "metadata": {
        "id": "GJvoF3oEfhQc"
      },
      "execution_count": null,
      "outputs": []
    },
    {
      "cell_type": "code",
      "source": [
        "# グラフのサイズ指定\n",
        "plt.figure(figsize=(6,6))\n",
        "\n",
        "# 散布図表示\n",
        "plt.scatter(x[:,1], yt, s=10, c='b')\n",
        "\n",
        "# 回帰直線表示\n",
        "plt.plot(xl[:,1], yl, c='k')\n",
        "\n",
        "# グラフのキレイ化\n",
        "plt.title('散布図と回帰直線', fontsize=14)\n",
        "plt.grid()\n",
        "plt.xlabel('収入', fontsize=14)\n",
        "plt.ylabel('不動産価格', fontsize=14)\n",
        "plt.show()"
      ],
      "metadata": {
        "id": "iofjSWP8gEIB"
      },
      "execution_count": null,
      "outputs": []
    },
    {
      "cell_type": "markdown",
      "source": [
        "### 重回帰モデル"
      ],
      "metadata": {
        "id": "NcxfQK7nheht"
      }
    },
    {
      "cell_type": "markdown",
      "source": [
        "#### 学習データ加工"
      ],
      "metadata": {
        "id": "K8aMT7pAhsL2"
      }
    },
    {
      "cell_type": "code",
      "source": [
        "# 列(AveRooms: 平均部屋数)の追加\n",
        "x_add = df[['AveRooms']].values\n",
        "x2 = np.hstack((x, x_add))\n",
        "\n",
        "print('変数追加後')\n",
        "print(f'shape: {x2.shape}')\n",
        "print(f'先頭5行:\\n{x2[:5]}')"
      ],
      "metadata": {
        "id": "I73xLoiegIfk"
      },
      "execution_count": null,
      "outputs": []
    },
    {
      "cell_type": "markdown",
      "source": [
        "#### 初期設定"
      ],
      "metadata": {
        "id": "FS0wrisAivbG"
      }
    },
    {
      "cell_type": "code",
      "source": [
        "# 初期化処理\n",
        "\n",
        "# データ系列総数\n",
        "M  = x2.shape[0]\n",
        "\n",
        "# 入力データ次元数(ダミー変数を含む)\n",
        "D = x2.shape[1]\n",
        "\n",
        "# 繰り返し回数\n",
        "iters = 5000\n",
        "\n",
        "# 学習率\n",
        "alpha = 0.005\n",
        "\n",
        "# 重みベクトルの初期値 (すべての値を1にする)\n",
        "w = np.ones(D)\n",
        "\n",
        "# 評価結果記録用 (損失関数値のみ記録)\n",
        "history = np.zeros((0,2))"
      ],
      "metadata": {
        "id": "CXRRSjvFidb4"
      },
      "execution_count": null,
      "outputs": []
    },
    {
      "cell_type": "markdown",
      "source": [
        "#### 繰り返し処理"
      ],
      "metadata": {
        "id": "Uj7Sel7Mi70a"
      }
    },
    {
      "cell_type": "code",
      "source": [
        "# 繰り返しループ\n",
        "for k in range(iters):\n",
        "\n",
        "    # 予測値の計算 (7.8.1)\n",
        "    yp = pred(x2, w)\n",
        "\n",
        "    # 誤差の計算 (7.8.2)\n",
        "    yd = yp - yt\n",
        "\n",
        "    # 勾配降下法の実装 (7.8.4)\n",
        "    w = w - alpha * (x2.T @ yd) / M\n",
        "\n",
        "    # 学習曲線描画用データの計算、保存\n",
        "    if ( k % 100 == 0):\n",
        "        # 損失関数値の計算 (7.6.1)\n",
        "        loss = np.mean(yd ** 2) / 2\n",
        "        # 計算結果の記録\n",
        "        history = np.vstack((history, np.array([k, loss])))\n",
        "        # 画面表示\n",
        "        print( \"iter = %d  loss = %f\" % (k, loss))"
      ],
      "metadata": {
        "id": "BavnAD_5i5uV"
      },
      "execution_count": null,
      "outputs": []
    },
    {
      "cell_type": "markdown",
      "source": [
        "###  結果確認"
      ],
      "metadata": {
        "id": "54k--2JOjWxd"
      }
    },
    {
      "cell_type": "markdown",
      "source": [
        "#### 損失確認"
      ],
      "metadata": {
        "id": "LjW0tyfUjopb"
      }
    },
    {
      "cell_type": "code",
      "source": [
        "# 最終的な損失関数初期値、最終値\n",
        "print(f'損失関数初期値:{history[0,1]:.04f}')\n",
        "print(f'損失関数最終値:{history[-1,1]:.04f}')"
      ],
      "metadata": {
        "id": "e1UxVOA6jJpd"
      },
      "execution_count": null,
      "outputs": []
    },
    {
      "cell_type": "markdown",
      "source": [
        "#### 学習曲線表示"
      ],
      "metadata": {
        "id": "-hmSGZuxj24z"
      }
    },
    {
      "cell_type": "code",
      "source": [
        "# グラフのサイズ指定\n",
        "plt.figure(figsize=(6,6))\n",
        "\n",
        "# 学習曲線の表示\n",
        "plt.plot(history[1:,0], history[1:,1])\n",
        "\n",
        "# グラフのキレイ化\n",
        "plt.title('学習曲線(損失)')\n",
        "plt.grid()\n",
        "plt.xlabel('繰り返し回数')\n",
        "plt.ylabel('損失関数値')\n",
        "plt.show()"
      ],
      "metadata": {
        "id": "F39sOX_ajV3g"
      },
      "execution_count": null,
      "outputs": []
    },
    {
      "cell_type": "markdown",
      "source": [
        "### バージョン確認"
      ],
      "metadata": {
        "id": "5MORi5UA8O-3"
      }
    },
    {
      "cell_type": "code",
      "source": [
        "!pip install watermark -qq\n",
        "%load_ext watermark\n",
        "%watermark --iversions"
      ],
      "metadata": {
        "id": "gOqx7pjEkAxe"
      },
      "execution_count": null,
      "outputs": []
    },
    {
      "cell_type": "code",
      "source": [],
      "metadata": {
        "id": "rX0zp2yz8T0a"
      },
      "execution_count": null,
      "outputs": []
    }
  ]
}