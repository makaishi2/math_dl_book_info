{
  "nbformat": 4,
  "nbformat_minor": 0,
  "metadata": {
    "colab": {
      "provenance": [],
      "toc_visible": true
    },
    "kernelspec": {
      "name": "python3",
      "display_name": "Python 3"
    },
    "language_info": {
      "name": "python"
    }
  },
  "cells": [
    {
      "cell_type": "markdown",
      "source": [
        "### 回帰モデル　改訂版"
      ],
      "metadata": {
        "id": "vm7uXf7PbWpE"
      }
    },
    {
      "cell_type": "markdown",
      "source": [
        "### 必要ライブラリの導入"
      ],
      "metadata": {
        "id": "YRy-6kPRbR4Y"
      }
    },
    {
      "cell_type": "code",
      "execution_count": 1,
      "metadata": {
        "colab": {
          "base_uri": "https://localhost:8080/"
        },
        "id": "afmPzPcZa1EN",
        "outputId": "ce9582fa-4797-4998-8404-22bb5ec58628"
      },
      "outputs": [
        {
          "output_type": "stream",
          "name": "stdout",
          "text": [
            "Successfully installed japanize-matplotlib-1.1.3\n"
          ]
        }
      ],
      "source": [
        "# 日本語化ライブラリ導入\n",
        "!pip install japanize-matplotlib | tail -n 1"
      ]
    },
    {
      "cell_type": "code",
      "source": [
        "# 共通事前処理\n",
        "\n",
        "# 必要ライブラリのimport\n",
        "import pandas as pd\n",
        "import numpy as np\n",
        "import matplotlib.pyplot as plt\n",
        "\n",
        "# matplotlib日本語化対応\n",
        "import japanize_matplotlib\n",
        "\n",
        "# データフレーム表示用関数\n",
        "from IPython.display import display\n",
        "\n",
        "# pandasでの浮動小数点の表示精度\n",
        "pd.options.display.float_format = '{:.2f}'.format\n",
        "\n",
        "# 余分なワーニングを非表示にする\n",
        "import warnings\n",
        "warnings.filterwarnings('ignore')"
      ],
      "metadata": {
        "id": "2h-QJ9b9bVCn"
      },
      "execution_count": 2,
      "outputs": []
    },
    {
      "cell_type": "markdown",
      "source": [
        "### データ読み込み"
      ],
      "metadata": {
        "id": "1VSH-zOHbq8D"
      }
    },
    {
      "cell_type": "code",
      "source": [
        "from sklearn.datasets import fetch_california_housing\n",
        "\n",
        "# カリフォルニアデータセットをロード\n",
        "data = fetch_california_housing(as_frame=True)\n",
        "\n",
        "# データセットの説明を表示\n",
        "#print(data.DESCR)\n",
        "\n",
        "# 特徴量とターゲットをデータフレームに変換\n",
        "features = data.data\n",
        "target = data.target\n",
        "\n",
        "# 特徴量とターゲットを一つのデータフレームに結合\n",
        "df = pd.concat([features, target.rename(\"MedianHouseValue\")], axis=1)\n",
        "\n",
        "# データフレームを表示\n",
        "display(df.head())"
      ],
      "metadata": {
        "colab": {
          "base_uri": "https://localhost:8080/",
          "height": 206
        },
        "id": "nlc70SnpbmMk",
        "outputId": "fd695a8c-3521-49b2-a1b2-108cc58bb2ef"
      },
      "execution_count": 4,
      "outputs": [
        {
          "output_type": "display_data",
          "data": {
            "text/plain": [
              "   MedInc  HouseAge  AveRooms  AveBedrms  Population  AveOccup  Latitude  \\\n",
              "0    8.33     41.00      6.98       1.02      322.00      2.56     37.88   \n",
              "1    8.30     21.00      6.24       0.97     2401.00      2.11     37.86   \n",
              "2    7.26     52.00      8.29       1.07      496.00      2.80     37.85   \n",
              "3    5.64     52.00      5.82       1.07      558.00      2.55     37.85   \n",
              "4    3.85     52.00      6.28       1.08      565.00      2.18     37.85   \n",
              "\n",
              "   Longitude  MedianHouseValue  \n",
              "0    -122.23              4.53  \n",
              "1    -122.22              3.58  \n",
              "2    -122.24              3.52  \n",
              "3    -122.25              3.41  \n",
              "4    -122.25              3.42  "
            ],
            "text/html": [
              "\n",
              "  <div id=\"df-8fdfd461-1540-4abc-97b6-f570e584e748\" class=\"colab-df-container\">\n",
              "    <div>\n",
              "<style scoped>\n",
              "    .dataframe tbody tr th:only-of-type {\n",
              "        vertical-align: middle;\n",
              "    }\n",
              "\n",
              "    .dataframe tbody tr th {\n",
              "        vertical-align: top;\n",
              "    }\n",
              "\n",
              "    .dataframe thead th {\n",
              "        text-align: right;\n",
              "    }\n",
              "</style>\n",
              "<table border=\"1\" class=\"dataframe\">\n",
              "  <thead>\n",
              "    <tr style=\"text-align: right;\">\n",
              "      <th></th>\n",
              "      <th>MedInc</th>\n",
              "      <th>HouseAge</th>\n",
              "      <th>AveRooms</th>\n",
              "      <th>AveBedrms</th>\n",
              "      <th>Population</th>\n",
              "      <th>AveOccup</th>\n",
              "      <th>Latitude</th>\n",
              "      <th>Longitude</th>\n",
              "      <th>MedianHouseValue</th>\n",
              "    </tr>\n",
              "  </thead>\n",
              "  <tbody>\n",
              "    <tr>\n",
              "      <th>0</th>\n",
              "      <td>8.33</td>\n",
              "      <td>41.00</td>\n",
              "      <td>6.98</td>\n",
              "      <td>1.02</td>\n",
              "      <td>322.00</td>\n",
              "      <td>2.56</td>\n",
              "      <td>37.88</td>\n",
              "      <td>-122.23</td>\n",
              "      <td>4.53</td>\n",
              "    </tr>\n",
              "    <tr>\n",
              "      <th>1</th>\n",
              "      <td>8.30</td>\n",
              "      <td>21.00</td>\n",
              "      <td>6.24</td>\n",
              "      <td>0.97</td>\n",
              "      <td>2401.00</td>\n",
              "      <td>2.11</td>\n",
              "      <td>37.86</td>\n",
              "      <td>-122.22</td>\n",
              "      <td>3.58</td>\n",
              "    </tr>\n",
              "    <tr>\n",
              "      <th>2</th>\n",
              "      <td>7.26</td>\n",
              "      <td>52.00</td>\n",
              "      <td>8.29</td>\n",
              "      <td>1.07</td>\n",
              "      <td>496.00</td>\n",
              "      <td>2.80</td>\n",
              "      <td>37.85</td>\n",
              "      <td>-122.24</td>\n",
              "      <td>3.52</td>\n",
              "    </tr>\n",
              "    <tr>\n",
              "      <th>3</th>\n",
              "      <td>5.64</td>\n",
              "      <td>52.00</td>\n",
              "      <td>5.82</td>\n",
              "      <td>1.07</td>\n",
              "      <td>558.00</td>\n",
              "      <td>2.55</td>\n",
              "      <td>37.85</td>\n",
              "      <td>-122.25</td>\n",
              "      <td>3.41</td>\n",
              "    </tr>\n",
              "    <tr>\n",
              "      <th>4</th>\n",
              "      <td>3.85</td>\n",
              "      <td>52.00</td>\n",
              "      <td>6.28</td>\n",
              "      <td>1.08</td>\n",
              "      <td>565.00</td>\n",
              "      <td>2.18</td>\n",
              "      <td>37.85</td>\n",
              "      <td>-122.25</td>\n",
              "      <td>3.42</td>\n",
              "    </tr>\n",
              "  </tbody>\n",
              "</table>\n",
              "</div>\n",
              "    <div class=\"colab-df-buttons\">\n",
              "\n",
              "  <div class=\"colab-df-container\">\n",
              "    <button class=\"colab-df-convert\" onclick=\"convertToInteractive('df-8fdfd461-1540-4abc-97b6-f570e584e748')\"\n",
              "            title=\"Convert this dataframe to an interactive table.\"\n",
              "            style=\"display:none;\">\n",
              "\n",
              "  <svg xmlns=\"http://www.w3.org/2000/svg\" height=\"24px\" viewBox=\"0 -960 960 960\">\n",
              "    <path d=\"M120-120v-720h720v720H120Zm60-500h600v-160H180v160Zm220 220h160v-160H400v160Zm0 220h160v-160H400v160ZM180-400h160v-160H180v160Zm440 0h160v-160H620v160ZM180-180h160v-160H180v160Zm440 0h160v-160H620v160Z\"/>\n",
              "  </svg>\n",
              "    </button>\n",
              "\n",
              "  <style>\n",
              "    .colab-df-container {\n",
              "      display:flex;\n",
              "      gap: 12px;\n",
              "    }\n",
              "\n",
              "    .colab-df-convert {\n",
              "      background-color: #E8F0FE;\n",
              "      border: none;\n",
              "      border-radius: 50%;\n",
              "      cursor: pointer;\n",
              "      display: none;\n",
              "      fill: #1967D2;\n",
              "      height: 32px;\n",
              "      padding: 0 0 0 0;\n",
              "      width: 32px;\n",
              "    }\n",
              "\n",
              "    .colab-df-convert:hover {\n",
              "      background-color: #E2EBFA;\n",
              "      box-shadow: 0px 1px 2px rgba(60, 64, 67, 0.3), 0px 1px 3px 1px rgba(60, 64, 67, 0.15);\n",
              "      fill: #174EA6;\n",
              "    }\n",
              "\n",
              "    .colab-df-buttons div {\n",
              "      margin-bottom: 4px;\n",
              "    }\n",
              "\n",
              "    [theme=dark] .colab-df-convert {\n",
              "      background-color: #3B4455;\n",
              "      fill: #D2E3FC;\n",
              "    }\n",
              "\n",
              "    [theme=dark] .colab-df-convert:hover {\n",
              "      background-color: #434B5C;\n",
              "      box-shadow: 0px 1px 3px 1px rgba(0, 0, 0, 0.15);\n",
              "      filter: drop-shadow(0px 1px 2px rgba(0, 0, 0, 0.3));\n",
              "      fill: #FFFFFF;\n",
              "    }\n",
              "  </style>\n",
              "\n",
              "    <script>\n",
              "      const buttonEl =\n",
              "        document.querySelector('#df-8fdfd461-1540-4abc-97b6-f570e584e748 button.colab-df-convert');\n",
              "      buttonEl.style.display =\n",
              "        google.colab.kernel.accessAllowed ? 'block' : 'none';\n",
              "\n",
              "      async function convertToInteractive(key) {\n",
              "        const element = document.querySelector('#df-8fdfd461-1540-4abc-97b6-f570e584e748');\n",
              "        const dataTable =\n",
              "          await google.colab.kernel.invokeFunction('convertToInteractive',\n",
              "                                                    [key], {});\n",
              "        if (!dataTable) return;\n",
              "\n",
              "        const docLinkHtml = 'Like what you see? Visit the ' +\n",
              "          '<a target=\"_blank\" href=https://colab.research.google.com/notebooks/data_table.ipynb>data table notebook</a>'\n",
              "          + ' to learn more about interactive tables.';\n",
              "        element.innerHTML = '';\n",
              "        dataTable['output_type'] = 'display_data';\n",
              "        await google.colab.output.renderOutput(dataTable, element);\n",
              "        const docLink = document.createElement('div');\n",
              "        docLink.innerHTML = docLinkHtml;\n",
              "        element.appendChild(docLink);\n",
              "      }\n",
              "    </script>\n",
              "  </div>\n",
              "\n",
              "\n",
              "<div id=\"df-0a222ad5-5e23-4cc4-906f-92c969fca20f\">\n",
              "  <button class=\"colab-df-quickchart\" onclick=\"quickchart('df-0a222ad5-5e23-4cc4-906f-92c969fca20f')\"\n",
              "            title=\"Suggest charts\"\n",
              "            style=\"display:none;\">\n",
              "\n",
              "<svg xmlns=\"http://www.w3.org/2000/svg\" height=\"24px\"viewBox=\"0 0 24 24\"\n",
              "     width=\"24px\">\n",
              "    <g>\n",
              "        <path d=\"M19 3H5c-1.1 0-2 .9-2 2v14c0 1.1.9 2 2 2h14c1.1 0 2-.9 2-2V5c0-1.1-.9-2-2-2zM9 17H7v-7h2v7zm4 0h-2V7h2v10zm4 0h-2v-4h2v4z\"/>\n",
              "    </g>\n",
              "</svg>\n",
              "  </button>\n",
              "\n",
              "<style>\n",
              "  .colab-df-quickchart {\n",
              "      --bg-color: #E8F0FE;\n",
              "      --fill-color: #1967D2;\n",
              "      --hover-bg-color: #E2EBFA;\n",
              "      --hover-fill-color: #174EA6;\n",
              "      --disabled-fill-color: #AAA;\n",
              "      --disabled-bg-color: #DDD;\n",
              "  }\n",
              "\n",
              "  [theme=dark] .colab-df-quickchart {\n",
              "      --bg-color: #3B4455;\n",
              "      --fill-color: #D2E3FC;\n",
              "      --hover-bg-color: #434B5C;\n",
              "      --hover-fill-color: #FFFFFF;\n",
              "      --disabled-bg-color: #3B4455;\n",
              "      --disabled-fill-color: #666;\n",
              "  }\n",
              "\n",
              "  .colab-df-quickchart {\n",
              "    background-color: var(--bg-color);\n",
              "    border: none;\n",
              "    border-radius: 50%;\n",
              "    cursor: pointer;\n",
              "    display: none;\n",
              "    fill: var(--fill-color);\n",
              "    height: 32px;\n",
              "    padding: 0;\n",
              "    width: 32px;\n",
              "  }\n",
              "\n",
              "  .colab-df-quickchart:hover {\n",
              "    background-color: var(--hover-bg-color);\n",
              "    box-shadow: 0 1px 2px rgba(60, 64, 67, 0.3), 0 1px 3px 1px rgba(60, 64, 67, 0.15);\n",
              "    fill: var(--button-hover-fill-color);\n",
              "  }\n",
              "\n",
              "  .colab-df-quickchart-complete:disabled,\n",
              "  .colab-df-quickchart-complete:disabled:hover {\n",
              "    background-color: var(--disabled-bg-color);\n",
              "    fill: var(--disabled-fill-color);\n",
              "    box-shadow: none;\n",
              "  }\n",
              "\n",
              "  .colab-df-spinner {\n",
              "    border: 2px solid var(--fill-color);\n",
              "    border-color: transparent;\n",
              "    border-bottom-color: var(--fill-color);\n",
              "    animation:\n",
              "      spin 1s steps(1) infinite;\n",
              "  }\n",
              "\n",
              "  @keyframes spin {\n",
              "    0% {\n",
              "      border-color: transparent;\n",
              "      border-bottom-color: var(--fill-color);\n",
              "      border-left-color: var(--fill-color);\n",
              "    }\n",
              "    20% {\n",
              "      border-color: transparent;\n",
              "      border-left-color: var(--fill-color);\n",
              "      border-top-color: var(--fill-color);\n",
              "    }\n",
              "    30% {\n",
              "      border-color: transparent;\n",
              "      border-left-color: var(--fill-color);\n",
              "      border-top-color: var(--fill-color);\n",
              "      border-right-color: var(--fill-color);\n",
              "    }\n",
              "    40% {\n",
              "      border-color: transparent;\n",
              "      border-right-color: var(--fill-color);\n",
              "      border-top-color: var(--fill-color);\n",
              "    }\n",
              "    60% {\n",
              "      border-color: transparent;\n",
              "      border-right-color: var(--fill-color);\n",
              "    }\n",
              "    80% {\n",
              "      border-color: transparent;\n",
              "      border-right-color: var(--fill-color);\n",
              "      border-bottom-color: var(--fill-color);\n",
              "    }\n",
              "    90% {\n",
              "      border-color: transparent;\n",
              "      border-bottom-color: var(--fill-color);\n",
              "    }\n",
              "  }\n",
              "</style>\n",
              "\n",
              "  <script>\n",
              "    async function quickchart(key) {\n",
              "      const quickchartButtonEl =\n",
              "        document.querySelector('#' + key + ' button');\n",
              "      quickchartButtonEl.disabled = true;  // To prevent multiple clicks.\n",
              "      quickchartButtonEl.classList.add('colab-df-spinner');\n",
              "      try {\n",
              "        const charts = await google.colab.kernel.invokeFunction(\n",
              "            'suggestCharts', [key], {});\n",
              "      } catch (error) {\n",
              "        console.error('Error during call to suggestCharts:', error);\n",
              "      }\n",
              "      quickchartButtonEl.classList.remove('colab-df-spinner');\n",
              "      quickchartButtonEl.classList.add('colab-df-quickchart-complete');\n",
              "    }\n",
              "    (() => {\n",
              "      let quickchartButtonEl =\n",
              "        document.querySelector('#df-0a222ad5-5e23-4cc4-906f-92c969fca20f button');\n",
              "      quickchartButtonEl.style.display =\n",
              "        google.colab.kernel.accessAllowed ? 'block' : 'none';\n",
              "    })();\n",
              "  </script>\n",
              "</div>\n",
              "\n",
              "    </div>\n",
              "  </div>\n"
            ],
            "application/vnd.google.colaboratory.intrinsic+json": {
              "type": "dataframe",
              "summary": "{\n  \"name\": \"display(df\",\n  \"rows\": 5,\n  \"fields\": [\n    {\n      \"column\": \"MedInc\",\n      \"properties\": {\n        \"dtype\": \"number\",\n        \"std\": 1.9218775476080674,\n        \"min\": 3.8462,\n        \"max\": 8.3252,\n        \"num_unique_values\": 5,\n        \"samples\": [\n          8.3014,\n          3.8462,\n          7.2574\n        ],\n        \"semantic_type\": \"\",\n        \"description\": \"\"\n      }\n    },\n    {\n      \"column\": \"HouseAge\",\n      \"properties\": {\n        \"dtype\": \"number\",\n        \"std\": 13.501851724856113,\n        \"min\": 21.0,\n        \"max\": 52.0,\n        \"num_unique_values\": 3,\n        \"samples\": [\n          41.0,\n          21.0,\n          52.0\n        ],\n        \"semantic_type\": \"\",\n        \"description\": \"\"\n      }\n    },\n    {\n      \"column\": \"AveRooms\",\n      \"properties\": {\n        \"dtype\": \"number\",\n        \"std\": 0.9705323807243326,\n        \"min\": 5.8173515981735155,\n        \"max\": 8.288135593220339,\n        \"num_unique_values\": 5,\n        \"samples\": [\n          6.238137082601054,\n          6.281853281853282,\n          8.288135593220339\n        ],\n        \"semantic_type\": \"\",\n        \"description\": \"\"\n      }\n    },\n    {\n      \"column\": \"AveBedrms\",\n      \"properties\": {\n        \"dtype\": \"number\",\n        \"std\": 0.04661885487529508,\n        \"min\": 0.9718804920913884,\n        \"max\": 1.0810810810810811,\n        \"num_unique_values\": 5,\n        \"samples\": [\n          0.9718804920913884,\n          1.0810810810810811,\n          1.073446327683616\n        ],\n        \"semantic_type\": \"\",\n        \"description\": \"\"\n      }\n    },\n    {\n      \"column\": \"Population\",\n      \"properties\": {\n        \"dtype\": \"number\",\n        \"std\": 862.3365352343596,\n        \"min\": 322.0,\n        \"max\": 2401.0,\n        \"num_unique_values\": 5,\n        \"samples\": [\n          2401.0,\n          565.0,\n          496.0\n        ],\n        \"semantic_type\": \"\",\n        \"description\": \"\"\n      }\n    },\n    {\n      \"column\": \"AveOccup\",\n      \"properties\": {\n        \"dtype\": \"number\",\n        \"std\": 0.2881316535489867,\n        \"min\": 2.109841827768014,\n        \"max\": 2.8022598870056497,\n        \"num_unique_values\": 5,\n        \"samples\": [\n          2.109841827768014,\n          2.1814671814671813,\n          2.8022598870056497\n        ],\n        \"semantic_type\": \"\",\n        \"description\": \"\"\n      }\n    },\n    {\n      \"column\": \"Latitude\",\n      \"properties\": {\n        \"dtype\": \"number\",\n        \"std\": 0.0130384048104057,\n        \"min\": 37.85,\n        \"max\": 37.88,\n        \"num_unique_values\": 3,\n        \"samples\": [\n          37.88,\n          37.86,\n          37.85\n        ],\n        \"semantic_type\": \"\",\n        \"description\": \"\"\n      }\n    },\n    {\n      \"column\": \"Longitude\",\n      \"properties\": {\n        \"dtype\": \"number\",\n        \"std\": 0.013038404810404884,\n        \"min\": -122.25,\n        \"max\": -122.22,\n        \"num_unique_values\": 4,\n        \"samples\": [\n          -122.22,\n          -122.25,\n          -122.23\n        ],\n        \"semantic_type\": \"\",\n        \"description\": \"\"\n      }\n    },\n    {\n      \"column\": \"MedianHouseValue\",\n      \"properties\": {\n        \"dtype\": \"number\",\n        \"std\": 0.4708973348830931,\n        \"min\": 3.413,\n        \"max\": 4.526,\n        \"num_unique_values\": 5,\n        \"samples\": [\n          3.585,\n          3.422,\n          3.521\n        ],\n        \"semantic_type\": \"\",\n        \"description\": \"\"\n      }\n    }\n  ]\n}"
            }
          },
          "metadata": {}
        }
      ]
    },
    {
      "cell_type": "code",
      "source": [
        "print(data.DESCR)"
      ],
      "metadata": {
        "colab": {
          "base_uri": "https://localhost:8080/"
        },
        "id": "bJz1_HCSdbwM",
        "outputId": "6696e842-7a53-4dcb-daec-6889da0f6b88"
      },
      "execution_count": 8,
      "outputs": [
        {
          "output_type": "stream",
          "name": "stdout",
          "text": [
            ".. _california_housing_dataset:\n",
            "\n",
            "California Housing dataset\n",
            "--------------------------\n",
            "\n",
            "**Data Set Characteristics:**\n",
            "\n",
            ":Number of Instances: 20640\n",
            "\n",
            ":Number of Attributes: 8 numeric, predictive attributes and the target\n",
            "\n",
            ":Attribute Information:\n",
            "    - MedInc        median income in block group\n",
            "    - HouseAge      median house age in block group\n",
            "    - AveRooms      average number of rooms per household\n",
            "    - AveBedrms     average number of bedrooms per household\n",
            "    - Population    block group population\n",
            "    - AveOccup      average number of household members\n",
            "    - Latitude      block group latitude\n",
            "    - Longitude     block group longitude\n",
            "\n",
            ":Missing Attribute Values: None\n",
            "\n",
            "This dataset was obtained from the StatLib repository.\n",
            "https://www.dcc.fc.up.pt/~ltorgo/Regression/cal_housing.html\n",
            "\n",
            "The target variable is the median house value for California districts,\n",
            "expressed in hundreds of thousands of dollars ($100,000).\n",
            "\n",
            "This dataset was derived from the 1990 U.S. census, using one row per census\n",
            "block group. A block group is the smallest geographical unit for which the U.S.\n",
            "Census Bureau publishes sample data (a block group typically has a population\n",
            "of 600 to 3,000 people).\n",
            "\n",
            "A household is a group of people residing within a home. Since the average\n",
            "number of rooms and bedrooms in this dataset are provided per household, these\n",
            "columns may take surprisingly large values for block groups with few households\n",
            "and many empty houses, such as vacation resorts.\n",
            "\n",
            "It can be downloaded/loaded using the\n",
            ":func:`sklearn.datasets.fetch_california_housing` function.\n",
            "\n",
            ".. rubric:: References\n",
            "\n",
            "- Pace, R. Kelley and Ronald Barry, Sparse Spatial Autoregressions,\n",
            "  Statistics and Probability Letters, 33 (1997) 291-297\n",
            "\n"
          ]
        }
      ]
    },
    {
      "cell_type": "markdown",
      "source": [
        "### データ加工"
      ],
      "metadata": {
        "id": "TF33fITGcZZQ"
      }
    },
    {
      "cell_type": "code",
      "source": [
        "# データ絞り込み (項目 RMのみ)\n",
        "x_data = df[['MedInc']].values\n",
        "print('絞り込み後', x_data.shape)\n",
        "\n",
        "# ダミー変数を追加\n",
        "x = np.insert(x_data, 0, 1.0, axis=1)\n",
        "print('ダミー変数追加後', x.shape)"
      ],
      "metadata": {
        "colab": {
          "base_uri": "https://localhost:8080/"
        },
        "id": "CsRe5uSib60x",
        "outputId": "2a4ce496-e615-4876-e00a-4dee521b0b2a"
      },
      "execution_count": 5,
      "outputs": [
        {
          "output_type": "stream",
          "name": "stdout",
          "text": [
            "絞り込み後 (20640, 1)\n",
            "ダミー変数追加後 (20640, 2)\n"
          ]
        }
      ]
    },
    {
      "cell_type": "code",
      "source": [
        "# 正解データ\n",
        "yt = df['MedianHouseValue'].values\n",
        "print(yt.shape)"
      ],
      "metadata": {
        "colab": {
          "base_uri": "https://localhost:8080/"
        },
        "id": "XR8rXxYHcvxR",
        "outputId": "e95f6097-6b60-41d7-ee70-9380163d5fc4"
      },
      "execution_count": 6,
      "outputs": [
        {
          "output_type": "stream",
          "name": "stdout",
          "text": [
            "(20640,)\n"
          ]
        }
      ]
    },
    {
      "cell_type": "code",
      "source": [
        "# 散布図の表示"
      ],
      "metadata": {
        "id": "n-S0Jx8BdKBg"
      },
      "execution_count": 7,
      "outputs": []
    },
    {
      "cell_type": "code",
      "source": [
        "# 散布図の表示\n",
        "plt.figure(figsize=(6,6))\n",
        "plt.scatter(x[:,1], yt, s=10, c='b')\n",
        "plt.xlabel('収入', fontsize=14)\n",
        "plt.ylabel('不動産価格', fontsize=14)\n",
        "plt.show()"
      ],
      "metadata": {
        "colab": {
          "base_uri": "https://localhost:8080/",
          "height": 545
        },
        "id": "bNCie5PedUiJ",
        "outputId": "503010bb-f2a2-465e-f000-c1daa52a7c85"
      },
      "execution_count": 25,
      "outputs": [
        {
          "output_type": "display_data",
          "data": {
            "text/plain": [
              "<Figure size 600x600 with 1 Axes>"
            ],
            "image/png": "[encoded data removed]"
          },
          "metadata": {}
        }
      ]
    },
    {
      "cell_type": "markdown",
      "source": [
        "### 関数定義"
      ],
      "metadata": {
        "id": "Nl42sWTheRCK"
      }
    },
    {
      "cell_type": "markdown",
      "source": [
        "#### 予測関数"
      ],
      "metadata": {
        "id": "DWKS6ePJeUMM"
      }
    },
    {
      "cell_type": "code",
      "source": [
        "# 予測関数 (1, x)の値から予測値ypを計算する\n",
        "def pred(x, w):\n",
        "    return(x @ w)"
      ],
      "metadata": {
        "id": "aoSMBDend4_9"
      },
      "execution_count": 11,
      "outputs": []
    },
    {
      "cell_type": "markdown",
      "source": [
        "### 単回帰モデル"
      ],
      "metadata": {
        "id": "EnmziXeoegtC"
      }
    },
    {
      "cell_type": "markdown",
      "source": [
        "#### 初期設定"
      ],
      "metadata": {
        "id": "M64IMVvselFG"
      }
    },
    {
      "cell_type": "code",
      "source": [
        "# 初期化処理\n",
        "\n",
        "# データ系列総数\n",
        "M = x.shape[0]\n",
        "\n",
        "# 入力データ次元数(ダミー変数を含む)\n",
        "D = x.shape[1]\n",
        "\n",
        "# 繰り返し回数\n",
        "iters = 5000\n",
        "\n",
        "# 学習率\n",
        "alpha = 0.005\n",
        "\n",
        "# 重みベクトルの初期値 (すべての値を1にする)\n",
        "w = np.ones(D)\n",
        "\n",
        "# 評価結果記録用 (損失関数値のみ記録)\n",
        "history = np.zeros((0,2))"
      ],
      "metadata": {
        "id": "LbrYa1UKeczA"
      },
      "execution_count": 29,
      "outputs": []
    },
    {
      "cell_type": "markdown",
      "source": [
        " #### 繰り返し処理"
      ],
      "metadata": {
        "id": "_pCWaIDue2Mz"
      }
    },
    {
      "cell_type": "code",
      "source": [
        "# 繰り返しループ\n",
        "for k in range(iters):\n",
        "\n",
        "    # 予測値の計算 (7.8.1)\n",
        "    yp = pred(x, w)\n",
        "\n",
        "    # 誤差の計算 (7.8.2)\n",
        "    yd = yp - yt\n",
        "\n",
        "    # 勾配降下法の実装 (7.8.4)\n",
        "    w = w - alpha * (x.T @ yd) / M\n",
        "\n",
        "    # 学習曲線描画用データの計算、保存\n",
        "    if ( k % 100 == 0):\n",
        "        # 損失関数値の計算 (7.6.1)\n",
        "        loss = np.mean(yd ** 2) / 2\n",
        "        # 計算結果の記録\n",
        "        history = np.vstack((history, np.array([k, loss])))\n",
        "        # 画面表示\n",
        "        print( \"iter = %d  loss = %f\" % (k, loss))"
      ],
      "metadata": {
        "colab": {
          "base_uri": "https://localhost:8080/"
        },
        "id": "oA8dsmQVey5F",
        "outputId": "05896480-6543-4f91-e186-4aff6a09bd6d"
      },
      "execution_count": 30,
      "outputs": [
        {
          "output_type": "stream",
          "name": "stdout",
          "text": [
            "iter = 0  loss = 4.887865\n",
            "iter = 100  loss = 0.364029\n",
            "iter = 200  loss = 0.361743\n",
            "iter = 300  loss = 0.359845\n",
            "iter = 400  loss = 0.358270\n",
            "iter = 500  loss = 0.356962\n",
            "iter = 600  loss = 0.355876\n",
            "iter = 700  loss = 0.354974\n",
            "iter = 800  loss = 0.354226\n",
            "iter = 900  loss = 0.353604\n",
            "iter = 1000  loss = 0.353088\n",
            "iter = 1100  loss = 0.352660\n",
            "iter = 1200  loss = 0.352304\n",
            "iter = 1300  loss = 0.352009\n",
            "iter = 1400  loss = 0.351764\n",
            "iter = 1500  loss = 0.351561\n",
            "iter = 1600  loss = 0.351392\n",
            "iter = 1700  loss = 0.351251\n",
            "iter = 1800  loss = 0.351135\n",
            "iter = 1900  loss = 0.351038\n",
            "iter = 2000  loss = 0.350958\n",
            "iter = 2100  loss = 0.350891\n",
            "iter = 2200  loss = 0.350836\n",
            "iter = 2300  loss = 0.350790\n",
            "iter = 2400  loss = 0.350752\n",
            "iter = 2500  loss = 0.350720\n",
            "iter = 2600  loss = 0.350694\n",
            "iter = 2700  loss = 0.350672\n",
            "iter = 2800  loss = 0.350654\n",
            "iter = 2900  loss = 0.350639\n",
            "iter = 3000  loss = 0.350627\n",
            "iter = 3100  loss = 0.350616\n",
            "iter = 3200  loss = 0.350608\n",
            "iter = 3300  loss = 0.350601\n",
            "iter = 3400  loss = 0.350595\n",
            "iter = 3500  loss = 0.350590\n",
            "iter = 3600  loss = 0.350586\n",
            "iter = 3700  loss = 0.350582\n",
            "iter = 3800  loss = 0.350579\n",
            "iter = 3900  loss = 0.350577\n",
            "iter = 4000  loss = 0.350575\n",
            "iter = 4100  loss = 0.350573\n",
            "iter = 4200  loss = 0.350572\n",
            "iter = 4300  loss = 0.350571\n",
            "iter = 4400  loss = 0.350570\n",
            "iter = 4500  loss = 0.350569\n",
            "iter = 4600  loss = 0.350569\n",
            "iter = 4700  loss = 0.350568\n",
            "iter = 4800  loss = 0.350568\n",
            "iter = 4900  loss = 0.350567\n"
          ]
        }
      ]
    },
    {
      "cell_type": "markdown",
      "source": [
        "### 結果分析"
      ],
      "metadata": {
        "id": "UUu9vdSffSsk"
      }
    },
    {
      "cell_type": "markdown",
      "source": [
        "#### 損失確認"
      ],
      "metadata": {
        "id": "GGmAoa_ifV3X"
      }
    },
    {
      "cell_type": "code",
      "source": [
        "# 最終的な損失関数初期値、最終値\n",
        "print(f'損失関数初期値:{history[0,1]:04f}')\n",
        "print(f'損失関数最終値:{history[-1,1]:04f}')"
      ],
      "metadata": {
        "colab": {
          "base_uri": "https://localhost:8080/"
        },
        "id": "RG5u8zUKfB_c",
        "outputId": "5bdca82c-360e-4950-b085-7cfcb640e7ce"
      },
      "execution_count": 31,
      "outputs": [
        {
          "output_type": "stream",
          "name": "stdout",
          "text": [
            "損失関数初期値:4.887865\n",
            "損失関数最終値:0.350567\n"
          ]
        }
      ]
    },
    {
      "cell_type": "markdown",
      "source": [
        "#### 学習曲線表示"
      ],
      "metadata": {
        "id": "ysWdLSYIjayG"
      }
    },
    {
      "cell_type": "code",
      "source": [
        "# 学習曲線の表示 (最初の1個分を除く)\n",
        "plt.plot(history[1:,0], history[1:,1])\n",
        "plt.grid()\n",
        "plt.title('学習曲線(損失)')\n",
        "plt.show()"
      ],
      "metadata": {
        "colab": {
          "base_uri": "https://localhost:8080/",
          "height": 451
        },
        "id": "kFL3yM9ggeSw",
        "outputId": "8f387967-be22-47fd-88db-61f7fcfce77a"
      },
      "execution_count": 34,
      "outputs": [
        {
          "output_type": "display_data",
          "data": {
            "text/plain": [
              "<Figure size 640x480 with 1 Axes>"
            ],
            "image/png": "[encoded data removed]"
          },
          "metadata": {}
        }
      ]
    },
    {
      "cell_type": "markdown",
      "source": [
        "#### 回帰直線表示"
      ],
      "metadata": {
        "id": "yCS8HQC0jgN3"
      }
    },
    {
      "cell_type": "code",
      "source": [
        "# 下記直線描画用の座標値計算\n",
        "xall = x[:,1].ravel()\n",
        "xl = np.array([[1, xall.min()],[1, xall.max()]])\n",
        "yl = pred(xl, w)"
      ],
      "metadata": {
        "id": "GJvoF3oEfhQc"
      },
      "execution_count": 35,
      "outputs": []
    },
    {
      "cell_type": "code",
      "source": [
        "# 散布図と回帰直線の描画\n",
        "plt.figure(figsize=(6,6))\n",
        "plt.scatter(x[:,1], yt, s=10, c='b')\n",
        "plt.xlabel('収入', fontsize=14)\n",
        "plt.ylabel('不動産価格', fontsize=14)\n",
        "plt.plot(xl[:,1], yl, c='k')\n",
        "plt.show()"
      ],
      "metadata": {
        "colab": {
          "base_uri": "https://localhost:8080/",
          "height": 547
        },
        "id": "iofjSWP8gEIB",
        "outputId": "c64a16b0-8ba1-47ab-ca65-bc30192eb60f"
      },
      "execution_count": 36,
      "outputs": [
        {
          "output_type": "display_data",
          "data": {
            "text/plain": [
              "<Figure size 600x600 with 1 Axes>"
            ],
            "image/png": "[encoded data removed]"
          },
          "metadata": {}
        }
      ]
    },
    {
      "cell_type": "markdown",
      "source": [
        "### 重回帰モデル"
      ],
      "metadata": {
        "id": "NcxfQK7nheht"
      }
    },
    {
      "cell_type": "markdown",
      "source": [
        "#### 学習データ加工"
      ],
      "metadata": {
        "id": "K8aMT7pAhsL2"
      }
    },
    {
      "cell_type": "code",
      "source": [
        "# 列(LSTAT: 低所得者率)の追加\n",
        "x_add = df[['AveRooms']]\n",
        "x2 = np.hstack((x, x_add))\n",
        "print(x2.shape)\n",
        "# 入力データxの表示 (ダミーデータを含む)\n",
        "print(x2[:5,:])"
      ],
      "metadata": {
        "colab": {
          "base_uri": "https://localhost:8080/"
        },
        "id": "I73xLoiegIfk",
        "outputId": "c21d02e8-3c27-4d35-d5b2-81f40a866479"
      },
      "execution_count": 38,
      "outputs": [
        {
          "output_type": "stream",
          "name": "stdout",
          "text": [
            "(20640, 3)\n",
            "[[1.         8.3252     6.98412698]\n",
            " [1.         8.3014     6.23813708]\n",
            " [1.         7.2574     8.28813559]\n",
            " [1.         5.6431     5.8173516 ]\n",
            " [1.         3.8462     6.28185328]]\n"
          ]
        }
      ]
    },
    {
      "cell_type": "markdown",
      "source": [
        "#### 初期設定"
      ],
      "metadata": {
        "id": "FS0wrisAivbG"
      }
    },
    {
      "cell_type": "code",
      "source": [
        "# 初期化処理\n",
        "\n",
        "# データ系列総数\n",
        "M  = x2.shape[0]\n",
        "\n",
        "# 入力データ次元数(ダミー変数を含む)\n",
        "D = x2.shape[1]\n",
        "\n",
        "# 繰り返し回数\n",
        "iters = 5000\n",
        "\n",
        "# 学習率\n",
        "alpha = 0.005\n",
        "\n",
        "# 重みベクトルの初期値 (すべての値を1にする)\n",
        "w = np.ones(D)\n",
        "\n",
        "# 評価結果記録用 (損失関数値のみ記録)\n",
        "history = np.zeros((0,2))"
      ],
      "metadata": {
        "id": "CXRRSjvFidb4"
      },
      "execution_count": 44,
      "outputs": []
    },
    {
      "cell_type": "markdown",
      "source": [
        "#### 繰り返し処理"
      ],
      "metadata": {
        "id": "Uj7Sel7Mi70a"
      }
    },
    {
      "cell_type": "code",
      "source": [
        "# 繰り返しループ\n",
        "for k in range(iters):\n",
        "\n",
        "    # 予測値の計算 (7.8.1)\n",
        "    yp = pred(x2, w)\n",
        "\n",
        "    # 誤差の計算 (7.8.2)\n",
        "    yd = yp - yt\n",
        "\n",
        "    # 勾配降下法の実装 (7.8.4)\n",
        "    w = w - alpha * (x2.T @ yd) / M\n",
        "\n",
        "    # 学習曲線描画用データの計算、保存\n",
        "    if ( k % 100 == 0):\n",
        "        # 損失関数値の計算 (7.6.1)\n",
        "        loss = np.mean(yd ** 2) / 2\n",
        "        # 計算結果の記録\n",
        "        history = np.vstack((history, np.array([k, loss])))\n",
        "        # 画面表示\n",
        "        print( \"iter = %d  loss = %f\" % (k, loss))"
      ],
      "metadata": {
        "colab": {
          "base_uri": "https://localhost:8080/"
        },
        "id": "BavnAD_5i5uV",
        "outputId": "44fc040c-d29b-409b-83a8-404be5619102"
      },
      "execution_count": 45,
      "outputs": [
        {
          "output_type": "stream",
          "name": "stdout",
          "text": [
            "iter = 0  loss = 39.000861\n",
            "iter = 100  loss = 0.351180\n",
            "iter = 200  loss = 0.349798\n",
            "iter = 300  loss = 0.349376\n",
            "iter = 400  loss = 0.349044\n",
            "iter = 500  loss = 0.348753\n",
            "iter = 600  loss = 0.348496\n",
            "iter = 700  loss = 0.348270\n",
            "iter = 800  loss = 0.348071\n",
            "iter = 900  loss = 0.347896\n",
            "iter = 1000  loss = 0.347741\n",
            "iter = 1100  loss = 0.347605\n",
            "iter = 1200  loss = 0.347485\n",
            "iter = 1300  loss = 0.347379\n",
            "iter = 1400  loss = 0.347286\n",
            "iter = 1500  loss = 0.347204\n",
            "iter = 1600  loss = 0.347132\n",
            "iter = 1700  loss = 0.347068\n",
            "iter = 1800  loss = 0.347012\n",
            "iter = 1900  loss = 0.346962\n",
            "iter = 2000  loss = 0.346919\n",
            "iter = 2100  loss = 0.346880\n",
            "iter = 2200  loss = 0.346846\n",
            "iter = 2300  loss = 0.346817\n",
            "iter = 2400  loss = 0.346790\n",
            "iter = 2500  loss = 0.346767\n",
            "iter = 2600  loss = 0.346747\n",
            "iter = 2700  loss = 0.346729\n",
            "iter = 2800  loss = 0.346713\n",
            "iter = 2900  loss = 0.346699\n",
            "iter = 3000  loss = 0.346687\n",
            "iter = 3100  loss = 0.346676\n",
            "iter = 3200  loss = 0.346666\n",
            "iter = 3300  loss = 0.346658\n",
            "iter = 3400  loss = 0.346650\n",
            "iter = 3500  loss = 0.346644\n",
            "iter = 3600  loss = 0.346638\n",
            "iter = 3700  loss = 0.346633\n",
            "iter = 3800  loss = 0.346628\n",
            "iter = 3900  loss = 0.346625\n",
            "iter = 4000  loss = 0.346621\n",
            "iter = 4100  loss = 0.346618\n",
            "iter = 4200  loss = 0.346615\n",
            "iter = 4300  loss = 0.346613\n",
            "iter = 4400  loss = 0.346611\n",
            "iter = 4500  loss = 0.346609\n",
            "iter = 4600  loss = 0.346607\n",
            "iter = 4700  loss = 0.346606\n",
            "iter = 4800  loss = 0.346605\n",
            "iter = 4900  loss = 0.346604\n"
          ]
        }
      ]
    },
    {
      "cell_type": "markdown",
      "source": [
        "###  結果確認"
      ],
      "metadata": {
        "id": "54k--2JOjWxd"
      }
    },
    {
      "cell_type": "markdown",
      "source": [
        "#### 損失確認"
      ],
      "metadata": {
        "id": "LjW0tyfUjopb"
      }
    },
    {
      "cell_type": "code",
      "source": [
        "# 最終的な損失関数初期値、最終値\n",
        "print(f'損失関数初期値:{history[0,1]:04f}')\n",
        "print(f'損失関数最終値:{history[-1,1]:04f}')"
      ],
      "metadata": {
        "colab": {
          "base_uri": "https://localhost:8080/"
        },
        "id": "e1UxVOA6jJpd",
        "outputId": "712aa136-4a1c-4aae-e6b5-4670836c5526"
      },
      "execution_count": 46,
      "outputs": [
        {
          "output_type": "stream",
          "name": "stdout",
          "text": [
            "損失関数初期値:39.000861\n",
            "損失関数最終値:0.346604\n"
          ]
        }
      ]
    },
    {
      "cell_type": "markdown",
      "source": [
        "#### 学習曲線表示"
      ],
      "metadata": {
        "id": "-hmSGZuxj24z"
      }
    },
    {
      "cell_type": "code",
      "source": [
        "# 学習曲線の表示 (最初の1個分を除く)\n",
        "plt.plot(history[1:,0], history[1:,1])\n",
        "plt.grid()\n",
        "plt.title('学習曲線(損失)')\n",
        "plt.show()"
      ],
      "metadata": {
        "colab": {
          "base_uri": "https://localhost:8080/",
          "height": 451
        },
        "id": "F39sOX_ajV3g",
        "outputId": "16abf0ef-0dfe-4007-916c-cb452c1f775d"
      },
      "execution_count": 47,
      "outputs": [
        {
          "output_type": "display_data",
          "data": {
            "text/plain": [
              "<Figure size 640x480 with 1 Axes>"
            ],
            "image/png": "[encoded data removed]"
          },
          "metadata": {}
        }
      ]
    },
    {
      "cell_type": "code",
      "source": [],
      "metadata": {
        "id": "gOqx7pjEkAxe"
      },
      "execution_count": null,
      "outputs": []
    }
  ]
}