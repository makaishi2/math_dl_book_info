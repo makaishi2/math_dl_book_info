{
  "cells": [
    {
      "cell_type": "markdown",
      "metadata": {
        "id": "KkFxVtCETIFe"
      },
      "source": [
        "# 11章　実用的なディープラーニングを目指して"
      ]
    },
    {
      "cell_type": "code",
      "execution_count": null,
      "metadata": {
        "id": "KCTJdOweTIFj"
      },
      "outputs": [],
      "source": [
        "# Tensorflow/Kerasの導入\n",
        "!pip install tensorflow\n",
        "!pip install keras"
      ]
    },
    {
      "cell_type": "code",
      "execution_count": null,
      "metadata": {
        "id": "GosC7NgmTIFl"
      },
      "outputs": [],
      "source": [
        "# 必要ライブラリの宣言\n",
        "import numpy as np\n",
        "import matplotlib.pyplot as plt\n",
        "import warnings\n",
        "warnings.filterwarnings('ignore')"
      ]
    },
    {
      "cell_type": "markdown",
      "metadata": {
        "id": "avRQVKAnTIFm"
      },
      "source": [
        "### 11.1 KerasによるNeural Network"
      ]
    },
    {
      "cell_type": "code",
      "execution_count": null,
      "metadata": {
        "id": "RjcDKXGrTIFm"
      },
      "outputs": [],
      "source": [
        "# データ準備\n",
        "\n",
        "# 変数定義\n",
        "\n",
        "# D: 入力ノード数\n",
        "D = 784\n",
        "\n",
        "# H: 隠れ層のノード数\n",
        "H = 128\n",
        "\n",
        "# 分類クラス数\n",
        "num_classes = 10\n",
        "\n",
        "# Kerasの関数でデータの読み込み\n",
        "from keras.datasets import mnist\n",
        "(x_train_org, y_train), (x_test_org, y_test) \\\n",
        " = mnist.load_data()\n",
        "\n",
        "# 入力データの加工 (次元を1次元に)\n",
        "x_train = x_train_org.reshape(-1, D) / 255.0\n",
        "x_test = x_test_org.reshape((-1, D)) / 255.0\n",
        "\n",
        "# 正解データの加工 (One Hot Vectorに)\n",
        "from keras.utils import to_categorical\n",
        "\n",
        "y_train_ohe = to_categorical(y_train, num_classes)\n",
        "y_test_ohe = to_categorical(y_test, num_classes)\n"
      ]
    },
    {
      "cell_type": "code",
      "execution_count": null,
      "metadata": {
        "id": "c0AWak8MTIFn"
      },
      "outputs": [],
      "source": [
        "# モデルの定義\n",
        "\n",
        "# 必要ライブラリのロード\n",
        "from keras.models import Sequential\n",
        "from keras.layers import Dense\n",
        "\n",
        "# Sequentialモデルの定義\n",
        "model = Sequential()\n",
        "\n",
        "# 隠れ層1の定義\n",
        "model.add(Dense(H, activation='relu', input_shape=(D,)))\n",
        "\n",
        "# 隠れ層2の定義\n",
        "model.add(Dense(H, activation='relu'))\n",
        "\n",
        "# 出力層\n",
        "model.add(Dense(num_classes, activation='softmax'))\n",
        "\n",
        "# モデルのコンパイル\n",
        "model.compile(loss = 'categorical_crossentropy',\n",
        "              optimizer = 'sgd',\n",
        "              metrics=['accuracy'])"
      ]
    },
    {
      "cell_type": "code",
      "execution_count": null,
      "metadata": {
        "scrolled": true,
        "id": "4rZLh1QNTIFp"
      },
      "outputs": [],
      "source": [
        "# 学習\n",
        "\n",
        "# 学習の単位\n",
        "batch_size = 512\n",
        "\n",
        "# 繰り返し回数\n",
        "nb_epoch = 50\n",
        "\n",
        "# モデルの学習\n",
        "history1 = model.fit(\n",
        "    x_train,\n",
        "    y_train_ohe,\n",
        "    batch_size = batch_size,\n",
        "    epochs = nb_epoch,\n",
        "    verbose = 1,\n",
        "    validation_data = (x_test, y_test_ohe))"
      ]
    },
    {
      "cell_type": "markdown",
      "metadata": {
        "id": "5gH_14O8TIFq"
      },
      "source": [
        "## 11.4 数値微分"
      ]
    },
    {
      "cell_type": "code",
      "execution_count": null,
      "metadata": {
        "id": "a4y_41ZcTIFq"
      },
      "outputs": [],
      "source": [
        "import numpy as np\n",
        "\n",
        "#  ネイピア数を底とする指数関数の定義\n",
        "def f(x):\n",
        "    return np.exp(x)\n",
        "\n",
        "# 微少な数 hの定義\n",
        "h = 0.001\n",
        "\n",
        "# f'(0)の近似計算\n",
        "# f'(0) = f(0) = 1に近い値になるはず\n",
        "diff = (f(0 + h) - f(0 - h))/(2 * h)\n",
        "\n",
        "# 結果の確認\n",
        "print(diff)"
      ]
    },
    {
      "cell_type": "markdown",
      "metadata": {
        "id": "m8r4A9H4TIFr"
      },
      "source": [
        "## 11.5 高度な学習法"
      ]
    },
    {
      "cell_type": "markdown",
      "metadata": {
        "id": "svJ14n3_TIFs"
      },
      "source": [
        "### SGD"
      ]
    },
    {
      "cell_type": "code",
      "execution_count": null,
      "metadata": {
        "id": "yg8xxmjOTIFs"
      },
      "outputs": [],
      "source": [
        "# 必要ライブラリのロード\n",
        "from keras.models import Sequential\n",
        "from keras.layers import Dense\n",
        "\n",
        "# 学習の単位\n",
        "batch_size = 512\n",
        "\n",
        "# 繰り返し回数\n",
        "nb_epoch = 50"
      ]
    },
    {
      "cell_type": "code",
      "execution_count": null,
      "metadata": {
        "id": "qGYsY53oTIFs"
      },
      "outputs": [],
      "source": [
        "# Sequentialモデルの定義\n",
        "model = Sequential()\n",
        "\n",
        "# 隠れ層1の定義\n",
        "model.add(Dense(H, activation='relu', kernel_initializer='he_normal', input_shape=(D,)))\n",
        "\n",
        "# 隠れ層2の定義\n",
        "model.add(Dense(H, activation='relu', kernel_initializer='he_normal'))\n",
        "\n",
        "# 出力層\n",
        "model.add(Dense(num_classes, activation='softmax', kernel_initializer='he_normal'))"
      ]
    },
    {
      "cell_type": "code",
      "execution_count": null,
      "metadata": {
        "scrolled": true,
        "id": "tpzKea7sTIFt"
      },
      "outputs": [],
      "source": [
        "# モデルのコンパイル\n",
        "model.compile(loss = 'categorical_crossentropy',\n",
        "              optimizer = 'sgd',\n",
        "              metrics=['accuracy'])\n",
        "\n",
        "# モデルの学習\n",
        "history1 = model.fit(\n",
        "    x_train,\n",
        "    y_train_ohe,\n",
        "    batch_size = batch_size,\n",
        "    epochs = nb_epoch,\n",
        "    verbose = 1,\n",
        "    validation_data = (x_test, y_test_ohe))"
      ]
    },
    {
      "cell_type": "markdown",
      "metadata": {
        "id": "xO3Ay_4NTIFt"
      },
      "source": [
        "### RmsProp"
      ]
    },
    {
      "cell_type": "code",
      "execution_count": null,
      "metadata": {
        "id": "oMAb9mgiTIFu"
      },
      "outputs": [],
      "source": [
        "# Sequentialモデルの定義\n",
        "model = Sequential()\n",
        "\n",
        "# 隠れ層1の定義\n",
        "model.add(Dense(H, activation='relu', kernel_initializer='he_normal', input_shape=(D,)))\n",
        "\n",
        "# 隠れ層2の定義\n",
        "model.add(Dense(H, activation='relu', kernel_initializer='he_normal'))\n",
        "\n",
        "# 出力層\n",
        "model.add(Dense(num_classes, activation='softmax', kernel_initializer='he_normal'))"
      ]
    },
    {
      "cell_type": "code",
      "execution_count": null,
      "metadata": {
        "scrolled": true,
        "id": "xjuthcu4TIFu"
      },
      "outputs": [],
      "source": [
        "# モデルのコンパイル\n",
        "model.compile(loss = 'categorical_crossentropy',\n",
        "              optimizer = 'rmsprop',\n",
        "              metrics=['accuracy'])\n",
        "\n",
        "# モデルの学習\n",
        "history2 = model.fit(\n",
        "    x_train,\n",
        "    y_train_ohe,\n",
        "    batch_size = batch_size,\n",
        "    epochs = nb_epoch,\n",
        "    verbose = 1,\n",
        "    validation_data = (x_test, y_test_ohe))"
      ]
    },
    {
      "cell_type": "markdown",
      "metadata": {
        "id": "ZaVavt_iTIFu"
      },
      "source": [
        "### Momentum"
      ]
    },
    {
      "cell_type": "code",
      "execution_count": null,
      "metadata": {
        "id": "0VyKULSbTIFv"
      },
      "outputs": [],
      "source": [
        "# Sequentialモデルの定義\n",
        "model = Sequential()\n",
        "\n",
        "# 隠れ層1の定義\n",
        "model.add(Dense(H, activation='relu', kernel_initializer='he_normal', input_shape=(D,)))\n",
        "\n",
        "# 隠れ層2の定義\n",
        "model.add(Dense(H, activation='relu', kernel_initializer='he_normal'))\n",
        "\n",
        "# 出力層\n",
        "model.add(Dense(num_classes, activation='softmax', kernel_initializer='he_normal'))"
      ]
    },
    {
      "cell_type": "code",
      "execution_count": null,
      "metadata": {
        "scrolled": true,
        "id": "3FJIXcnLTIFv"
      },
      "outputs": [],
      "source": [
        "# モデルのコンパイル\n",
        "from keras import optimizers\n",
        "sgd = optimizers.SGD(momentum=0.9)\n",
        "model.compile(loss = 'categorical_crossentropy',\n",
        "              optimizer = sgd,\n",
        "              metrics=['accuracy'])\n",
        "\n",
        "# モデルの学習\n",
        "history3 = model.fit(\n",
        "    x_train,\n",
        "    y_train_ohe,\n",
        "    batch_size = batch_size,\n",
        "    epochs = nb_epoch,\n",
        "    verbose = 1,\n",
        "    validation_data = (x_test, y_test_ohe))"
      ]
    },
    {
      "cell_type": "markdown",
      "metadata": {
        "id": "k5cKbSLMTIFw"
      },
      "source": [
        "### グラフ表示による比較"
      ]
    },
    {
      "cell_type": "code",
      "execution_count": null,
      "metadata": {
        "id": "bfriHaX8TIFw"
      },
      "outputs": [],
      "source": [
        "#import matplotlib.pyplot as plt\n",
        "\n",
        "# 学習曲線の表示 (損失関数値)\n",
        "plt.figure(figsize=(8,6))\n",
        "plt.plot(history1.history['val_loss'],label='SGD', lw=3, c='k')\n",
        "plt.plot(history2.history['val_loss'],label='rmsprop', lw=3, c='b')\n",
        "plt.plot(history3.history['val_loss'],label='momentum', lw=3, c='k', linestyle='dashed')\n",
        "plt.ylim(0,2)\n",
        "plt.xticks(size=14)\n",
        "plt.yticks(size=14)\n",
        "plt.grid(lw=2)\n",
        "plt.legend(fontsize=14)\n",
        "plt.show()"
      ]
    },
    {
      "cell_type": "code",
      "execution_count": null,
      "metadata": {
        "id": "AJ3kF3OcTIFw"
      },
      "outputs": [],
      "source": [
        "import matplotlib.pyplot as plt\n",
        "\n",
        "# 学習曲線の表示 (精度)\n",
        "plt.figure(figsize=(8,6))\n",
        "plt.plot(history1.history['val_accuracy'],label='SGD', lw=3, c='k')\n",
        "plt.plot(history2.history['val_accuracy'],label='rmsprop', lw=3, c='b')\n",
        "plt.plot(history3.history['val_accuracy'],label='momentum', lw=3, c='k', linestyle='dashed')\n",
        "plt.ylim(0.8,1)\n",
        "plt.xticks(size=14)\n",
        "plt.yticks(size=14)\n",
        "plt.grid(lw=2)\n",
        "plt.legend(fontsize=14)\n",
        "plt.show()"
      ]
    },
    {
      "cell_type": "markdown",
      "metadata": {
        "id": "DdiynR6WTIFw"
      },
      "source": [
        "## 11.6 過学習対策 (正則化)"
      ]
    },
    {
      "cell_type": "code",
      "execution_count": null,
      "metadata": {
        "id": "QDAatRQoTIFw"
      },
      "outputs": [],
      "source": [
        "# 正解データのデータ数\n",
        "div = 8\n",
        "\n",
        "# 近似多項式の次元\n",
        "dim = 8\n",
        "\n",
        "# y = -x*4 + x**3 -3x**2 + 8x -7\n",
        "p = [-1, 1, -3, 8, -7]\n",
        "\n",
        "# xの定義域 [-2, 1]\n",
        "xMin = -2\n",
        "xMax = 1"
      ]
    },
    {
      "cell_type": "markdown",
      "metadata": {
        "id": "eBNHTGgeTIFx"
      },
      "source": [
        "$ f(x) = -x^4 + x^3 -3x^2 + 8x -7 + N(0,5) $"
      ]
    },
    {
      "cell_type": "code",
      "execution_count": null,
      "metadata": {
        "id": "7AhtApglTIFx"
      },
      "outputs": [],
      "source": [
        "# x : xMin と xManの間をdiv個に分割したベクトル\n",
        "x = np.linspace(xMin, xMax, num=div)\n",
        "\n",
        "# xx : xを10倍細かい間隔で分割したベクトル\n",
        "xx = np.linspace(xMin, xMax, num=div*10)\n",
        "\n",
        "# y, yy: x, xxそれぞれのベクトルに対して多項式の値を計算したベクトル\n",
        "y = np.polyval(p, x)\n",
        "yy = np.polyval(p, xx)\n",
        "\n",
        "# z: yに正規分布のノイズを加える。これを正解データとする\n",
        "z = y + 5 * np.random.randn(div)"
      ]
    },
    {
      "cell_type": "code",
      "execution_count": null,
      "metadata": {
        "id": "Hxnqflb-TIFx"
      },
      "outputs": [],
      "source": [
        "# ベクトル表示用関数\n",
        "def print_fix(x):\n",
        "    [print('{:.3f}'.format(n)) for n in x]\n",
        "\n",
        "# モデルを引数として、多項式の係数を表示する関数\n",
        "def print_fix_model(m):\n",
        "    w = m.coef_.tolist()\n",
        "    w[0] = m.intercept_\n",
        "    print_fix(w)"
      ]
    },
    {
      "cell_type": "code",
      "execution_count": null,
      "metadata": {
        "id": "fredMbSpTIFx"
      },
      "outputs": [],
      "source": [
        "# 多項式行列を作成し、モデルの入力変数とする\n",
        "\n",
        "# x**nのベクトル計算用関数\n",
        "def f(x) :\n",
        "    return [x**i for i in range(dim)]\n",
        "\n",
        "# X : xベクトルから多項式二次元配列を作ったもの\n",
        "X = [f(x0) for x0 in x]\n",
        "\n",
        "# XX : xxベクトル多項式二次元配列を作ったもの\n",
        "XX = [f(x0) for x0 in xx]"
      ]
    },
    {
      "cell_type": "code",
      "execution_count": null,
      "metadata": {
        "id": "dNSxke5eTIFx"
      },
      "outputs": [],
      "source": [
        "# 線形モデルライブラリのロード\n",
        "from sklearn.linear_model import LinearRegression\n",
        "\n",
        "# モデルの初期化、学習\n",
        "model = LinearRegression().fit(X, z)\n",
        "\n",
        "# 予測値の取得\n",
        "yy_pred = model.predict(XX)"
      ]
    },
    {
      "cell_type": "code",
      "execution_count": null,
      "metadata": {
        "id": "EFW4QNf1TIFx"
      },
      "outputs": [],
      "source": [
        "# Ridgeモデルラブラリのロード\n",
        "from sklearn.linear_model import Ridge\n",
        "\n",
        "# モデルの生成、学習\n",
        "#model2 = Ridge(alpha=5).fit(X, z)\n",
        "model2 = Ridge(alpha=0.5).fit(X, z)"
      ]
    },
    {
      "cell_type": "code",
      "execution_count": null,
      "metadata": {
        "id": "HOmzpfRATIFy"
      },
      "outputs": [],
      "source": [
        "# 予測値の取得\n",
        "yy_pred2 = model2.predict(XX)"
      ]
    },
    {
      "cell_type": "code",
      "execution_count": null,
      "metadata": {
        "id": "TvlyOa8HTIFy"
      },
      "outputs": [],
      "source": [
        "# グラフ表示\n",
        "plt.figure(figsize=(8,6))\n",
        "plt.plot(xx, yy, label='polynomial', lw=1, c='k')\n",
        "plt.scatter(x, z, label='observed', s=50, c='k')\n",
        "plt.plot(xx, yy_pred, label='linear regression', lw=3, c='k')\n",
        "plt.plot(xx, yy_pred2, label='L2 regularizer', lw=3, c='b')\n",
        "plt.xlabel('X')\n",
        "plt.ylabel('Y')\n",
        "plt.xticks(size=14)\n",
        "plt.yticks(size=14)\n",
        "plt.grid(lw=2)\n",
        "plt.legend(fontsize=14)\n",
        "plt.show()"
      ]
    },
    {
      "cell_type": "code",
      "source": [],
      "metadata": {
        "id": "WeF8ONcYTdBM"
      },
      "execution_count": null,
      "outputs": []
    }
  ],
  "metadata": {
    "kernelspec": {
      "display_name": "Python 3 (ipykernel)",
      "language": "python",
      "name": "python3"
    },
    "language_info": {
      "codemirror_mode": {
        "name": "ipython",
        "version": 3
      },
      "file_extension": ".py",
      "mimetype": "text/x-python",
      "name": "python",
      "nbconvert_exporter": "python",
      "pygments_lexer": "ipython3",
      "version": "3.9.7"
    },
    "colab": {
      "provenance": [],
      "toc_visible": true
    }
  },
  "nbformat": 4,
  "nbformat_minor": 0
}