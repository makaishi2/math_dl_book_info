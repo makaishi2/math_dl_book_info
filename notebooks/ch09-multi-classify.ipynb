{
  "nbformat": 4,
  "nbformat_minor": 0,
  "metadata": {
    "kernelspec": {
      "display_name": "Python 3",
      "language": "python",
      "name": "python3"
    },
    "language_info": {
      "codemirror_mode": {
        "name": "ipython",
        "version": 3
      },
      "file_extension": ".py",
      "mimetype": "text/x-python",
      "name": "python",
      "nbconvert_exporter": "python",
      "pygments_lexer": "ipython3",
      "version": "3.6.7"
    },
    "colab": {
      "provenance": [],
      "toc_visible": true
    }
  },
  "cells": [
    {
      "cell_type": "markdown",
      "metadata": {
        "collapsed": true,
        "id": "z9YRzBx3XlxE"
      },
      "source": [
        "# 9章　多値分類"
      ]
    },
    {
      "cell_type": "code",
      "metadata": {
        "id": "jklJPHT8XlxM"
      },
      "source": [
        "%matplotlib inline\n",
        "\n",
        "# 日本語化ライブラリ導入\n",
        "!pip install japanize-matplotlib"
      ],
      "execution_count": null,
      "outputs": []
    },
    {
      "cell_type": "code",
      "metadata": {
        "id": "UFF8sgwUXlxN"
      },
      "source": [
        "# 必要ライブラリの宣言\n",
        "import numpy as np\n",
        "import pandas as pd\n",
        "import matplotlib.pyplot as plt\n",
        "\n",
        "#  Numpy変数print時の小数点表示を2桁に設定\n",
        "np.set_printoptions(\n",
        "    suppress=True, precision=2, floatmode='fixed'\n",
        ")\n",
        "\n",
        "# matplotlib日本語化対応\n",
        "import japanize_matplotlib"
      ],
      "execution_count": null,
      "outputs": []
    },
    {
      "cell_type": "markdown",
      "metadata": {
        "id": "UEWSofZMXlxN"
      },
      "source": [
        "### データ読み込み"
      ]
    },
    {
      "cell_type": "code",
      "metadata": {
        "id": "di-gkOdyXlxN"
      },
      "source": [
        "# 学習用データ準備\n",
        "from sklearn.datasets import load_iris\n",
        "iris = load_iris()\n",
        "x_org, y_org = iris.data, iris.target\n",
        "\n",
        "# 入力データに関しては、sepal length(0)とpetal length(2)のみ抽出\n",
        "x_select = x_org[:,[0,2]]\n",
        "print('元データ', x_select.shape, y_org.shape)"
      ],
      "execution_count": null,
      "outputs": []
    },
    {
      "cell_type": "markdown",
      "metadata": {
        "id": "Cgx2_fUUXlxO"
      },
      "source": [
        "### 学習データの散布図表示"
      ]
    },
    {
      "cell_type": "code",
      "metadata": {
        "id": "R7SWh_qCXlxO"
      },
      "source": [
        "# 散布図の表示\n",
        "x_t0 = x_select[y_org == 0]\n",
        "x_t1 = x_select[y_org == 1]\n",
        "x_t2 = x_select[y_org == 2]\n",
        "plt.figure(figsize=(6,6))\n",
        "plt.scatter(x_t0[:,0], x_t0[:,1], marker='x', c='k', s=50, label='0 (setosa)')\n",
        "plt.scatter(x_t1[:,0], x_t1[:,1], marker='o', c='b', s=50, label='1 (versicolour)')\n",
        "plt.scatter(x_t2[:,0], x_t2[:,1], marker='+', c='k', s=50, label='2 (virginica)')\n",
        "plt.xlabel('sepal_length', fontsize=14)\n",
        "plt.ylabel('petal_length', fontsize=14)\n",
        "plt.xticks(size=14)\n",
        "plt.yticks(size=14)\n",
        "plt.legend(fontsize=14)\n",
        "plt.show()"
      ],
      "execution_count": null,
      "outputs": []
    },
    {
      "cell_type": "markdown",
      "metadata": {
        "id": "62M0lLZGXlxP"
      },
      "source": [
        "### データ前処理"
      ]
    },
    {
      "cell_type": "code",
      "metadata": {
        "id": "UNnflOuLXlxP"
      },
      "source": [
        "# ダミー変数を追加\n",
        "x_all = np.insert(x_select, 0, 1.0, axis=1)"
      ],
      "execution_count": null,
      "outputs": []
    },
    {
      "cell_type": "code",
      "metadata": {
        "id": "DZnl6EviXlxP"
      },
      "source": [
        "# yをOne-hot-Vectorに\n",
        "from sklearn.preprocessing import OneHotEncoder\n",
        "ohe = OneHotEncoder(sparse_output=False,categories='auto')\n",
        "y_work = np.c_[y_org]\n",
        "y_all_one = ohe.fit_transform(y_work)\n",
        "print('オリジナル', y_org.shape)\n",
        "print('２次元化', y_work.shape)\n",
        "print('One Hot Vector化後', y_all_one.shape)"
      ],
      "execution_count": null,
      "outputs": []
    },
    {
      "cell_type": "code",
      "metadata": {
        "id": "jFxWZtv4XlxQ"
      },
      "source": [
        "# 学習データ、検証データに分割\n",
        "from sklearn.model_selection import train_test_split\n",
        "\n",
        "x_train, x_test, y_train, y_test, y_train_one, y_test_one = train_test_split(\n",
        "    x_all, y_org, y_all_one, train_size=75, test_size=75, random_state=123)\n",
        "print(x_train.shape, x_test.shape, y_train.shape, y_test.shape,\n",
        "    y_train_one.shape, y_test_one.shape)"
      ],
      "execution_count": null,
      "outputs": []
    },
    {
      "cell_type": "code",
      "metadata": {
        "scrolled": true,
        "id": "Y1-lwDNIXlxQ"
      },
      "source": [
        "print('入力データ(x)')\n",
        "print(x_train[:5,:])"
      ],
      "execution_count": null,
      "outputs": []
    },
    {
      "cell_type": "code",
      "metadata": {
        "id": "bMOrYsNFXlxQ"
      },
      "source": [
        "print('正解データ(y)')\n",
        "print(y_train[:5])"
      ],
      "execution_count": null,
      "outputs": []
    },
    {
      "cell_type": "code",
      "metadata": {
        "id": "JcMEZWCzXlxQ"
      },
      "source": [
        "print('正解データ (One Hot Vector化後)')\n",
        "print(y_train_one[:5,:])"
      ],
      "execution_count": null,
      "outputs": []
    },
    {
      "cell_type": "markdown",
      "metadata": {
        "id": "jh1lkcVzXlxR"
      },
      "source": [
        "### 学習用変数の設定"
      ]
    },
    {
      "cell_type": "code",
      "metadata": {
        "id": "_bXIpC79XlxR"
      },
      "source": [
        "# 学習対象の選択\n",
        "x, yt  = x_train, y_train_one"
      ],
      "execution_count": null,
      "outputs": []
    },
    {
      "cell_type": "markdown",
      "metadata": {
        "id": "_QDwnqxDXlxR"
      },
      "source": [
        "### 予測関数"
      ]
    },
    {
      "cell_type": "code",
      "metadata": {
        "id": "ETsZr8TFXlxR"
      },
      "source": [
        "# softmax関数 (9.7.3)\n",
        "def softmax(x):\n",
        "    x = x.T\n",
        "    x_max = x.max(axis=0)\n",
        "    x = x - x_max\n",
        "    w = np.exp(x)\n",
        "    return (w / w.sum(axis=0)).T"
      ],
      "execution_count": null,
      "outputs": []
    },
    {
      "cell_type": "code",
      "metadata": {
        "id": "uzY1FDAHXlxS"
      },
      "source": [
        "# 予測値の計算 (9.7.1, 9.7.2)\n",
        "def pred(x, W):\n",
        "    return softmax(x @ W)"
      ],
      "execution_count": null,
      "outputs": []
    },
    {
      "cell_type": "markdown",
      "metadata": {
        "id": "TSFkCpUBXlxS"
      },
      "source": [
        "### 評価"
      ]
    },
    {
      "cell_type": "code",
      "metadata": {
        "id": "dZLDhV3AXlxS"
      },
      "source": [
        "# 交差エントロピー関数)(9.5.1)\n",
        "def cross_entropy(yt, yp):\n",
        "    return -np.mean(np.sum(yt * np.log(yp), axis=1))"
      ],
      "execution_count": null,
      "outputs": []
    },
    {
      "cell_type": "code",
      "metadata": {
        "id": "n1lQvEG4XlxS"
      },
      "source": [
        "# モデルの評価を行う関数\n",
        "from sklearn.metrics import accuracy_score\n",
        "\n",
        "def evaluate(x_test, y_test, y_test_one, W):\n",
        "\n",
        "    # 予測値の計算(確率値)\n",
        "    yp_test_one = pred(x_test, W)\n",
        "\n",
        "    # 確率値から予測クラス(0, 1, 2)を導出\n",
        "    yp_test = np.argmax(yp_test_one, axis=1)\n",
        "\n",
        "    # 損失関数値の計算\n",
        "    loss = cross_entropy(y_test_one, yp_test_one)\n",
        "\n",
        "    # 精度の算出\n",
        "    score = accuracy_score(y_test, yp_test)\n",
        "    return loss, score"
      ],
      "execution_count": null,
      "outputs": []
    },
    {
      "cell_type": "markdown",
      "metadata": {
        "id": "I_ffOcGtXlxS"
      },
      "source": [
        "### 初期化処理"
      ]
    },
    {
      "cell_type": "code",
      "metadata": {
        "id": "2KUIOsiVXlxT"
      },
      "source": [
        "# 初期化処理\n",
        "\n",
        "# 標本数\n",
        "M  = x.shape[0]\n",
        "# 入力次元数(ダミー変数を含む\n",
        "D = x.shape[1]\n",
        "# 分類先クラス数\n",
        "N = yt.shape[1]\n",
        "\n",
        "# 繰り返し回数\n",
        "iters = 10000\n",
        "\n",
        "# 学習率\n",
        "alpha = 0.01\n",
        "\n",
        "# 重み行列の初期設定(すべて1)\n",
        "W = np.ones((D, N))\n",
        "\n",
        "# 評価結果記録用\n",
        "history = np.zeros((0, 3))"
      ],
      "execution_count": null,
      "outputs": []
    },
    {
      "cell_type": "markdown",
      "metadata": {
        "id": "ktMzpuoAXlxT"
      },
      "source": [
        "### メイン処理"
      ]
    },
    {
      "cell_type": "code",
      "metadata": {
        "scrolled": true,
        "id": "TQE8ABU7XlxT"
      },
      "source": [
        "#  メイン処理\n",
        "for k in range(iters):\n",
        "\n",
        "    # 予測値の計算 (9.7.1)　(9.7.2)\n",
        "    yp = pred(x, W)\n",
        "\n",
        "    # 誤差の計算 (9.7.4)\n",
        "    yd = yp - yt\n",
        "\n",
        "    # 重みの更新 (9.7.5)\n",
        "    W = W - alpha * (x.T @ yd) / M\n",
        "\n",
        "    if (k % 10 == 0):\n",
        "        loss, score = evaluate(x_test, y_test, y_test_one, W)\n",
        "        history = np.vstack((history,\n",
        "            np.array([k, loss, score])))\n",
        "        print(\"epoch = %d loss = %f score = %f\"\n",
        "            % (k, loss, score))"
      ],
      "execution_count": null,
      "outputs": []
    },
    {
      "cell_type": "markdown",
      "metadata": {
        "id": "J9oIwwg8XlxT"
      },
      "source": [
        "### 結果確認"
      ]
    },
    {
      "cell_type": "code",
      "metadata": {
        "id": "NA4BEyWCXlxU"
      },
      "source": [
        "#損失関数値と精度の確認\n",
        "print('初期状態: 損失関数:%f 精度:%f'\n",
        "    % (history[0,1], history[0,2]))\n",
        "print('最終状態: 損失関数:%f 精度:%f'\n",
        "    % (history[-1,1], history[-1,2]))"
      ],
      "execution_count": null,
      "outputs": []
    },
    {
      "cell_type": "code",
      "metadata": {
        "id": "yPKmEaNOXlxU"
      },
      "source": [
        "# 学習曲線の表示 (損失関数)\n",
        "plt.plot(history[:,0], history[:,1])\n",
        "plt.grid()\n",
        "plt.ylim(0,1.2)\n",
        "plt.xlabel('iter', fontsize=14)\n",
        "plt.ylabel('loss', fontsize=14)\n",
        "plt.title('iter vs loss', fontsize=14)\n",
        "plt.show()"
      ],
      "execution_count": null,
      "outputs": []
    },
    {
      "cell_type": "code",
      "metadata": {
        "id": "jdXJN5gCXlxU"
      },
      "source": [
        "# 学習曲線の表示 (精度)\n",
        "plt.plot(history[:,0], history[:,2])\n",
        "plt.ylim(0,1)\n",
        "plt.grid()\n",
        "plt.xlabel('iter', fontsize=14)\n",
        "plt.ylabel('accuracy', fontsize=14)\n",
        "plt.title('iter vs accuracy', fontsize=14)\n",
        "plt.show()"
      ],
      "execution_count": null,
      "outputs": []
    },
    {
      "cell_type": "code",
      "metadata": {
        "id": "chH4gf1oXlxU"
      },
      "source": [
        "# 3次元表示\n",
        "from mpl_toolkits.mplot3d import Axes3D\n",
        "x1 = np.linspace(4, 8.5, 100)\n",
        "x2 = np.linspace(0.5, 7.5, 100)\n",
        "xx1, xx2 = np.meshgrid(x1, x2)\n",
        "xxx = np.array([np.ones(xx1.ravel().shape),\n",
        "    xx1.ravel(), xx2.ravel()]).T\n",
        "pp = pred(xxx, W)\n",
        "c0 = pp[:,0].reshape(xx1.shape)\n",
        "c1 = pp[:,1].reshape(xx1.shape)\n",
        "c2 = pp[:,2].reshape(xx1.shape)\n",
        "plt.figure(figsize=(8,8))\n",
        "ax = plt.subplot(1, 1, 1, projection='3d')\n",
        "ax.plot_surface(xx1, xx2, c0, color='lightblue',\n",
        "    edgecolor='black', rstride=10, cstride=10, alpha=0.7)\n",
        "ax.plot_surface(xx1, xx2, c1, color='blue',\n",
        "    edgecolor='black', rstride=10, cstride=10, alpha=0.7)\n",
        "ax.plot_surface(xx1, xx2, c2, color='lightgrey',\n",
        "    edgecolor='black', rstride=10, cstride=10, alpha=0.7)\n",
        "ax.scatter(x_t0[:,0], x_t0[:,1], 1, s=50, alpha=1, marker='+', c='k')\n",
        "ax.scatter(x_t1[:,0], x_t1[:,1], 1, s=30, alpha=1, marker='o', c='k')\n",
        "ax.scatter(x_t2[:,0], x_t2[:,1], 1, s=50, alpha=1, marker='x', c='k')\n",
        "ax.set_xlim(4,8.5)\n",
        "ax.set_ylim(0.5,7.5)\n",
        "ax.view_init(elev=40, azim=70)"
      ],
      "execution_count": null,
      "outputs": []
    },
    {
      "cell_type": "code",
      "metadata": {
        "id": "dHPNORc3XlxV"
      },
      "source": [
        "# 評価\n",
        "from sklearn.metrics import accuracy_score\n",
        "from sklearn.metrics import confusion_matrix\n",
        "from sklearn.metrics import classification_report\n",
        "\n",
        "# テストデータで予測値の計算\n",
        "yp_test_one = pred(x_test, W)\n",
        "yp_test = np.argmax(yp_test_one, axis=1)\n",
        "\n",
        "#  精度の計算\n",
        "from sklearn.metrics import accuracy_score\n",
        "score = accuracy_score(y_test, yp_test)\n",
        "print('accuracy: %f' % score)\n",
        "\n",
        "# 混同行列の表示\n",
        "from sklearn.metrics import confusion_matrix\n",
        "print(confusion_matrix(y_test, yp_test))\n",
        "print(classification_report(y_test, yp_test))"
      ],
      "execution_count": null,
      "outputs": []
    },
    {
      "cell_type": "markdown",
      "metadata": {
        "id": "XHWsDGhiXlxV"
      },
      "source": [
        "# 入力変数を4次元に変更"
      ]
    },
    {
      "cell_type": "code",
      "metadata": {
        "id": "nHrgbhqgXlxW"
      },
      "source": [
        "# ダミー変数を追加\n",
        "x_all2 = np.insert(x_org, 0, 1.0, axis=1)"
      ],
      "execution_count": null,
      "outputs": []
    },
    {
      "cell_type": "code",
      "metadata": {
        "id": "4nkbHNGxXlxW"
      },
      "source": [
        "# 学習データ、検証データに分割\n",
        "from sklearn.model_selection import train_test_split\n",
        "\n",
        "x_train2, x_test2, y_train, y_test,\\\n",
        "y_train_one, y_test_one = train_test_split(\n",
        "    x_all2, y_org, y_all_one, train_size=75,\n",
        "    test_size=75, random_state=123)\n",
        "print(x_train2.shape, x_test2.shape,\n",
        "    y_train.shape, y_test.shape,\n",
        "    y_train_one.shape, y_test_one.shape)"
      ],
      "execution_count": null,
      "outputs": []
    },
    {
      "cell_type": "code",
      "metadata": {
        "id": "IB1AKt1VXlxW"
      },
      "source": [
        "print('入力データ(x)')\n",
        "print(x_train2[:5,:])"
      ],
      "execution_count": null,
      "outputs": []
    },
    {
      "cell_type": "code",
      "metadata": {
        "id": "4u10E8QgXlxW"
      },
      "source": [
        "# 学習対象の選択\n",
        "x, yt, x_test  = x_train2, y_train_one, x_test2"
      ],
      "execution_count": null,
      "outputs": []
    },
    {
      "cell_type": "code",
      "metadata": {
        "id": "gK2a_rfQXlxW"
      },
      "source": [
        "# 初期化処理\n",
        "\n",
        "# 標本数\n",
        "M  = x.shape[0]\n",
        "# 入力次元数(ダミー変数を含む\n",
        "D = x.shape[1]\n",
        "# 分類先クラス数\n",
        "N = yt.shape[1]\n",
        "\n",
        "# 繰り返し回数\n",
        "iters = 10000\n",
        "\n",
        "# 学習率\n",
        "alpha = 0.01\n",
        "\n",
        "# 重み行列の初期設定(すべて1)\n",
        "W = np.ones((D, N))\n",
        "\n",
        "# 評価結果記録用\n",
        "history = np.zeros((0, 3))"
      ],
      "execution_count": null,
      "outputs": []
    },
    {
      "cell_type": "code",
      "metadata": {
        "scrolled": true,
        "id": "9sM_OgoWXlxW"
      },
      "source": [
        "#  メイン処理(４次元版)\n",
        "for k in range(iters):\n",
        "\n",
        "    # 予測値の計算 (9.7.1)　(9.7.2)\n",
        "    yp = pred(x, W)\n",
        "\n",
        "    # 誤差の計算 (9.7.4)\n",
        "    yd = yp - yt\n",
        "\n",
        "    # 重みの更新 (9.7.5)\n",
        "    W = W - alpha * (x.T @ yd) / M\n",
        "\n",
        "    if (k % 10 == 0):\n",
        "        loss, score = evaluate(x_test, y_test, y_test_one, W)\n",
        "        history = np.vstack((history, np.array([k, loss, score])))\n",
        "        print(\"epoch = %d loss = %f score = %f\" % (k, loss, score))"
      ],
      "execution_count": null,
      "outputs": []
    },
    {
      "cell_type": "code",
      "metadata": {
        "id": "CSlmcXaFXlxX"
      },
      "source": [
        "print(history.shape)"
      ],
      "execution_count": null,
      "outputs": []
    },
    {
      "cell_type": "code",
      "metadata": {
        "id": "N8NiJYCfXlxX"
      },
      "source": [
        "#損失関数値と精度の確認\n",
        "print('初期状態: 損失関数:%f 精度:%f'\n",
        "    % (history[0,1], history[0,2]))\n",
        "print('最終状態: 損失関数:%f 精度:%f'\n",
        "    % (history[-1,1], history[-1,2]))"
      ],
      "execution_count": null,
      "outputs": []
    },
    {
      "cell_type": "code",
      "metadata": {
        "id": "TiCMeNTeXlxX"
      },
      "source": [
        "# 学習曲線の表示 (損失関数)\n",
        "plt.plot(history[:,0], history[:,1])\n",
        "plt.ylim(0,1.2)\n",
        "plt.grid()\n",
        "plt.xlabel('iter', fontsize=14)\n",
        "plt.ylabel('loss', fontsize=14)\n",
        "plt.title('iter vs loss', fontsize=14)\n",
        "plt.show()"
      ],
      "execution_count": null,
      "outputs": []
    },
    {
      "cell_type": "code",
      "metadata": {
        "id": "zVPRk8yRXlxX"
      },
      "source": [
        "# 学習曲線の表示 (精度)\n",
        "plt.plot(history[:,0], history[:,2])\n",
        "plt.ylim(0,1)\n",
        "plt.grid()\n",
        "plt.xlabel('iter', fontsize=14)\n",
        "plt.ylabel('accuracy', fontsize=14)\n",
        "plt.title('iter vs accuracy', fontsize=14)\n",
        "plt.show()"
      ],
      "execution_count": null,
      "outputs": []
    }
  ]
}