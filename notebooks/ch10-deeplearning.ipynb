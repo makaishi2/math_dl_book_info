{
  "cells": [
    {
      "cell_type": "markdown",
      "metadata": {
        "id": "KhOO9TAUJo54"
      },
      "source": [
        "# 10章 深層学習による数字認識モデル\n",
        "2020-06-17 学習データ読み込み方式変更版  \n",
        "2021-06-27 scikit-learn 0.24.x対応  \n",
        "2022-10-08 matplotlib 3.5.1対応  \n",
        "2023-07-24 plt.subplot(2, int(N/2), i + 1)修正漏れに対応"
      ]
    },
    {
      "cell_type": "code",
      "execution_count": null,
      "metadata": {
        "id": "JKHFupFkJo56"
      },
      "outputs": [],
      "source": [
        "# 必要ライブラリの宣言\n",
        "import numpy as np\n",
        "import matplotlib.pyplot as plt\n",
        "import warnings\n",
        "warnings.filterwarnings('ignore')"
      ]
    },
    {
      "cell_type": "markdown",
      "metadata": {
        "id": "rR45JlQZJo58"
      },
      "source": [
        "## 10.7 実装その1"
      ]
    },
    {
      "cell_type": "markdown",
      "metadata": {
        "id": "6kViA28uJo58"
      },
      "source": [
        "### データ読み込み"
      ]
    },
    {
      "cell_type": "code",
      "execution_count": null,
      "metadata": {
        "id": "pOmQpj_8Jo59"
      },
      "outputs": [],
      "source": [
        "# データ読み込み\n",
        "# 注意: 大量の学習データをインターネットからダウンロードするので、処理に数分かかります\n",
        "# 2020-06-17 従来の方式で読み込みできなくなったので、新しい方式に切り替えました。\n",
        "\n",
        "from sklearn.datasets import fetch_openml\n",
        "mnist = fetch_openml('mnist_784', version=1,)"
      ]
    },
    {
      "cell_type": "code",
      "execution_count": null,
      "metadata": {
        "id": "h4_R28p9Jo59"
      },
      "outputs": [],
      "source": [
        "# 新しい方式ではmnist.targetが文字列のため、コードを修正しています。\n",
        "x_org, y_org = mnist.data, mnist.target.astype(np.int)\n",
        "\n",
        "# 2021-06-27 sklearn 0.24.x対応\n",
        "import pandas as pd\n",
        "if type(x_org) == pd.core.frame.DataFrame:\n",
        "    x_org = x_org.values\n",
        "    y_org = y_org.values"
      ]
    },
    {
      "cell_type": "markdown",
      "metadata": {
        "id": "SbecWPdJJo5-"
      },
      "source": [
        "### 入力データ加工"
      ]
    },
    {
      "cell_type": "code",
      "execution_count": null,
      "metadata": {
        "id": "xzfIpEwgJo5-"
      },
      "outputs": [],
      "source": [
        "# 入力データの加工\n",
        "\n",
        "# step1 データ正規化 値の範囲を[0, 1]とする\n",
        "x_norm = x_org / 255.0\n",
        "\n",
        "# 先頭にダミー変数(1)を追加\n",
        "x_all = np.insert(x_norm, 0, 1, axis=1)\n",
        "\n",
        "print('ダミー変数追加後', x_all.shape)"
      ]
    },
    {
      "cell_type": "code",
      "execution_count": null,
      "metadata": {
        "id": "XwboEV67Jo5_"
      },
      "outputs": [],
      "source": [
        "# step 2 yをOne-hot-Vectorに\n",
        "\n",
        "from sklearn.preprocessing import OneHotEncoder\n",
        "ohe = OneHotEncoder(sparse=False)\n",
        "y_all_one = ohe.fit_transform(np.c_[y_org])\n",
        "print('One Hot Vector化後', y_all_one.shape)"
      ]
    },
    {
      "cell_type": "code",
      "execution_count": null,
      "metadata": {
        "id": "OPFh77CAJo6A"
      },
      "outputs": [],
      "source": [
        "# step 3 学習データ、検証データに分割\n",
        "\n",
        "from sklearn.model_selection import train_test_split\n",
        "x_train, x_test, y_train, y_test, y_train_one, y_test_one = train_test_split(\n",
        "    x_all, y_org, y_all_one, train_size=60000, test_size=10000, shuffle=False)\n",
        "print(x_train.shape, x_test.shape, y_train.shape, y_test.shape,\n",
        "    y_train_one.shape, y_test_one.shape)"
      ]
    },
    {
      "cell_type": "code",
      "execution_count": null,
      "metadata": {
        "id": "nuDE_VEbJo6B"
      },
      "outputs": [],
      "source": [
        "# データ内容の確認\n",
        "# 2020-06-17\n",
        "# 読み込み元データが変更になったため、図10-2、図10-9と画像が変わっています。\n",
        "\n",
        "N = 20\n",
        "np.random.seed(12)\n",
        "indexes = np.random.choice(y_test.shape[0], N, replace=False)\n",
        "x_selected = x_test[indexes,1:]\n",
        "y_selected = y_test[indexes]\n",
        "plt.figure(figsize=(10, 3))\n",
        "for i in range(N):\n",
        "    ax = plt.subplot(2, int(N/2), i + 1)\n",
        "    plt.imshow(x_selected[i].reshape(28, 28),cmap='gray_r')\n",
        "    ax.set_title('%d' %y_selected[i], fontsize=16)\n",
        "    ax.get_xaxis().set_visible(False)\n",
        "    ax.get_yaxis().set_visible(False)\n",
        "plt.show()"
      ]
    },
    {
      "cell_type": "markdown",
      "metadata": {
        "id": "efz9_GbKJo6B"
      },
      "source": [
        "### 予測関数"
      ]
    },
    {
      "cell_type": "code",
      "execution_count": null,
      "metadata": {
        "id": "nOaFmNs4Jo6B"
      },
      "outputs": [],
      "source": [
        "# シグモイド関数\n",
        "def sigmoid(x):\n",
        "    return 1/(1+ np.exp(-x))"
      ]
    },
    {
      "cell_type": "code",
      "execution_count": null,
      "metadata": {
        "id": "X3CDIQreJo6C"
      },
      "outputs": [],
      "source": [
        "# softmax関数\n",
        "def softmax(x):\n",
        "    x = x.T\n",
        "    x_max = x.max(axis=0)\n",
        "    x = x - x_max\n",
        "    w = np.exp(x)\n",
        "    return (w / w.sum(axis=0)).T"
      ]
    },
    {
      "cell_type": "markdown",
      "metadata": {
        "id": "4vsxgTzFJo6C"
      },
      "source": [
        "### 評価関数"
      ]
    },
    {
      "cell_type": "code",
      "execution_count": null,
      "metadata": {
        "id": "-5Y9UE0TJo6C"
      },
      "outputs": [],
      "source": [
        "# 交差エントロピー関数\n",
        "def cross_entropy(yt, yp):\n",
        "    return -np.mean(np.sum(yt * np.log(yp), axis=1))"
      ]
    },
    {
      "cell_type": "code",
      "execution_count": null,
      "metadata": {
        "id": "dnNgr4vRJo6D"
      },
      "outputs": [],
      "source": [
        "# 評価処理 (戻り値は精度と損失関数)\n",
        "from sklearn.metrics import accuracy_score\n",
        "\n",
        "def evaluate(x_test, y_test, y_test_one, V, W):\n",
        "    b1_test = np.insert(sigmoid(x_test @ V), 0, 1, axis=1)\n",
        "    yp_test_one = softmax(b1_test @ W)\n",
        "    yp_test = np.argmax(yp_test_one, axis=1)\n",
        "    loss = cross_entropy(y_test_one, yp_test_one)\n",
        "    score = accuracy_score(y_test, yp_test)\n",
        "    return score, loss"
      ]
    },
    {
      "cell_type": "markdown",
      "metadata": {
        "id": "yOl1Udr-Jo6D"
      },
      "source": [
        "### ミニバッチ処理"
      ]
    },
    {
      "cell_type": "code",
      "execution_count": null,
      "metadata": {
        "id": "ZAryuD39Jo6D"
      },
      "outputs": [],
      "source": [
        "# ミニバッチ用index取得関数\n",
        "import numpy as np\n",
        "\n",
        "class Indexes():\n",
        "\n",
        "    # コンストラクタ\n",
        "    def __init__(self, total, size):\n",
        "        # 配列全体の大きさ\n",
        "        self.total   = total\n",
        "        # batchサイズ\n",
        "        self.size    = size\n",
        "        #　作業用indexes 初期値はNULLにしておく\n",
        "        self.indexes = np.zeros(0)\n",
        "\n",
        "    # index取得関数\n",
        "    def next_index(self):\n",
        "        next_flag = False\n",
        "\n",
        "    # bacthサイズより作業用Indexesが小さい場合はindexes再生成\n",
        "        if len(self.indexes) < self.size:\n",
        "            self.indexes = np.random.choice(self.total,\n",
        "                self.total, replace=False)\n",
        "            next_flag = True\n",
        "\n",
        "        # 戻り用index取得と作業用indexes更新\n",
        "        index = self.indexes[:self.size]\n",
        "        self.indexes = self.indexes[self.size:]\n",
        "        return index, next_flag"
      ]
    },
    {
      "cell_type": "code",
      "execution_count": null,
      "metadata": {
        "id": "J_1Gpd0XJo6N"
      },
      "outputs": [],
      "source": [
        "# Indexesクラスのテスト\n",
        "\n",
        "# クラス初期化\n",
        "# 20: 全体の配列の大きさ\n",
        "# 5: 一回に取得するindexの数\n",
        "indexes = Indexes(20, 5)\n",
        "\n",
        "for i in range(6):\n",
        "    # next_index関数呼び出し\n",
        "    # 戻り値1:  indexのnumpy配列\n",
        "    # 戻り値2: 作業用Indexの更新があったかどうか\n",
        "    arr, flag = indexes.next_index()\n",
        "    print(arr, flag)"
      ]
    },
    {
      "cell_type": "markdown",
      "metadata": {
        "id": "XywYuFQeJo6O"
      },
      "source": [
        "### 初期化処理 その1"
      ]
    },
    {
      "cell_type": "code",
      "execution_count": null,
      "metadata": {
        "id": "raO_cUdLJo6O"
      },
      "outputs": [],
      "source": [
        "# 変数初期宣言 初期バージョン\n",
        "\n",
        "# 隠れ層のノード数\n",
        "H = 128\n",
        "H1 = H + 1\n",
        "# M: 訓練用系列データ総数\n",
        "M  = x_train.shape[0]\n",
        "# D: 入力データ次元数\n",
        "D = x_train.shape[1]\n",
        "# N: 分類クラス数\n",
        "N = y_train_one.shape[1]\n",
        "\n",
        "# 繰り返し回数\n",
        "nb_epoch = 100\n",
        "# ミニバッチサイズ\n",
        "batch_size = 512\n",
        "B = batch_size\n",
        "# 学習率\n",
        "alpha = 0.01\n",
        "\n",
        "# 重み行列の初期設定(すべて1)\n",
        "V = np.ones((D, H))\n",
        "W = np.ones((H1, N))\n",
        "\n",
        "# 評価結果記録用 (損失関数値と精度)\n",
        "history1 = np.zeros((0, 3))\n",
        "\n",
        "# ミニバッチ用関数初期化\n",
        "indexes = Indexes(M, batch_size)\n",
        "\n",
        "# 繰り返し回数カウンタ初期化\n",
        "epoch = 0"
      ]
    },
    {
      "cell_type": "markdown",
      "metadata": {
        "id": "nf6df52rJo6O"
      },
      "source": [
        "### メイン処理"
      ]
    },
    {
      "cell_type": "code",
      "execution_count": null,
      "metadata": {
        "id": "IoBJbxtSJo6O"
      },
      "outputs": [],
      "source": [
        "# メイン処理\n",
        "while epoch < nb_epoch:\n",
        "\n",
        "    # 学習対象の選択(ミニバッチ学習法)\n",
        "    index, next_flag = indexes.next_index()\n",
        "    x, yt = x_train[index], y_train_one[index]\n",
        "\n",
        "    # 予測値計算 (順伝播)\n",
        "    a = x @ V                         # (10.6.3)\n",
        "    b = sigmoid(a)                    # (10.6.4)\n",
        "    b1 = np.insert(b, 0, 1, axis=1)   # ダミー変数の追加\n",
        "    u = b1 @ W                        # (10.6.5)\n",
        "    yp = softmax(u)                   # (10.6.6)\n",
        "\n",
        "    # 誤差計算\n",
        "    yd = yp - yt                      # (10.6.7)\n",
        "    bd = b * (1-b) * (yd @ W[1:].T)   # (10.6.8)\n",
        "\n",
        "    # 勾配計算\n",
        "    W = W - alpha * (b1.T @ yd) / B   # (10.6.9)\n",
        "    V = V - alpha * (x.T @ bd) / B    # (10.6.10)\n",
        "\n",
        "    # ログ記録用\n",
        "    if next_flag: # 1 epoch 終了後の処理\n",
        "        score, loss = evaluate(\n",
        "            x_test, y_test, y_test_one, V, W)\n",
        "        history1 = np.vstack((history1,\n",
        "            np.array([epoch, loss, score])))\n",
        "        print(\"epoch = %d loss = %f score = %f\"\n",
        "            % (epoch, loss, score))\n",
        "        epoch = epoch + 1"
      ]
    },
    {
      "cell_type": "markdown",
      "metadata": {
        "id": "7yS2PzruJo6P"
      },
      "source": [
        "### 結果確認　その1"
      ]
    },
    {
      "cell_type": "code",
      "execution_count": null,
      "metadata": {
        "id": "MHEzC__JJo6P"
      },
      "outputs": [],
      "source": [
        "#損失関数値と精度の確認\n",
        "print('初期状態: 損失関数:%f 精度:%f'\n",
        "        % (history1[0,1], history1[0,2]))\n",
        "print('最終状態: 損失関数:%f 精度:%f'\n",
        "        % (history1[-1,1], history1[-1,2]))"
      ]
    },
    {
      "cell_type": "code",
      "execution_count": null,
      "metadata": {
        "id": "JAy4K5mCJo6P"
      },
      "outputs": [],
      "source": [
        "# 学習曲線の表示 (損失関数値)\n",
        "plt.plot(history1[:,0], history1[:,1])\n",
        "plt.ylim(0,2.5)\n",
        "plt.xticks(size=14)\n",
        "plt.yticks(size=14)\n",
        "plt.grid(lw=2)\n",
        "plt.show()"
      ]
    },
    {
      "cell_type": "code",
      "execution_count": null,
      "metadata": {
        "id": "kRAPw0cRJo6P"
      },
      "outputs": [],
      "source": [
        "# 学習曲線の表示 (精度)\n",
        "plt.plot(history1[:,0], history1[:,2])\n",
        "plt.ylim(0,1)\n",
        "plt.xticks(size=14)\n",
        "plt.yticks(size=14)\n",
        "plt.grid(lw=2)\n",
        "plt.show()"
      ]
    },
    {
      "cell_type": "markdown",
      "metadata": {
        "id": "eKuOjXCLJo6P"
      },
      "source": [
        "## 10.8 パラメータ初期値の設定変更"
      ]
    },
    {
      "cell_type": "markdown",
      "metadata": {
        "id": "kNEJ7s6yJo6P"
      },
      "source": [
        "### 変数初期化　その2"
      ]
    },
    {
      "cell_type": "code",
      "execution_count": null,
      "metadata": {
        "scrolled": false,
        "id": "cqV7ekkgJo6P"
      },
      "outputs": [],
      "source": [
        "# 変数初期宣言 重み行列の初期化方式変更\n",
        "\n",
        "# 隠れ層のノード数\n",
        "H = 128\n",
        "H1 = H + 1\n",
        "\n",
        "# M: 訓練用系列データ総数\n",
        "M  = x_train.shape[0]\n",
        "\n",
        "# D: 入力データ次元数\n",
        "D = x_train.shape[1]\n",
        "\n",
        "# N: 分類クラス数\n",
        "N = y_train_one.shape[1]\n",
        "\n",
        "# 機械学習パラメータ\n",
        "alpha = 0.01\n",
        "nb_epoch = 100\n",
        "batch_size = 512\n",
        "B = batch_size\n",
        "\n",
        "# 重み行列の初期設定(すべて1)\n",
        "V = np.ones((D, H))\n",
        "W = np.ones((H1, N))\n",
        "\n",
        "# 評価結果記録用 (損失関数値と精度)\n",
        "history2 = np.zeros((0, 3))\n",
        "\n",
        "# ミニバッチ用関数初期化\n",
        "indexes = Indexes(M, batch_size)\n",
        "\n",
        "# 繰り返し回数カウンタ初期化\n",
        "epoch = 0"
      ]
    },
    {
      "cell_type": "code",
      "execution_count": null,
      "metadata": {
        "id": "xdQB_vYKJo6Q"
      },
      "outputs": [],
      "source": [
        "# 重み行列の初期設定改訂版\n",
        "np.random.seed(123)\n",
        "V = np.random.randn(D, H) / np.sqrt(D / 2)\n",
        "W = np.random.randn(H1, N) / np.sqrt(H1 / 2)\n",
        "print(V[:2,:5])\n",
        "print(W[:2,:5])"
      ]
    },
    {
      "cell_type": "markdown",
      "metadata": {
        "id": "6TsPijLbJo6Q"
      },
      "source": [
        "### メイン処理"
      ]
    },
    {
      "cell_type": "code",
      "execution_count": null,
      "metadata": {
        "scrolled": false,
        "id": "_FJPqVXbJo6Q"
      },
      "outputs": [],
      "source": [
        "# メイン処理\n",
        "while epoch < nb_epoch:\n",
        "\n",
        "    # 学習対象の選択(ミニバッチ学習法)\n",
        "    index, next_flag = indexes.next_index()\n",
        "    x, yt = x_train[index], y_train_one[index]\n",
        "\n",
        "    # 予測値計算 (順伝播)\n",
        "    a = x @ V                         # (10.6.3)\n",
        "    b = sigmoid(a)                    # (10.6.4)\n",
        "    b1 = np.insert(b, 0, 1, axis=1)   # ダミー変数の追加\n",
        "    u = b1 @ W                        # (10.6.5)\n",
        "    yp = softmax(u)                   # (10.6.6)\n",
        "\n",
        "    # 誤差計算\n",
        "    yd = yp - yt                      # (10.6.7)\n",
        "    bd = b * (1-b) * (yd @ W[1:].T)   # (10.6.8)\n",
        "\n",
        "    # 勾配計算\n",
        "    W = W - alpha * (b1.T @ yd) / B   # (10.6.9)\n",
        "    V = V - alpha * (x.T @ bd) / B    # (10.6.10)\n",
        "\n",
        "    if next_flag: # 1epoch 終了後の処理\n",
        "        score, loss = evaluate(\n",
        "            x_test, y_test, y_test_one, V, W)\n",
        "        history2 = np.vstack((history2,\n",
        "            np.array([epoch, loss, score])))\n",
        "        print(\"epoch = %d loss = %f score = %f\"\n",
        "            % (epoch, loss, score))\n",
        "        epoch = epoch + 1"
      ]
    },
    {
      "cell_type": "markdown",
      "metadata": {
        "id": "lTh7Jc4OJo6Q"
      },
      "source": [
        "### 結果確認　その2"
      ]
    },
    {
      "cell_type": "code",
      "execution_count": null,
      "metadata": {
        "id": "e2s1gfumJo6Q"
      },
      "outputs": [],
      "source": [
        "#損失関数値と精度の確認\n",
        "print('初期状態: 損失関数:%f 精度:%f'\n",
        "        % (history2[0,1], history2[0,2]))\n",
        "print('最終状態: 損失関数:%f 精度:%f'\n",
        "        % (history2[-1,1], history2[-1,2]))"
      ]
    },
    {
      "cell_type": "code",
      "execution_count": null,
      "metadata": {
        "id": "8tnSCjJJJo6Q"
      },
      "outputs": [],
      "source": [
        "# 学習曲線の表示 (損失関数値)\n",
        "plt.plot(history2[:,0], history2[:,1])\n",
        "plt.ylim(0,2.5)\n",
        "plt.xticks(size=14)\n",
        "plt.yticks(size=14)\n",
        "plt.grid(lw=2)\n",
        "plt.show()"
      ]
    },
    {
      "cell_type": "code",
      "execution_count": null,
      "metadata": {
        "id": "ryiprGRyJo6Q"
      },
      "outputs": [],
      "source": [
        "# 学習曲線の表示 (精度)\n",
        "plt.plot(history2[:,0], history2[:,2])\n",
        "plt.ylim(0,1)\n",
        "plt.xticks(size=14)\n",
        "plt.yticks(size=14)\n",
        "plt.grid(lw=2)\n",
        "plt.show()"
      ]
    },
    {
      "cell_type": "markdown",
      "metadata": {
        "id": "7rqKIBQ-Jo6R"
      },
      "source": [
        "## 10.9 ReLU関数の導入"
      ]
    },
    {
      "cell_type": "code",
      "execution_count": null,
      "metadata": {
        "id": "sFo6VKfuJo6R"
      },
      "outputs": [],
      "source": [
        "# ReLU関数\n",
        "def ReLU(x):\n",
        "    return np.maximum(0, x)"
      ]
    },
    {
      "cell_type": "code",
      "execution_count": null,
      "metadata": {
        "id": "P4wPV8IDJo6R"
      },
      "outputs": [],
      "source": [
        "# step関数\n",
        "def step(x):\n",
        "    return 1.0 * ( x > 0)"
      ]
    },
    {
      "cell_type": "code",
      "execution_count": null,
      "metadata": {
        "id": "pgXgJzZxJo6R"
      },
      "outputs": [],
      "source": [
        "# ReLU関数とstep関数のグラフ表示\n",
        "\n",
        "xx =  np.linspace(-4, 4, 501)\n",
        "yy = ReLU(xx)\n",
        "plt.figure(figsize=(6,6))\n",
        "#plt.ylim(0.0, 1.0)\n",
        "plt.xlim(-4, 4)\n",
        "plt.ylim(-4, 4)\n",
        "plt.xlabel(r'$x$', fontsize=14)\n",
        "plt.ylabel(r'$y$', fontsize=14)\n",
        "plt.grid(lw=2)\n",
        "plt.plot(xx, ReLU(xx), c='b', label='ReLU', linestyle='-', lw=3)\n",
        "plt.plot(xx, step(xx), c='k', label='step', linestyle='-.', lw=3)\n",
        "plt.xticks(size=14)\n",
        "plt.yticks(size=14)\n",
        "plt.legend(fontsize=14)\n",
        "plt.show()"
      ]
    },
    {
      "cell_type": "markdown",
      "metadata": {
        "id": "UxX5zIiEJo6R"
      },
      "source": [
        "### 評価　その2"
      ]
    },
    {
      "cell_type": "code",
      "execution_count": null,
      "metadata": {
        "id": "NfcDiZnoJo6R"
      },
      "outputs": [],
      "source": [
        "# 評価処理 (ReLU関数対応版)\n",
        "from sklearn.metrics import accuracy_score\n",
        "\n",
        "def evaluate2(x_test, y_test, y_test_one, V, W):\n",
        "    b1_test = np.insert(ReLU(x_test @ V), 0, 1, axis=1)\n",
        "    yp_test_one = softmax(b1_test @ W)\n",
        "    yp_test = np.argmax(yp_test_one, axis=1)\n",
        "    loss = cross_entropy(y_test_one, yp_test_one)\n",
        "    score = accuracy_score(y_test, yp_test)\n",
        "    return score, loss"
      ]
    },
    {
      "cell_type": "markdown",
      "metadata": {
        "id": "e8T3R4bvJo6R"
      },
      "source": [
        "### 初期化処理"
      ]
    },
    {
      "cell_type": "code",
      "execution_count": null,
      "metadata": {
        "scrolled": false,
        "id": "K1Sje_QeJo6R"
      },
      "outputs": [],
      "source": [
        "# 変数初期宣言 重み行列の初期化方式変更\n",
        "# 隠れ層のノード数\n",
        "H = 128\n",
        "H1 = H + 1\n",
        "# M: 訓練用系列データ総数\n",
        "M  = x_train.shape[0]\n",
        "\n",
        "# D: 入力データ次元数\n",
        "D = x_train.shape[1]\n",
        "\n",
        "# N: 分類クラス数\n",
        "N = y_train_one.shape[1]\n",
        "\n",
        "# 機械学習パラメータ\n",
        "alpha = 0.01\n",
        "nb_epoch = 100\n",
        "batch_size = 512\n",
        "B = batch_size\n",
        "\n",
        "# 重み行列の初期設定\n",
        "np.random.seed(123)\n",
        "V = np.random.randn(D, H) / np.sqrt(D / 2)\n",
        "W = np.random.randn(H1, N) / np.sqrt(H1 / 2)\n",
        "\n",
        "# 評価結果記録用 (損失関数値と精度)\n",
        "history3 = np.zeros((0, 3))\n",
        "\n",
        "# ミニバッチ用関数初期化\n",
        "indexes = Indexes(M, batch_size)\n",
        "\n",
        "# 繰り返し回数カウンタ初期化\n",
        "epoch = 0"
      ]
    },
    {
      "cell_type": "markdown",
      "metadata": {
        "id": "jmoiUih3Jo6R"
      },
      "source": [
        "### メイン処理"
      ]
    },
    {
      "cell_type": "code",
      "execution_count": null,
      "metadata": {
        "scrolled": false,
        "id": "gjx7v2YlJo6R"
      },
      "outputs": [],
      "source": [
        "# メイン処理 (シグモイド関数をLeRU関数に変更)\n",
        "while epoch < nb_epoch:\n",
        "\n",
        "    # 学習対象の選択(ミニバッチ学習法)\n",
        "    index, next_flag = indexes.next_index()\n",
        "    x, yt = x_train[index], y_train_one[index]\n",
        "\n",
        "    # 予測値計算 (順伝播)\n",
        "    a = x @ V                         # (10.6.3)\n",
        "    b = ReLU(a)                       # (10.6.4) ReLU化\n",
        "    b1 = np.insert(b, 0, 1, axis=1)   # ダミー変数の追加\n",
        "    u = b1 @ W                        # (10.6.5)\n",
        "    yp = softmax(u)                   # (10.6.6)\n",
        "\n",
        "    # 誤差計算\n",
        "    yd = yp - yt                      # (10.6.7)\n",
        "    bd = step(a) * (yd @ W[1:].T)     #(10.6.8) ReLU化\n",
        "\n",
        "    # 勾配計算\n",
        "    W = W - alpha * (b1.T @ yd) / B   # (10.6.9)\n",
        "    V = V - alpha * (x.T @ bd) / B    # (10.6.10)\n",
        "\n",
        "    if next_flag: # 1epoch 終了後の処理\n",
        "        score, loss = evaluate2(\n",
        "            x_test, y_test, y_test_one, V, W)\n",
        "        history3 = np.vstack((history3,\n",
        "            np.array([epoch, loss, score])))\n",
        "        print(\"epoch = %d loss = %f score = %f\"\n",
        "            % (epoch, loss, score))\n",
        "        epoch = epoch + 1"
      ]
    },
    {
      "cell_type": "markdown",
      "metadata": {
        "id": "iAEebwj8Jo6S"
      },
      "source": [
        "### 結果確認　その3"
      ]
    },
    {
      "cell_type": "code",
      "execution_count": null,
      "metadata": {
        "id": "E4wNk1YLJo6S"
      },
      "outputs": [],
      "source": [
        "#損失関数値と精度の確認\n",
        "print('初期状態: 損失関数:%f 精度:%f'\n",
        "        % (history3[0,1], history3[0,2]))\n",
        "print('最終状態: 損失関数:%f 精度:%f'\n",
        "        % (history3[-1,1], history3[-1,2]))"
      ]
    },
    {
      "cell_type": "code",
      "execution_count": null,
      "metadata": {
        "id": "iz57pKSWJo6S"
      },
      "outputs": [],
      "source": [
        "# 学習曲線の表示 (損失関数値)\n",
        "plt.plot(history3[:,0], history3[:,1])\n",
        "plt.ylim(0,2.5)\n",
        "plt.xticks(size=14)\n",
        "plt.yticks(size=14)\n",
        "plt.grid(lw=2)\n",
        "plt.show()"
      ]
    },
    {
      "cell_type": "code",
      "execution_count": null,
      "metadata": {
        "id": "scaTIBZKJo6S"
      },
      "outputs": [],
      "source": [
        "# 学習曲線の表示 (精度)\n",
        "plt.plot(history3[:,0], history3[:,2])\n",
        "plt.ylim(0,1)\n",
        "plt.xticks(size=14)\n",
        "plt.yticks(size=14)\n",
        "plt.grid(lw=2)\n",
        "plt.show()"
      ]
    },
    {
      "cell_type": "code",
      "execution_count": null,
      "metadata": {
        "id": "6tumNeYFJo6S"
      },
      "outputs": [],
      "source": [
        "# データ内容の確認\n",
        "# 2020-06-17\n",
        "# 読み込みデータが変わったため、図10-22と画像が変わっています。\n",
        "\n",
        "import matplotlib.pyplot as plt\n",
        "N = 20\n",
        "np.random.seed(12)\n",
        "indexes = np.random.choice(y_test.shape[0], N, replace=False)\n",
        "\n",
        "# x_orgの選択結果表示 (白黒反転)\n",
        "x_selected = x_test[indexes]\n",
        "y_selected = y_test[indexes]\n",
        "\n",
        "# 予測値の計算\n",
        "b1_test = np.insert(ReLU(x_selected @ V), 0, 1, axis=1)\n",
        "yp_test_one = softmax(b1_test @ W)\n",
        "yp_test = np.argmax(yp_test_one, axis=1)\n",
        "\n",
        "# グラフ表示\n",
        "plt.figure(figsize=(10, 3))\n",
        "for i in range(N):\n",
        "    ax = plt.subplot(2, int(N/2), i + 1)\n",
        "    plt.imshow(x_selected[i,1:].reshape(28, 28),cmap='gray_r')\n",
        "    ax.set_title('%d:%d' % (y_selected[i], yp_test[i]),fontsize=14 )\n",
        "    ax.get_xaxis().set_visible(False)\n",
        "    ax.get_yaxis().set_visible(False)\n",
        "plt.show()"
      ]
    },
    {
      "cell_type": "markdown",
      "metadata": {
        "id": "fTafN0UHJo6S"
      },
      "source": [
        "## 10.10 隠れ層2階層化"
      ]
    },
    {
      "cell_type": "markdown",
      "metadata": {
        "id": "5sZ0K1RtJo6S"
      },
      "source": [
        "### 評価"
      ]
    },
    {
      "cell_type": "code",
      "execution_count": null,
      "metadata": {
        "id": "oNkMYqzfJo6S"
      },
      "outputs": [],
      "source": [
        "# 評価処理 (隠れ層2階層対応版)\n",
        "from sklearn.metrics import accuracy_score\n",
        "\n",
        "def evaluate3(x_test, y_test, y_test_one, U, V, W):\n",
        "    b1_test = np.insert(ReLU(x_test @ U), 0, 1, axis=1)\n",
        "    d1_test = np.insert(ReLU(b1_test @ V), 0, 1, axis=1)\n",
        "    yp_test_one = softmax(d1_test @ W)\n",
        "    yp_test = np.argmax(yp_test_one, axis=1)\n",
        "    loss = cross_entropy(y_test_one, yp_test_one)\n",
        "    score = accuracy_score(y_test, yp_test)\n",
        "    return score, loss"
      ]
    },
    {
      "cell_type": "markdown",
      "metadata": {
        "id": "L5ivt7EXJo6S"
      },
      "source": [
        "### 初期化処理　その3"
      ]
    },
    {
      "cell_type": "code",
      "execution_count": null,
      "metadata": {
        "scrolled": false,
        "id": "baRVLbhwJo6T"
      },
      "outputs": [],
      "source": [
        "# 変数初期宣言 重み行列の初期化方式変更\n",
        "# 隠れ層のノード数\n",
        "H = 128\n",
        "H1 = H + 1\n",
        "# M: 訓練用系列データ総数\n",
        "M  = x_train.shape[0]\n",
        "\n",
        "# D: 入力データ次元数\n",
        "D = x_train.shape[1]\n",
        "\n",
        "# N: 分類クラス数\n",
        "N = y_train_one.shape[1]\n",
        "\n",
        "# 機械学習パラメータ\n",
        "alpha = 0.01\n",
        "nb_epoch = 200\n",
        "batch_size = 512\n",
        "B = batch_size\n",
        "\n",
        "# 重み行列の初期設定\n",
        "np.random.seed(123)\n",
        "U = np.random.randn(D, H) / np.sqrt(D / 2)\n",
        "V = np.random.randn(H1, H) / np.sqrt(H1 / 2)\n",
        "W = np.random.randn(H1, N) / np.sqrt(H1 / 2)\n",
        "\n",
        "# 評価結果記録用 (損失関数値と精度)\n",
        "history4 = np.zeros((0, 3))\n",
        "\n",
        "# ミニバッチ用関数初期化\n",
        "indexes = Indexes(M, batch_size)\n",
        "\n",
        "# 繰り返し回数カウンタ初期化\n",
        "epoch = 0"
      ]
    },
    {
      "cell_type": "markdown",
      "metadata": {
        "id": "2xlzVwkSJo6T"
      },
      "source": [
        "### メイン処理　その4"
      ]
    },
    {
      "cell_type": "code",
      "execution_count": null,
      "metadata": {
        "scrolled": false,
        "id": "GwkUNG4tJo6T"
      },
      "outputs": [],
      "source": [
        "# メイン処理 (隠れ層2層化)\n",
        "\n",
        "while epoch < nb_epoch:\n",
        "    # 学習対象の選択(ミニバッチ学習法)\n",
        "    index, next_flag = indexes.next_index()\n",
        "    x, yt = x_train[index], y_train_one[index]\n",
        "\n",
        "    # 予測値計算 (順伝播)\n",
        "    a = x @ U                        # (10.6.11)\n",
        "    b = ReLU(a)                      # (10.6.12)\n",
        "    b1 = np.insert(b, 0, 1, axis=1)  # ダミー変数の追加\n",
        "    c = b1 @ V                       # (10.6.13)\n",
        "    d = ReLU(c)                      # (10.6.14)\n",
        "    d1 = np.insert(d, 0, 1, axis=1)  # ダミー変数の追加\n",
        "    u = d1 @ W                       # (10.6.15)\n",
        "    yp = softmax(u)                  # (10.6.16)\n",
        "\n",
        "    # 誤差計算\n",
        "    yd = yp - yt                     # (10.6.17)\n",
        "    dd = step(c) * (yd @ W[1:].T)    # (10.6.18)\n",
        "    bd = step(a) * (dd @ V[1:].T)    # (10.6.19)\n",
        "\n",
        "    # 勾配計算\n",
        "    W = W - alpha * (d1.T @ yd) / B  # (10.6.20)\n",
        "    V = V - alpha * (b1.T @ dd) / B  # (10.6.21)\n",
        "    U = U - alpha * (x.T @ bd) / B   # (10.6.22)\n",
        "\n",
        "    if next_flag: # 1epoch 終了後の処理\n",
        "        score, loss = evaluate3(\n",
        "            x_test, y_test, y_test_one, U, V, W)\n",
        "        history4 = np.vstack((history4,\n",
        "            np.array([epoch, loss, score])))\n",
        "        print(\"epoch = %d loss = %f score = %f\"\n",
        "            % (epoch, loss, score))\n",
        "        epoch = epoch + 1"
      ]
    },
    {
      "cell_type": "markdown",
      "metadata": {
        "id": "MbMSf0k_Jo6T"
      },
      "source": [
        "### 結果の確認"
      ]
    },
    {
      "cell_type": "code",
      "execution_count": null,
      "metadata": {
        "id": "h0hvSCrjJo6T"
      },
      "outputs": [],
      "source": [
        "#損失関数値と精度の確認\n",
        "print('初期状態: 損失関数:%f 精度:%f'\n",
        "    % (history4[1,1], history4[1,2]))\n",
        "print('最終状態: 損失関数:%f 精度:%f'\n",
        "    % (history4[-1,1], history4[-1,2]))"
      ]
    },
    {
      "cell_type": "code",
      "execution_count": null,
      "metadata": {
        "id": "BJiW7ypKJo6T"
      },
      "outputs": [],
      "source": [
        "# 学習曲線の表示 (損失関数値)\n",
        "plt.plot(history4[:,0], history4[:,1])\n",
        "plt.ylim(0,2.5)\n",
        "plt.xticks(size=14)\n",
        "plt.yticks(size=14)\n",
        "plt.grid(lw=2)\n",
        "plt.show()"
      ]
    },
    {
      "cell_type": "code",
      "execution_count": null,
      "metadata": {
        "id": "fW7J5SGfJo6T"
      },
      "outputs": [],
      "source": [
        "# 学習曲線の表示 (精度)\n",
        "plt.plot(history4[:,0], history4[:,2])\n",
        "plt.ylim(0,1)\n",
        "plt.xticks(size=14)\n",
        "plt.yticks(size=14)\n",
        "plt.grid(lw=2)\n",
        "plt.show()"
      ]
    },
    {
      "cell_type": "code",
      "execution_count": null,
      "metadata": {
        "id": "CS6aADXcJo6T"
      },
      "outputs": [],
      "source": [
        "# データ内容の確認\n",
        "# 2020-06-17\n",
        "# 読み込みデータが変わったため、図10-26と画像が変わっています。\n",
        "\n",
        "import matplotlib.pyplot as plt\n",
        "N = 20\n",
        "np.random.seed(12)\n",
        "indexes = np.random.choice(y_test.shape[0], N, replace=False)\n",
        "\n",
        "# x_orgの選択結果表示 (白黒反転)\n",
        "x_selected = x_test[indexes]\n",
        "y_selected = y_test[indexes]\n",
        "\n",
        "# 予測値の計算\n",
        "b1_test = np.insert(ReLU(x_selected @ U), 0, 1, axis=1)\n",
        "d1_test = np.insert(ReLU(b1_test @ V), 0, 1, axis=1)\n",
        "yp_test_one = softmax(d1_test @ W)\n",
        "yp_test = np.argmax(yp_test_one, axis=1)\n",
        "\n",
        "# グラフ表示\n",
        "plt.figure(figsize=(10, 3))\n",
        "for i in range(N):\n",
        "    ax = plt.subplot(2, int(N/2), i + 1)\n",
        "    plt.imshow(x_selected[i,1:].reshape(28, 28),cmap='gray_r')\n",
        "    ax.set_title('%d:%d' % (y_selected[i], yp_test[i]),fontsize=14 )\n",
        "    ax.get_xaxis().set_visible(False)\n",
        "    ax.get_yaxis().set_visible(False)\n",
        "plt.show()"
      ]
    },
    {
      "cell_type": "code",
      "execution_count": null,
      "metadata": {
        "id": "k6yEONoCJo6T"
      },
      "outputs": [],
      "source": []
    }
  ],
  "metadata": {
    "kernelspec": {
      "display_name": "Python 3 (ipykernel)",
      "language": "python",
      "name": "python3"
    },
    "language_info": {
      "codemirror_mode": {
        "name": "ipython",
        "version": 3
      },
      "file_extension": ".py",
      "mimetype": "text/x-python",
      "name": "python",
      "nbconvert_exporter": "python",
      "pygments_lexer": "ipython3",
      "version": "3.9.7"
    },
    "colab": {
      "provenance": []
    }
  },
  "nbformat": 4,
  "nbformat_minor": 0
}